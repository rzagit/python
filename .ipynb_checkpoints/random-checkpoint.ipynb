{
 "cells": [
  {
   "cell_type": "code",
   "execution_count": 23,
   "metadata": {},
   "outputs": [
    {
     "name": "stdout",
     "output_type": "stream",
     "text": [
      "Введите целое число от 0 до 9: 5\n",
      "Нет, загаданное число 3\n"
     ]
    }
   ],
   "source": [
    "import random\n",
    "number = random.randint(0, 9)\n",
    "guess = int(input('Введите целое число от 0 до 9: '))\n",
    "if guess == number:\n",
    "    print('Поздравляю, вы угадали,')\n",
    "elif guess < number:\n",
    "    print('Нет, загаданное число', number) \n",
    "else:\n",
    "    print('Нет, загаданное число', number)\n",
    "  "
   ]
  }
 ],
 "metadata": {
  "kernelspec": {
   "display_name": "Python 3",
   "language": "python",
   "name": "python3"
  },
  "language_info": {
   "codemirror_mode": {
    "name": "ipython",
    "version": 3
   },
   "file_extension": ".py",
   "mimetype": "text/x-python",
   "name": "python",
   "nbconvert_exporter": "python",
   "pygments_lexer": "ipython3",
   "version": "3.7.6"
  }
 },
 "nbformat": 4,
 "nbformat_minor": 4
}
