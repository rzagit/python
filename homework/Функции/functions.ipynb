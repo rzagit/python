{
 "cells": [
  {
   "cell_type": "markdown",
   "metadata": {},
   "source": [
    "Вы работаете секретарем и вам постоянно приходят различные документы. Вы должны быть очень внимательны, чтобы не потерять ни один документ. Каталог документов хранится в следующем виде:"
   ]
  },
  {
   "cell_type": "code",
   "execution_count": 6,
   "metadata": {},
   "outputs": [],
   "source": [
    "documents = [\n",
    "    {'type': 'passport', 'number': '2207 876234', 'name': 'Василий Гупкин'},\n",
    "    {'type': 'invoice', 'number': '11-2', 'name': 'Геннадий Покемонов'},\n",
    "    {'type': 'insurance', 'number': '10006', 'name': 'Аристарх Павлов'}\n",
    "]"
   ]
  },
  {
   "cell_type": "markdown",
   "metadata": {},
   "source": [
    "Перечень полок, на которых находятся документы хранится в следующем виде:"
   ]
  },
  {
   "cell_type": "code",
   "execution_count": 7,
   "metadata": {},
   "outputs": [],
   "source": [
    "directories = {\n",
    "    '1': ['2207 876234', '11-2'],\n",
    "    '2': ['10006'],\n",
    "    '3': ['11-2']\n",
    "}"
   ]
  },
  {
   "cell_type": "markdown",
   "metadata": {},
   "source": [
    "Необходимо реализовать пользовательские команды (внимание! это не название функций, которые должны быть выразительными, а команды, которые вводит пользователь, чтобы получить необходимый результат):\n",
    "  \n",
    "- p – people – команда, которая спросит номер документа и выведет имя человека, которому он принадлежит;  \n",
    "- s – shelf – команда, которая спросит номер документа и выведет номер полки, на которой он находится  \n",
    "*Правильно обработайте ситуации, когда пользователь будет вводить несуществующий документ*.\n",
    "- l – list – команда, которая выведет список всех документов в формате   \n",
    "**passport \"2207 876234\" \"Василий Гупкин\"**  \n",
    "- as – add shelf – команда, которая спросит номер новой полки и добавит ее в перечень. *Предусмотрите случай, когда пользователь добавляет полку, которая уже существует*.\n",
    "- d – delete – команда, которая спросит номер документа и удалит его из каталога и из перечня полок. *Предусмотрите сценарий, когда пользователь вводит несуществующий документ*;  \n",
    "- m – move – команда, которая спросит номер документа и целевую полку и переместит его с текущей полки на целевую. *Корректно обработайте кейсы, когда пользователь пытается переместить несуществующий документ или переместить документ на несуществующую полку*;  \n",
    "- a – add – команда, которая добавит новый документ в каталог и в перечень полок, спросив его номер, тип, имя владельца и номер полки, на котором он будет храниться. *Корректно обработайте ситуацию, когда пользователь будет пытаться добавить документ на несуществующую полку*."
   ]
  },
  {
   "cell_type": "code",
   "execution_count": 8,
   "metadata": {},
   "outputs": [
    {
     "name": "stdout",
     "output_type": "stream",
     "text": [
      "Пользовательские команды: \n",
      "p или people - узнать владельца документа\n",
      "s или shelf - узнать номер полки документа\n",
      "l или list - посмотреть список всех документов\n",
      "d или delete - добавить новую полку\n",
      "m или move - переместить документ с одной полки на другую\n",
      "a или add - добавить новый документ\n",
      "Введите команду: p\n",
      "Введите номер документа:7890\n",
      "Документ с номером 7890 не найден\n"
     ]
    }
   ],
   "source": [
    "print('Пользовательские команды: ')\n",
    "print('p или people - узнать владельца документа')\n",
    "print('s или shelf - узнать номер полки документа')\n",
    "print('l или list - посмотреть список всех документов')\n",
    "print('d или delete - добавить новую полку')\n",
    "print('m или move - переместить документ с одной полки на другую')\n",
    "print('a или add - добавить новый документ')\n",
    "command = input('Введите команду: ')\n",
    "if command.lower() == 'p' or command.lower() == 'people':\n",
    "    ask_number_get_name()\n",
    "       \n",
    "elif command.lower() == 's' or command.lower() == 'shelf':\n",
    "    ask_number_get_directory()\n",
    "        \n",
    "elif command.lower() == 'l' or command.lower() == 'list':\n",
    "    get_all()\n",
    "\n",
    "elif command.lower() == 'as' or command.lower() == 'add shelf':    \n",
    "    add_new_directory()\n",
    "        \n",
    "elif command.lower() == 'd' or command.lower() == 'delete':\n",
    "    delete_document()\n",
    "        \n",
    "elif command.lower() == 'm' or command.lower() == 'move':\n",
    "    move_document()\n",
    "       \n",
    "elif command.lower() == 'a' or command.lower() == 'add':\n",
    "    add_new_file()\n",
    "        \n",
    "else:\n",
    "    print('Неверная команда')\n",
    "    "
   ]
  },
  {
   "cell_type": "code",
   "execution_count": 4,
   "metadata": {},
   "outputs": [],
   "source": [
    "def ask_number_get_name():\n",
    "    '''\n",
    "    Функция поиска владельца документа по номеру\n",
    "    '''\n",
    "    doc_number = input('Введите номер документа:')\n",
    "    for num,dictionary in enumerate(documents):\n",
    "        if doc_number not in dictionary['number'] and num < len(documents) - 1:\n",
    "            continue\n",
    "        elif doc_number in dictionary['number']:\n",
    "                print(f'Документ принадлежит {dictionary[\"name\"]}')\n",
    "                break\n",
    "        elif doc_number not in dictionary['number']:\n",
    "            print(f'Документ с номером {doc_number} не найден')"
   ]
  },
  {
   "cell_type": "code",
   "execution_count": 6,
   "metadata": {},
   "outputs": [],
   "source": [
    "def ask_number_get_directory():\n",
    "    '''\n",
    "    Функция поиска местонахождения документа по номеру\n",
    "    '''\n",
    "    doc_number = input('Введите номер документа:')\n",
    "    for num, dictionary in enumerate(directories.items()):\n",
    "        if doc_number not in dictionary[1] and num < len(directories)-1:\n",
    "            continue\n",
    "        if doc_number in dictionary[1]:\n",
    "            print(f'Документ находится на {dictionary[0]} полке')\n",
    "            break\n",
    "        elif doc_number not in dictionary[1]:\n",
    "            print(f'Документ с номером {doc_number} не найден')        "
   ]
  },
  {
   "cell_type": "code",
   "execution_count": 7,
   "metadata": {},
   "outputs": [],
   "source": [
    "def get_all():\n",
    "    '''\n",
    "    Функция вывода всех данных\n",
    "    '''\n",
    "    for dictionary in documents:\n",
    "        print(f'{dictionary[\"type\"]} \"{dictionary[\"number\"]}\" \"{dictionary[\"name\"]}\"')        "
   ]
  },
  {
   "cell_type": "code",
   "execution_count": 8,
   "metadata": {},
   "outputs": [],
   "source": [
    "def add_new_directory():\n",
    "    '''\n",
    "    Функция добавление новой полки\n",
    "    '''\n",
    "    dir_name = input('Введите номер новой полки: ')\n",
    "    if dir_name in directories:\n",
    "        directories.setdefault(dir_name)\n",
    "        print('Полка с таким номером уже существует')\n",
    "    elif dir_name not in directories:\n",
    "        directories.setdefault(dir_name)\n",
    "        print('Полка добавлена')"
   ]
  },
  {
   "cell_type": "code",
   "execution_count": 9,
   "metadata": {},
   "outputs": [],
   "source": [
    "def delete_document():\n",
    "    '''\n",
    "    Функция удаления документа из всех директорий\n",
    "    '''\n",
    "    doc_number = input('Введите номер документа, который хотите удалить: ') \n",
    "    for  num, dictionary in enumerate(documents):\n",
    "        if doc_number not in dictionary['number'] and num < len(documents) - 1:\n",
    "            continue\n",
    "        elif doc_number in dictionary['number']:\n",
    "            del(documents[num])\n",
    "            print('Документ удален из каталога')\n",
    "            for dictionary2 in directories.items():\n",
    "                if doc_number not in dictionary2[1] :\n",
    "                    continue\n",
    "                elif doc_number in dictionary2[1]:\n",
    "                    directories[dictionary2[0]].remove(doc_number)\n",
    "                    print('Документ удален из полки')\n",
    "        elif doc_number not in dictionary['number']:\n",
    "            print('Документ с таким номером отсутствует')"
   ]
  },
  {
   "cell_type": "code",
   "execution_count": 10,
   "metadata": {},
   "outputs": [],
   "source": [
    "def move_document():\n",
    "    '''\n",
    "    Функция перемещение документа\n",
    "    '''\n",
    "    doc_number = input('Введите номер документа: ')\n",
    "    dir_number = input('Введите номер полки: ')\n",
    "    if dir_number not in directories.keys():\n",
    "        print('Указанная полка не существует')\n",
    "    else:\n",
    "        for num,dictionary in enumerate(documents):\n",
    "            if doc_number not in dictionary['number'] and num < len(documents) - 1:\n",
    "                continue\n",
    "            elif doc_number in dictionary['number']:\n",
    "                for num2, x in enumerate(directories.items()):\n",
    "                    if doc_number not in x[1] and num2 < len(directories) -1:\n",
    "                        continue\n",
    "                    elif doc_number in x[1]:  \n",
    "                        directories[x[0]].remove(doc_number)  \n",
    "                        if doc_number not in x[1]:\n",
    "                            directories[dir_number].append(doc_number)\n",
    "                            print('Документ перемещён')\n",
    "            elif doc_number not in dictionary['number']:\n",
    "                print('Документ с данным номером не существует')"
   ]
  },
  {
   "cell_type": "code",
   "execution_count": 11,
   "metadata": {},
   "outputs": [],
   "source": [
    "def add_new_file():\n",
    "    '''\n",
    "    Функция добавления нового документа\n",
    "    '''\n",
    "    doc_type = input('Введите тип документа: ')\n",
    "    doc_number = input('Введите номер документа: ')\n",
    "    doc_name = input('Введите ФИО владельца документа: ')\n",
    "    dir_number = input('Введите номер полки хранения документа: ')\n",
    "    temp_dict = {}\n",
    "    temp_list = []\n",
    "    if dir_number not in directories.keys():\n",
    "        new_dir = input('Указанная полка не существует, создать? (да/нет) ')\n",
    "        if new_dir.lower() == 'да':\n",
    "            temp_list.append(doc_number)   \n",
    "            directories.setdefault(dir_number, temp_list)  \n",
    "            temp_dict.setdefault('type', doc_type)\n",
    "            temp_dict.setdefault('number', doc_number)\n",
    "            temp_dict.setdefault('name', doc_name)\n",
    "            documents.append(temp_dict)\n",
    "        else:\n",
    "            print('Работа завершена, попробуйте заново')\n",
    "    else:\n",
    "        directories[dir_number].append(doc_number)   \n",
    "        temp_dict.setdefault('type', doc_type)\n",
    "        temp_dict.setdefault('number', doc_number)\n",
    "        temp_dict.setdefault('name', doc_name)\n",
    "        documents.append(temp_dict)"
   ]
  }
 ],
 "metadata": {
  "kernelspec": {
   "display_name": "Python 3",
   "language": "python",
   "name": "python3"
  },
  "language_info": {
   "codemirror_mode": {
    "name": "ipython",
    "version": 3
   },
   "file_extension": ".py",
   "mimetype": "text/x-python",
   "name": "python",
   "nbconvert_exporter": "python",
   "pygments_lexer": "ipython3",
   "version": "3.7.6"
  }
 },
 "nbformat": 4,
 "nbformat_minor": 2
}
