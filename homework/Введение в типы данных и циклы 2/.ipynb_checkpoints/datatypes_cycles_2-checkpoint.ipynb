{
 "cells": [
  {
   "cell_type": "markdown",
   "metadata": {},
   "source": [
    "**Задание 1**. Дан список с визитами по городам и странам. \n",
    "Напишите код, который возвращает отфильтрованный список geo_logs, содержащий только визиты из России."
   ]
  },
  {
   "cell_type": "code",
   "execution_count": 1,
   "metadata": {},
   "outputs": [],
   "source": [
    "geo_logs = [\n",
    "    {'visit1': ['Москва', 'Россия']},\n",
    "    {'visit2': ['Дели', 'Индия']},\n",
    "    {'visit3': ['Владимир', 'Россия']},\n",
    "    {'visit4': ['Лиссабон', 'Португалия']},\n",
    "    {'visit5': ['Париж', 'Франция']},\n",
    "    {'visit6': ['Лиссабон', 'Португалия']},\n",
    "    {'visit7': ['Тула', 'Россия']},\n",
    "    {'visit8': ['Тула', 'Россия']},\n",
    "    {'visit9': ['Курск', 'Россия']},\n",
    "    {'visit10': ['Архангельск', 'Россия']}\n",
    "]"
   ]
  },
  {
   "cell_type": "code",
   "execution_count": 2,
   "metadata": {},
   "outputs": [
    {
     "name": "stdout",
     "output_type": "stream",
     "text": [
      "[{'visit1': ['Москва', 'Россия']},\n",
      " {'visit3': ['Владимир', 'Россия']},\n",
      " {'visit5': ['Париж', 'Франция']},\n",
      " {'visit7': ['Тула', 'Россия']},\n",
      " {'visit8': ['Тула', 'Россия']},\n",
      " {'visit9': ['Курск', 'Россия']},\n",
      " {'visit10': ['Архангельск', 'Россия']}]\n"
     ]
    }
   ],
   "source": [
    "from pprint import pprint\n",
    "for row in geo_logs:\n",
    "    if list(row.values())[0][1] != 'Россия':\n",
    "        geo_logs.remove(row)\n",
    "pprint(geo_logs)"
   ]
  },
  {
   "cell_type": "markdown",
   "metadata": {},
   "source": [
    "**Задание 2**. Выведите на экран все уникальные гео-ID из значений словаря ids. Т. е. список вида [213, 15, 54, 119, 98, 35]"
   ]
  },
  {
   "cell_type": "code",
   "execution_count": 3,
   "metadata": {},
   "outputs": [],
   "source": [
    "ids = {'user1': [213, 213, 213, 15, 213], \n",
    "       'user2': [54, 54, 119, 119, 119], \n",
    "       'user3': [213, 98, 98, 35]}"
   ]
  },
  {
   "cell_type": "code",
   "execution_count": 4,
   "metadata": {},
   "outputs": [
    {
     "name": "stdout",
     "output_type": "stream",
     "text": [
      "Уникальные гео-ID:\n",
      "[98, 35, 15, 213, 54, 119]\n"
     ]
    }
   ],
   "source": [
    "geo = []\n",
    "for i in list(ids.values()):\n",
    "    for z in i:\n",
    "        geo.append(z)\n",
    "unique_geo_id = list((set(geo)))\n",
    "print('Уникальные гео-ID:')\n",
    "print(unique_geo_id)"
   ]
  },
  {
   "cell_type": "markdown",
   "metadata": {},
   "source": [
    "**Задание 3**. Дан список поисковых запросов. Получить распределение количества слов в них. \n",
    "Т. е. поисковых запросов из одного - слова 5%, из двух - 7%, из трех - 3% и т.д."
   ]
  },
  {
   "cell_type": "code",
   "execution_count": 5,
   "metadata": {},
   "outputs": [],
   "source": [
    "queries = [\n",
    "    'смотреть сериалы онлайн',\n",
    "    'новости спорта',\n",
    "    'афиша кино',\n",
    "    'курс доллара',\n",
    "    'сериалы этим летом',\n",
    "    'курс по питону',\n",
    "    'сериалы про спорт'\n",
    "    \n",
    "]"
   ]
  },
  {
   "cell_type": "code",
   "execution_count": 6,
   "metadata": {},
   "outputs": [
    {
     "name": "stdout",
     "output_type": "stream",
     "text": [
      "[['смотреть', 'сериалы', 'онлайн'],\n",
      " ['новости', 'спорта'],\n",
      " ['афиша', 'кино'],\n",
      " ['курс', 'доллара'],\n",
      " ['сериалы', 'этим', 'летом'],\n",
      " ['курс', 'по', 'питону'],\n",
      " ['сериалы', 'про', 'спорт']]\n"
     ]
    }
   ],
   "source": [
    "from pprint import pprint\n",
    "word = []\n",
    "for e in queries:\n",
    "    word.append(e.split(' '))\n",
    "pprint(word)\n",
    "    "
   ]
  },
  {
   "cell_type": "code",
   "execution_count": 7,
   "metadata": {},
   "outputs": [
    {
     "name": "stdout",
     "output_type": "stream",
     "text": [
      "[2, 2, 2, 3, 3, 3, 3]\n"
     ]
    }
   ],
   "source": [
    "words_quantity = []\n",
    "for i in word:\n",
    "    words_quantity.append(len(i))\n",
    "print(sorted(words_quantity))"
   ]
  },
  {
   "cell_type": "code",
   "execution_count": 8,
   "metadata": {},
   "outputs": [
    {
     "name": "stdout",
     "output_type": "stream",
     "text": [
      "[2, 3]\n"
     ]
    }
   ],
   "source": [
    "number_of_words = []\n",
    "for j in set(words_quantity):\n",
    "    number_of_words.append(j)\n",
    "print(number_of_words)"
   ]
  },
  {
   "cell_type": "code",
   "execution_count": 9,
   "metadata": {},
   "outputs": [],
   "source": [
    "total_queries = len(queries)"
   ]
  },
  {
   "cell_type": "code",
   "execution_count": 10,
   "metadata": {
    "scrolled": true
   },
   "outputs": [
    {
     "name": "stdout",
     "output_type": "stream",
     "text": [
      "Распределение количества слов в запросах:\n",
      "Поисковых запросов из 2 слов 42.86%\n",
      "Поисковых запросов из 3 слов 57.14%\n"
     ]
    }
   ],
   "source": [
    "print('Распределение количества слов в запросах:')\n",
    "cont = 0\n",
    "while cont !=len(number_of_words):\n",
    "    u = words_quantity.count(number_of_words[cont])\n",
    "    cont+=1\n",
    "    percent = u / total_queries\n",
    "    print(f'Поисковых запросов из {number_of_words[cont-1]} слов {percent:.2%}')"
   ]
  },
  {
   "cell_type": "markdown",
   "metadata": {},
   "source": [
    "**Задание 4**. Дана статистика рекламных каналов по объемам продаж. Напишите скрипт, который возвращает название канала с максимальным объемом.\n",
    "Т. е. в данном примере скрипт должен возвращать 'yandex'."
   ]
  },
  {
   "cell_type": "code",
   "execution_count": 11,
   "metadata": {},
   "outputs": [],
   "source": [
    "stats = {'facebook': 55, 'yandex': 120, 'vk': 115, 'google': 99, 'email': 42, 'ok': 98}"
   ]
  },
  {
   "cell_type": "code",
   "execution_count": 12,
   "metadata": {},
   "outputs": [
    {
     "name": "stdout",
     "output_type": "stream",
     "text": [
      "yandex\n"
     ]
    }
   ],
   "source": [
    "increase_list = sorted(list(stats.items()), reverse = False)\n",
    "for company,value in increase_list:\n",
    "    maximum = company\n",
    "print(maximum)    "
   ]
  },
  {
   "cell_type": "markdown",
   "metadata": {},
   "source": [
    "**Задание 5**. Напишите код для преобразования произвольного списка вида ['2018-01-01', 'yandex', 'cpc', 100] (он может быть любой длины) в словарь {'2018-01-01': {'yandex': {'cpc': 100}}}"
   ]
  },
  {
   "cell_type": "code",
   "execution_count": 15,
   "metadata": {},
   "outputs": [],
   "source": [
    "spisok = ['2018-01-01', 'yandex', 'cpc', 100]"
   ]
  },
  {
   "cell_type": "code",
   "execution_count": 18,
   "metadata": {},
   "outputs": [
    {
     "name": "stdout",
     "output_type": "stream",
     "text": [
      "{'2018-01-01': {'yandex': {'cpc': 100}}}\n"
     ]
    }
   ],
   "source": [
    "my_dict = {}\n",
    "my_dict[spisok[0]] = {}\n",
    "my_dict[spisok[0]][spisok[1]] = {}\n",
    "my_dict[spisok[0]][spisok[1]][spisok[2]] = {}\n",
    "my_dict[spisok[0]][spisok[1]][spisok[2]] = spisok[3]\n",
    "print(my_dict)"
   ]
  },
  {
   "cell_type": "markdown",
   "metadata": {},
   "source": [
    "ниже решение в случае если список любой длины(если я правильно понял это условие)."
   ]
  },
  {
   "cell_type": "code",
   "execution_count": 19,
   "metadata": {},
   "outputs": [],
   "source": [
    "spisok_1 = [['2018-01-01', 'yandex', 'cpc', 100],['2020-01-01', 'google', 'cpc', 200]]"
   ]
  },
  {
   "cell_type": "code",
   "execution_count": 20,
   "metadata": {},
   "outputs": [
    {
     "name": "stdout",
     "output_type": "stream",
     "text": [
      "{'2018-01-01': {'yandex': {'cpc': 100}}, '2020-01-01': {'google': {'cpc': 200}}}\n"
     ]
    }
   ],
   "source": [
    "my_dict = {}\n",
    "for i in spisok_1:    \n",
    "    my_dict[i[0]] = {}\n",
    "    my_dict[i[0]][i[1]] = {}\n",
    "    my_dict[i[0]][i[1]][i[2]] = {}\n",
    "    my_dict[i[0]][i[1]][i[2]] = i[3]\n",
    "print(my_dict)"
   ]
  }
 ],
 "metadata": {
  "kernelspec": {
   "display_name": "Python 3",
   "language": "python",
   "name": "python3"
  },
  "language_info": {
   "codemirror_mode": {
    "name": "ipython",
    "version": 3
   },
   "file_extension": ".py",
   "mimetype": "text/x-python",
   "name": "python",
   "nbconvert_exporter": "python",
   "pygments_lexer": "ipython3",
   "version": "3.7.6"
  }
 },
 "nbformat": 4,
 "nbformat_minor": 2
}
