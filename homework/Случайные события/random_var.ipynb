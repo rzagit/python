{
 "cells": [
  {
   "cell_type": "markdown",
   "metadata": {},
   "source": [
    "Смоделировать игру против лотерейного автомата типа “777”. Игрок платит 1 руб., после чего выпадает случайное целое число, равномерно распределенное от 0 до 999. При некоторых значениях числа игрок получает выигрыш (см. справа)\n",
    "\n",
    "Выгодна ли игра игроку?\n",
    "\n",
    "Сколько в среднем приобретает\n",
    "или теряет игрок за одну игру?\n",
    "\n",
    "777: 200 руб.\n",
    "999: 100 руб.\n",
    "555: 50 руб.\n",
    "333: 15 руб.\n",
    "111: 10 руб.\n",
    "*77: 5 руб.\n",
    "**7: 3 руб.\n",
    "*00: 2 руб.\n",
    "**0: 1 руб.\n",
    "\n",
    "* – любая цифра\n",
    "Дополнительное задание повышенной сложности. Теоретически рассчитать средний выигрыш (проигрыш) и сравнить с результатами моделирования"
   ]
  },
  {
   "cell_type": "code",
   "execution_count": 48,
   "metadata": {},
   "outputs": [],
   "source": [
    "import numpy as np\n",
    "from random import randint"
   ]
  },
  {
   "cell_type": "code",
   "execution_count": 49,
   "metadata": {},
   "outputs": [],
   "source": [
    "# вероятности событий\n",
    "p_777 = 1/1000\n",
    "p_999 = 1/1000\n",
    "p_555 = 1/1000\n",
    "p_333 = 1/1000\n",
    "p_111 = 1/1000\n",
    "p_x77 = 9/1000\n",
    "p_xx7 = 90/1000\n",
    "p_x00 = 10/1000\n",
    "p_xx0 = 90/1000"
   ]
  },
  {
   "cell_type": "code",
   "execution_count": 50,
   "metadata": {},
   "outputs": [
    {
     "name": "stdout",
     "output_type": "stream",
     "text": [
      "[77, 177, 277, 377, 477, 577, 677, 877, 977]\n"
     ]
    }
   ],
   "source": [
    "#список чисел для p_x77\n",
    "list_p_x77 = [x for x in [int(str(y)+'77') for y in range(0,10) if y != 7]]\n",
    "print(list_p_x77)"
   ]
  },
  {
   "cell_type": "code",
   "execution_count": 51,
   "metadata": {},
   "outputs": [
    {
     "name": "stdout",
     "output_type": "stream",
     "text": [
      "[7, 17, 27, 37, 47, 57, 67, 87, 97, 107, 117, 127, 137, 147, 157, 167, 187, 197, 207, 217, 227, 237, 247, 257, 267, 287, 297, 307, 317, 327, 337, 347, 357, 367, 387, 397, 407, 417, 427, 437, 447, 457, 467, 487, 497, 507, 517, 527, 537, 547, 557, 567, 587, 597, 607, 617, 627, 637, 647, 657, 667, 687, 697, 707, 717, 727, 737, 747, 757, 767, 787, 797, 807, 817, 827, 837, 847, 857, 867, 887, 897, 907, 917, 927, 937, 947, 957, 967, 987, 997]\n"
     ]
    }
   ],
   "source": [
    "#список чисел для p_xx7\n",
    "list_p_xx7 = [int(str(z) + '7') for z in range(0,100) if int(str(z)+ '7') not in (list_p_x77 + [777])]\n",
    "print(list_p_xx7)"
   ]
  },
  {
   "cell_type": "code",
   "execution_count": 52,
   "metadata": {},
   "outputs": [
    {
     "name": "stdout",
     "output_type": "stream",
     "text": [
      "[0, 100, 200, 300, 400, 500, 600, 700, 800, 900]\n"
     ]
    }
   ],
   "source": [
    "#список чисел для p_x00\n",
    "list_p_x00 = [a for a in [int(str(b)+'00') for b in range(0,10)]]\n",
    "print(list_p_x00)"
   ]
  },
  {
   "cell_type": "code",
   "execution_count": 53,
   "metadata": {},
   "outputs": [
    {
     "name": "stdout",
     "output_type": "stream",
     "text": [
      "[10, 20, 30, 40, 50, 60, 70, 80, 90, 110, 120, 130, 140, 150, 160, 170, 180, 190, 210, 220, 230, 240, 250, 260, 270, 280, 290, 310, 320, 330, 340, 350, 360, 370, 380, 390, 410, 420, 430, 440, 450, 460, 470, 480, 490, 510, 520, 530, 540, 550, 560, 570, 580, 590, 610, 620, 630, 640, 650, 660, 670, 680, 690, 710, 720, 730, 740, 750, 760, 770, 780, 790, 810, 820, 830, 840, 850, 860, 870, 880, 890, 910, 920, 930, 940, 950, 960, 970, 980, 990]\n"
     ]
    }
   ],
   "source": [
    "#список чисел для p_xx0\n",
    "list_p_xx0 = [int(str(x)+ '0') for x in range(0,100) if int(str(x)+ '0') not in list_p_x00]\n",
    "print(list_p_xx0)"
   ]
  },
  {
   "cell_type": "code",
   "execution_count": 71,
   "metadata": {},
   "outputs": [
    {
     "name": "stdout",
     "output_type": "stream",
     "text": [
      "общий выигрыш -203157 при 1000000 игр\n",
      "средний выигрыш за одну игру -0.203157\n"
     ]
    }
   ],
   "source": [
    "# найдем общий выигрыш из заданного количества игр и средний выигрыш(среднее арифметическое) за одну игру\n",
    "\n",
    "# количество игр(попыток)\n",
    "trials = 1000000\n",
    "# переменная куда складывается выигрыш\n",
    "win = 0\n",
    "# стоимость одной игры\n",
    "game_cost = 1\n",
    "\n",
    "for game in range(trials):\n",
    "    number = np.random.randint(0,1000)\n",
    "    if number == 777:\n",
    "        win += 200\n",
    "    elif number == 999:\n",
    "        win += 100\n",
    "    elif number == 555:\n",
    "        win += 50\n",
    "    elif number == 333:\n",
    "        win += 15\n",
    "    elif number == 111:\n",
    "        win += 10\n",
    "    elif number in list_p_x77:\n",
    "        win += 5\n",
    "    elif number in list_p_xx7:\n",
    "        win += 3\n",
    "    elif number in list_p_x00:\n",
    "        win += 2\n",
    "    elif number in list_p_xx0:\n",
    "        win += 1\n",
    "    \n",
    "# стоимость всех игр\n",
    "total_cost = game_cost * trials\n",
    "# общий выигрыш\n",
    "total_win = win - total_cost\n",
    "# средний выигрыш за одну игру\n",
    "total_win_per_game = total_win / trials\n",
    "\n",
    "print(f'общий выигрыш {total_win} при {trials} игр')\n",
    "print(f'средний выигрыш за одну игру {total_win_per_game}')"
   ]
  },
  {
   "cell_type": "code",
   "execution_count": 74,
   "metadata": {},
   "outputs": [
    {
     "name": "stdout",
     "output_type": "stream",
     "text": [
      "-0.19999999999999996\n"
     ]
    }
   ],
   "source": [
    "# находим среднее значение\n",
    "average_win = (p_777 * (200 - 1) + p_999 * (100 - 1) + p_555 * (50 - 1) + p_333 * (15 - 1) + p_111 * (10 - 1) + p_x77 * (5 - 1) \n",
    "               + p_xx7 * (3 - 1) + p_x00 * (2 - 1) + p_xx0 * (1 - 1) \n",
    "               + (1 - p_777 - p_999 - p_555 - p_333 - p_111 - p_x77 - p_xx7 - p_x00 - p_xx0) * (-1))\n",
    "\n",
    "print(average_win)"
   ]
  },
  {
   "cell_type": "code",
   "execution_count": 75,
   "metadata": {},
   "outputs": [
    {
     "name": "stdout",
     "output_type": "stream",
     "text": [
      "Теоретически рассчитанный выигрыш равен -0.200\n",
      "Практически рассчитанный выигрыш равен -0.203\n"
     ]
    }
   ],
   "source": [
    "print(f'Теоретически рассчитанный выигрыш равен {average_win:.3f}')\n",
    "print(f'Практически рассчитанный выигрыш равен {total_win_per_game:.3f}')"
   ]
  },
  {
   "cell_type": "code",
   "execution_count": null,
   "metadata": {},
   "outputs": [],
   "source": []
  },
  {
   "cell_type": "code",
   "execution_count": null,
   "metadata": {},
   "outputs": [],
   "source": []
  }
 ],
 "metadata": {
  "kernelspec": {
   "display_name": "Python 3",
   "language": "python",
   "name": "python3"
  },
  "language_info": {
   "codemirror_mode": {
    "name": "ipython",
    "version": 3
   },
   "file_extension": ".py",
   "mimetype": "text/x-python",
   "name": "python",
   "nbconvert_exporter": "python",
   "pygments_lexer": "ipython3",
   "version": "3.7.6"
  }
 },
 "nbformat": 4,
 "nbformat_minor": 4
}
