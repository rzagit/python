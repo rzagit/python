{
 "cells": [
  {
   "cell_type": "markdown",
   "metadata": {},
   "source": [
    "**Задание 1**. Даны 2 строки: *long_phrase* и *short_phrase*. \n",
    "Напишите код, который проверяет действительно ли длинная фраза *long_phrase* длиннее короткой *short_phrase*. И выводит *True* или *False* в зависимости от результата сравнения."
   ]
  },
  {
   "cell_type": "code",
   "execution_count": 2,
   "metadata": {},
   "outputs": [],
   "source": [
    "long_phrase = 'Насколько проще было бы писать программы, если бы не заказчики'\n",
    "short_phrase = '640Кб должно хватить для любых задач. Билл Гейтс (по легенде)'"
   ]
  },
  {
   "cell_type": "code",
   "execution_count": 3,
   "metadata": {},
   "outputs": [
    {
     "data": {
      "text/plain": [
       "True"
      ]
     },
     "execution_count": 3,
     "metadata": {},
     "output_type": "execute_result"
    }
   ],
   "source": [
    "len(long_phrase)>len(short_phrase)"
   ]
  },
  {
   "cell_type": "markdown",
   "metadata": {},
   "source": [
    "**Задание 2**. Дано значение объема файла в байтах (*в мегабайте 2^20 байт*). Напишите перевод этого значения в мегабайты в формате: \"*Объем файла равен 213.68Mb*\"."
   ]
  },
  {
   "cell_type": "code",
   "execution_count": 3,
   "metadata": {},
   "outputs": [
    {
     "name": "stdout",
     "output_type": "stream",
     "text": [
      "Введите объема файла в байтах:\n",
      "1048576\n",
      "Объем файла равен 1.00 Mb\n"
     ]
    }
   ],
   "source": [
    "print('Введите объема файла в байтах:') \n",
    "file = float(input()) \n",
    "file_mb = file / 2 ** 20\n",
    "print('Объем файла равен {:.2f} Mb'.format(file_mb))"
   ]
  },
  {
   "cell_type": "markdown",
   "metadata": {},
   "source": [
    "**Задание 3**. Разработать приложение для определения знака зодиака по дате рождения. Пример:\n",
    "\n",
    "Введите месяц: март\n",
    "\n",
    "Введите число: 6\n",
    "\n",
    "Вывод:\n",
    "Рыбы"
   ]
  },
  {
   "cell_type": "code",
   "execution_count": null,
   "metadata": {},
   "outputs": [],
   "source": [
    "print('Введите месяц:') \n",
    "month = str(input()) \n",
    "print('Введите число:') \n",
    "number = int(input()) \n",
    "if month == 'январь' and number >= 1 and number <= 19: \n",
    "    print('Козерог')\n",
    "elif month == 'январь' and number >= 19 and number <= 31: \n",
    "    print('Водолей') \n",
    "elif month == 'февраль' and number >= 1 and number <= 19: \n",
    "    print('Водолей')\n",
    "elif month == 'февраль' and number >= 20 and number <= 29: \n",
    "    print('Рыбы')\n",
    "elif month == 'март' and number >= 1 and number <= 20: \n",
    "    print('Рыбы') \n",
    "elif month == 'март' and number >= 21 and number <= 31: \n",
    "    print('Овен')\n",
    "elif month == 'апрель' and number >= 1 and number <= 20: \n",
    "    print('Овен')\n",
    "elif month == 'апрель' and number >= 21 and number <= 30: \n",
    "    print('Телец')\n",
    "elif month == 'май' and number >= 1 and number <= 20: \n",
    "    print('Телец')\n",
    "elif month == 'май' and number >= 21 and number <= 30:\n",
    "    print('Близнец')\n",
    "elif month == 'июнь' and number >= 1 and number <= 20:\n",
    "    print('Близнец')\n",
    "elif month == 'июнь' and number >= 21 and number <= 30:\n",
    "    print('Рак')\n",
    "elif month == 'июль' and number >= 1 and number <= 22:\n",
    "    print('Рак') \n",
    "elif month == 'июль' and 23 >= number <= 31:\n",
    "    print('Лев') \n",
    "elif month == 'август' and number >= 1 and number <= 22:\n",
    "    print('Лев')\n",
    "elif month == 'август' and number >= 23 and number <= 31:\n",
    "    print('Дева')\n",
    "elif month == 'сентябрь' and number >= 1 and number <= 22:\n",
    "    print('Дева')\n",
    "elif month == 'сентябрь' and number >= 23 and number <= 30:\n",
    "    print('Весы')\n",
    "elif month == 'октябрь' and number >= 1 and number <= 22:\n",
    "    print('Весы')\n",
    "elif month == 'октябрь' and number >= 23 and number <= 31:\n",
    "    print('Скорпион')\n",
    "elif month == 'ноябрь' and number >= 1 and number <= 22:\n",
    "    print('Скорпион') \n",
    "elif month == 'ноябрь' and number >= 23 and number <= 30:\n",
    "    print('Стрелец')\n",
    "elif month == 'декабрь' and number >= 1 and number <= 21: \n",
    "    print('Козерог')\n",
    "elif month == 'декабрь' and number >= 22 and number <= 31: \n",
    "    print('Козерог') \n",
    "else: print('Введите коррректное значение')"
   ]
  },
  {
   "cell_type": "markdown",
   "metadata": {},
   "source": [
    "**Задание 4**. Нужно разработать приложение для финансового планирования.\n",
    "Приложение учитывает сколько уходит на ипотеку, \"на жизнь\" и сколько нужно отложить на пенсию.\n",
    "Пользователь вводит:\n",
    "- заработанную плату в месяц.\n",
    "- сколько процентов от ЗП уходит на ипотеку.\n",
    "- сколько процентов от ЗП уходит \"на жизнь\".\n",
    "- сколько раз приходит премия в год.\n",
    "\n",
    "Остальная часть заработанной платы откладывается на пенсию.\n",
    "\n",
    "Также пользователю приходит премия в размере зарплаты, от которой половина уходит на отпуск, а вторая половина откладывается.\n",
    "\n",
    "Программа должна учитывать сколько премий было в год.\n",
    "\n",
    "Нужно вывести сколько денег тратит пользователь на ипотеку и сколько он накопит за год.\n",
    "\n",
    "Пример:\n",
    "\n",
    "Введите заработанную плату в месяц: 100000\n",
    "\n",
    "Введите сколько процентов уходит на ипотеку: 30\n",
    "\n",
    "Введите сколько процентов уходит на жизнь: 50\n",
    "\n",
    "Введите количество премий за год: 2\n",
    "\n",
    "Вывод:\n",
    "На ипотеку было потрачено: 360000 рублей\n",
    "Было накоплено: 340000 рублей"
   ]
  },
  {
   "cell_type": "code",
   "execution_count": null,
   "metadata": {},
   "outputs": [
    {
     "name": "stdout",
     "output_type": "stream",
     "text": [
      "Введите заработанную плату в месяц:\n"
     ]
    }
   ],
   "source": [
    "print('Введите заработанную плату в месяц:') \n",
    "salary_per_month = float(input()) \n",
    "print('Введите сколько процентов уходит на ипотеку:') \n",
    "mortgage_in_percent = int(input())\n",
    "print('Введите сколько процентов уходит на жизнь:') \n",
    "life_in_percent = int(input())\n",
    "print('Введите количество премий за год:') \n",
    "bonus = int(input()) \n",
    "mortgage = salary_per_month * (mortgage_in_percent/100) * 12\n",
    "saving_per = (salary_per_month - salary_per_month*(life_in_percent/100)) * 12 - mortgage + (salary_per_month/2) * bonus\n",
    "print('На ипотеку было потрачено: {:.0f}'.format(mortgage), 'рублей Было накоплено: {:.0f}'.format(saving_per), 'рублей') "
   ]
  }
 ],
 "metadata": {
  "kernelspec": {
   "display_name": "Python 3",
   "language": "python",
   "name": "python3"
  },
  "language_info": {
   "codemirror_mode": {
    "name": "ipython",
    "version": 3
   },
   "file_extension": ".py",
   "mimetype": "text/x-python",
   "name": "python",
   "nbconvert_exporter": "python",
   "pygments_lexer": "ipython3",
   "version": "3.7.6"
  }
 },
 "nbformat": 4,
 "nbformat_minor": 2
}
