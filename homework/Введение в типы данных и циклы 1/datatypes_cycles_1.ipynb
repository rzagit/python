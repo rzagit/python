{
 "cells": [
  {
   "cell_type": "markdown",
   "metadata": {},
   "source": [
    "**Задача 1**. Дано слово из латинских букв. Напишите скрипт, который выводит на экран букву из середины слова (если число букв нечетное). Если букв четное число, то на экран выводятся две буквы из середины.  \n",
    "\n",
    "Пример: для 'test' должно выводится 'es', для 'testing' - 't'"
   ]
  },
  {
   "cell_type": "code",
   "execution_count": 1,
   "metadata": {},
   "outputs": [
    {
     "name": "stdout",
     "output_type": "stream",
     "text": [
      "введите слово\n",
      "программирование\n",
      "буква из середины слова ми\n"
     ]
    }
   ],
   "source": [
    "print('введите слово')\n",
    "word = input(str())\n",
    "a = (len(word)) \n",
    "b = a // 2\n",
    "c = a / 2\n",
    "d = c - b\n",
    "z = int(a / 2)\n",
    "if d == 0:\n",
    "    print('буква из середины слова',word[z-1:z+1])\n",
    "else:\n",
    "    print('буква из середины слова',word[z])"
   ]
  },
  {
   "cell_type": "markdown",
   "metadata": {},
   "source": [
    "**Задача 2**. Мы делаем MVP dating-сервиса, и у нас есть список парней и девушек (их число может варьироваться):"
   ]
  },
  {
   "cell_type": "code",
   "execution_count": 2,
   "metadata": {},
   "outputs": [],
   "source": [
    "boys = ['Peter', 'Alex', 'John', 'Arthur', 'Richard']\n",
    "girls = ['Kate', 'Liza', 'Kira', 'Emma', 'Trisha']"
   ]
  },
  {
   "cell_type": "markdown",
   "metadata": {},
   "source": [
    "Выдвигаем гипотезу: лучшие рекомендации мы получим, если просто отсортируем имена по алфавиту и познакомим людей с одинаковыми индексами после сортировки! \"Познакомить\" пары нам поможет функция zip, а в цикле распакуем zip-объект и выведем информацию в виде:\n",
    "\n",
    "Идеальные пары:  \n",
    "Alex и Emma  \n",
    "Arthur и Kate  \n",
    "John и Kira  \n",
    "Peter и Liza  \n",
    "Richard и Trisha  "
   ]
  },
  {
   "cell_type": "code",
   "execution_count": 3,
   "metadata": {},
   "outputs": [
    {
     "name": "stdout",
     "output_type": "stream",
     "text": [
      "Идеальные пары:\n",
      "Alex и Emma\n",
      "Arthur и Kate\n",
      "John и Kira\n",
      "Peter и Liza\n",
      "Richard и Trisha\n"
     ]
    }
   ],
   "source": [
    "boys.sort()\n",
    "girls.sort()\n",
    "if len(boys) == len(girls):\n",
    "    print('Идеальные пары:')    \n",
    "    for x in zip(boys, girls):\n",
    "        print(x[0], 'и', x[1])\n",
    "else:\n",
    "    print('кто-то может остаться без пары!')"
   ]
  },
  {
   "cell_type": "markdown",
   "metadata": {},
   "source": [
    "**Внимание! Если количество людей в списках будет не совпадать, то мы никого знакомить не будет и выведем пользователю предупреждение, что кто-то может остаться без пары!**"
   ]
  },
  {
   "cell_type": "markdown",
   "metadata": {},
   "source": [
    "**Задача 3**. У нас есть список, содержащий информацию о среднедневной температуре в Фаренгейтах за недельный период по странам.\n",
    "Необходимо написать код, который рассчитает среднюю температуру за неделю в Цельсиях для каждой страны."
   ]
  },
  {
   "cell_type": "code",
   "execution_count": 4,
   "metadata": {},
   "outputs": [],
   "source": [
    "countries_temperature = [\n",
    " ['Thailand', [75.2, 77, 78.8, 73.4, 68, 75.2, 77]],\n",
    " ['Germany', [57.2, 55.4, 59, 59, 53.6, 55.4, 57.2]],\n",
    " ['Russia', [35.6, 37.4, 39.2, 41, 42.8, 39.2, 35.6]],\n",
    " ['Poland', [50, 50, 53.6, 57.2, 55.4, 55.4, 51.8]],\n",
    "]"
   ]
  },
  {
   "cell_type": "code",
   "execution_count": 5,
   "metadata": {},
   "outputs": [
    {
     "name": "stdout",
     "output_type": "stream",
     "text": [
      " Средняя температура за неделю в Thailand - 23.9 градусов Цельсия\n",
      " Средняя температура за неделю в Germany - 13.7 градусов Цельсия\n",
      " Средняя температура за неделю в Russia - 3.7 градусов Цельсия\n",
      " Средняя температура за неделю в Poland - 11.9 градусов Цельсия\n"
     ]
    }
   ],
   "source": [
    "for temp in countries_temperature:\n",
    "   print(f' Средняя температура за неделю в {temp[0]} - {5/9*(sum(temp[1])/len(temp[1]) - 32):.1f} градусов Цельсия')"
   ]
  },
  {
   "cell_type": "markdown",
   "metadata": {},
   "source": [
    "**Задача 4.** Дан поток логов по количеству просмотренных страниц для каждого пользователя. Список отсортирован по ID пользователя. Вам необходимо написать алгоритм, который считает среднее значение просмотров на пользователя. \n",
    "Т. е. надо посчитать отношение суммы всех просмотров к количеству уникальных пользователей."
   ]
  },
  {
   "cell_type": "code",
   "execution_count": 6,
   "metadata": {},
   "outputs": [],
   "source": [
    "stream = [\n",
    "    '2018-01-01,user1,3',\n",
    "    '2018-01-07,user1,4',\n",
    "    '2018-03-29,user1,1',\n",
    "    '2018-04-04,user1,13',\n",
    "    '2018-01-05,user2,7',\n",
    "    '2018-06-14,user3,4',\n",
    "    '2018-07-02,user3,10',\n",
    "    '2018-03-21,user4,19',\n",
    "    '2018-03-22,user4,4',\n",
    "    '2018-04-22,user4,8',\n",
    "    '2018-05-03,user4,9',\n",
    "    '2018-05-11,user4,11',\n",
    "]"
   ]
  },
  {
   "cell_type": "code",
   "execution_count": 7,
   "metadata": {
    "scrolled": true
   },
   "outputs": [
    {
     "name": "stdout",
     "output_type": "stream",
     "text": [
      "[['2018-01-01', 'user1', '3'],\n",
      " ['2018-01-07', 'user1', '4'],\n",
      " ['2018-03-29', 'user1', '1'],\n",
      " ['2018-04-04', 'user1', '13'],\n",
      " ['2018-01-05', 'user2', '7'],\n",
      " ['2018-06-14', 'user3', '4'],\n",
      " ['2018-07-02', 'user3', '10'],\n",
      " ['2018-03-21', 'user4', '19'],\n",
      " ['2018-03-22', 'user4', '4'],\n",
      " ['2018-04-22', 'user4', '8'],\n",
      " ['2018-05-03', 'user4', '9'],\n",
      " ['2018-05-11', 'user4', '11']]\n"
     ]
    }
   ],
   "source": [
    "from pprint import pprint\n",
    "form = []\n",
    "for x in stream:\n",
    "    form.append(x.split(','))    \n",
    "pprint(form)"
   ]
  },
  {
   "cell_type": "code",
   "execution_count": 8,
   "metadata": {},
   "outputs": [
    {
     "name": "stdout",
     "output_type": "stream",
     "text": [
      "['user1', 'user1', 'user1', 'user1', 'user2', 'user3', 'user3', 'user4', 'user4', 'user4', 'user4', 'user4']\n",
      "[3, 4, 1, 13, 7, 4, 10, 19, 4, 8, 9, 11]\n"
     ]
    }
   ],
   "source": [
    "users_list = []\n",
    "view_list = []\n",
    "for i in form:\n",
    "    users_list.append(i[1])\n",
    "    view_list.append(int(i[2]))  \n",
    "print(users_list)\n",
    "print(view_list)"
   ]
  },
  {
   "cell_type": "code",
   "execution_count": 9,
   "metadata": {},
   "outputs": [],
   "source": [
    "unique_users = len(set(users_list))\n",
    "total_views = sum(view_list)"
   ]
  },
  {
   "cell_type": "code",
   "execution_count": 10,
   "metadata": {},
   "outputs": [
    {
     "name": "stdout",
     "output_type": "stream",
     "text": [
      "Среднее количество просмотров на пользователя: 23.25\n"
     ]
    }
   ],
   "source": [
    "average_views_per_user = total_views / unique_users\n",
    "print('Среднее количество просмотров на пользователя: {}'.format(average_views_per_user))"
   ]
  },
  {
   "cell_type": "markdown",
   "metadata": {},
   "source": [
    "**Задача 5**. Дана статистика рекламных кампаний по дням. Напишите алгоритм, который по паре дата-кампания ищет значение численного столбца. \n",
    "Т. е. для даты '2018-01-01' и 'google' нужно получить число 25. \n",
    "Считайте, что все комбинации дата-кампания уникальны."
   ]
  },
  {
   "cell_type": "code",
   "execution_count": 11,
   "metadata": {},
   "outputs": [],
   "source": [
    "stats = [\n",
    "    ['2018-01-01', 'google', 25],\n",
    "    ['2018-01-01', 'yandex', 65],\n",
    "    ['2018-01-01', 'market', 89],\n",
    "    ['2018-01-02', 'google', 574],\n",
    "    ['2018-01-02', 'yandex', 249],\n",
    "    ['2018-01-02', 'market', 994],\n",
    "    ['2018-01-03', 'google', 1843],\n",
    "    ['2018-01-03', 'yandex', 1327],\n",
    "    ['2018-01-03', 'market', 1764],\n",
    "]"
   ]
  },
  {
   "cell_type": "code",
   "execution_count": 12,
   "metadata": {},
   "outputs": [
    {
     "name": "stdout",
     "output_type": "stream",
     "text": [
      "Для 2018-01-01 : google значение равно 25\n",
      "Для 2018-01-01 : yandex значение равно 65\n",
      "Для 2018-01-01 : market значение равно 89\n",
      "Для 2018-01-02 : google значение равно 574\n",
      "Для 2018-01-02 : yandex значение равно 249\n",
      "Для 2018-01-02 : market значение равно 994\n",
      "Для 2018-01-03 : google значение равно 1843\n",
      "Для 2018-01-03 : yandex значение равно 1327\n",
      "Для 2018-01-03 : market значение равно 1764\n"
     ]
    }
   ],
   "source": [
    "num=0\n",
    "while num != len(stats):\n",
    "    print(f'Для {stats[num][0]} : {stats[num][1]} значение равно {stats[num][2]}')\n",
    "    num += 1"
   ]
  },
  {
   "cell_type": "markdown",
   "metadata": {},
   "source": [
    "**Задача 6**. Дан список вида:"
   ]
  },
  {
   "cell_type": "code",
   "execution_count": 13,
   "metadata": {},
   "outputs": [],
   "source": [
    "data = [\n",
    "    [13, 25, 23, 34],\n",
    "    [45, 32, 44, 47],\n",
    "    [12, 33, 23, 95],\n",
    "    [13, 53, 34, 34]   \n",
    "]"
   ]
  },
  {
   "cell_type": "markdown",
   "metadata": {},
   "source": [
    "Напишите код, который будет вычислять сумму элементов на диагонали. Т. е. 13+32+23+35.  \n",
    "Список может быть любой длины, но всегда является \"квадратным\" (количество элементов во вложенных списках равно их количеству)."
   ]
  },
  {
   "cell_type": "code",
   "execution_count": 14,
   "metadata": {},
   "outputs": [
    {
     "name": "stdout",
     "output_type": "stream",
     "text": [
      "Сумма элементов по диагонали: 102\n"
     ]
    }
   ],
   "source": [
    "x = 0\n",
    "diagonal_amount = 0\n",
    "while x != len(data):\n",
    "    diagonal_amount += data[x][x]\n",
    "    x += 1\n",
    "print(f'Сумма элементов по диагонали: {diagonal_amount}')"
   ]
  }
 ],
 "metadata": {
  "kernelspec": {
   "display_name": "Python 3",
   "language": "python",
   "name": "python3"
  },
  "language_info": {
   "codemirror_mode": {
    "name": "ipython",
    "version": 3
   },
   "file_extension": ".py",
   "mimetype": "text/x-python",
   "name": "python",
   "nbconvert_exporter": "python",
   "pygments_lexer": "ipython3",
   "version": "3.7.6"
  }
 },
 "nbformat": 4,
 "nbformat_minor": 2
}
