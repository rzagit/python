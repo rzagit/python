{
 "cells": [
  {
   "cell_type": "markdown",
   "metadata": {},
   "source": [
    "**Задание 1.** Напишите функцию, которая принимает на вход строку и проверяет является ли она валидным транспортным номером. Если да, то функция должна возвращать отдельно номер и регион."
   ]
  },
  {
   "cell_type": "markdown",
   "metadata": {},
   "source": [
    "за стандарт принят номер вида А999АА99(999)"
   ]
  },
  {
   "cell_type": "code",
   "execution_count": 69,
   "metadata": {},
   "outputs": [],
   "source": [
    "import re\n",
    "def transport_number(number):\n",
    "    print('Федеральный номерной знак:')\n",
    "    pattern = '[АВЕКМНОРСТУХавекмнорстух]{1}\\d{3}[АВЕКМНОРСТУХавекмнорстух]{2}[0-9]{2,3}'\n",
    "    if 8<=len(number)<10:\n",
    "        if len(number) == 9 and re.findall(pattern, number):\n",
    "            print(f' серия/номер {number[0:6].upper()} регион {number[6:]} ')\n",
    "        elif len(number) == 8 and re.findall(pattern, number):\n",
    "            print(f' серия/номер {number[0:6].upper()} регион {number[6:]} ')\n",
    "        else: \n",
    "            print('Несуществующий номерной знак')\n",
    "    else:\n",
    "        print('Несуществующий номерной знак')"
   ]
  },
  {
   "cell_type": "code",
   "execution_count": 76,
   "metadata": {},
   "outputs": [
    {
     "name": "stdout",
     "output_type": "stream",
     "text": [
      "Федеральный номерной знак:\n",
      " серия/номер У123ХА регион 13 \n"
     ]
    }
   ],
   "source": [
    "transport_number('у123ха13')"
   ]
  },
  {
   "cell_type": "markdown",
   "metadata": {},
   "source": [
    "**Задание 2**. Напишите функцию, которая проверяет e-mail адрес на валидность по стандарту RFC822: http://www.w3.org/Protocols/rfc822/. Для этого постарайтесь написать (в крайнем случае найти) самый полный шаблон для проверки e-mail адресов через регулярное выражение. Разберитесь и напишите примеры, какие ваш шаблон может не охватить."
   ]
  },
  {
   "cell_type": "markdown",
   "metadata": {},
   "source": [
    "Постарайтесь написать (в крайнем случае найти) самый полный шаблон для проверки e-mail адресов через регулярное выражение, которая проверяет e-mail адрес на валидность. Можно руководствоваться следующими минимальными требованиями:\n",
    "• адрес должен содержать специальный символ “@”, который отделяет имя пользователя почтовой системы от доменного имени;\n",
    "• адрес не должен содержать следующие символы: “пробел”, “,”, “:”, “;”, “!”, “#”, “%”, “*”, “(”, “)”, “=”, “+”, “{”, “}”, \" \" \", \" ’ \", \" / \", \" \\ \" и “|”;\n",
    "• адрес должен состоять только из латинских символов;\n",
    "• после символа “@” должна быть как минимум одна “.”;\n",
    "• после последней точки должно быть не менее 2-х и не более 4-х символов, причем наличие цифр не допускается;\n",
    "• между последней точкой и символом “@” должно быть не менее 2-х символов\n",
    "• слева от “@” должно быть не менее четырех символов"
   ]
  },
  {
   "cell_type": "code",
   "execution_count": 63,
   "metadata": {},
   "outputs": [],
   "source": [
    "a = 'a.ivanov@inter-pro.ruu'"
   ]
  },
  {
   "cell_type": "code",
   "execution_count": null,
   "metadata": {},
   "outputs": [],
   "source": [
    "p = r'w\\\\{a-zA-Z_.0-9}@\\w{."
   ]
  },
  {
   "cell_type": "code",
   "execution_count": 66,
   "metadata": {},
   "outputs": [
    {
     "data": {
      "text/plain": [
       "[]"
      ]
     },
     "execution_count": 66,
     "metadata": {},
     "output_type": "execute_result"
    }
   ],
   "source": [
    "pp = r'\\b[A-Z0-9._%+-]+@[A-Z0-9.-]+\\.[A-Z]{2,4}\\b'\n",
    "re.findall(pp, a)\n"
   ]
  },
  {
   "cell_type": "markdown",
   "metadata": {},
   "source": [
    "**Задание 3.** Напишите функцию, которая будет удалять все последовательные повторы слов из заданной строки при помощи регулярных выражений."
   ]
  },
  {
   "cell_type": "code",
   "execution_count": 36,
   "metadata": {},
   "outputs": [
    {
     "name": "stdout",
     "output_type": "stream",
     "text": [
      "Удаление всех повторяющихся слов в строке\n"
     ]
    }
   ],
   "source": [
    "import re\n",
    "s = \"Удаление всех. всех повторяющихся слов слов в в строке   строке...\"\n",
    "print(re.sub(r'\\b([^\\W\\d_]+)(\\s+\\1)+\\b', r'\\1', re.sub(r'\\W+', ' ', s).strip(), flags=re.I))"
   ]
  },
  {
   "cell_type": "code",
   "execution_count": 42,
   "metadata": {},
   "outputs": [
    {
     "data": {
      "text/plain": [
       "['hello', 'world']"
      ]
     },
     "execution_count": 42,
     "metadata": {},
     "output_type": "execute_result"
    }
   ],
   "source": [
    "ng = \"hello   hello world world world world hello \"\n",
    "pat = \"\\\\b(\\\\w+)(?:\\\\s+\\\\1\\\\b)+\"\n",
    "t = re.findall(pat, ng)\n",
    "t"
   ]
  },
  {
   "cell_type": "code",
   "execution_count": 40,
   "metadata": {},
   "outputs": [],
   "source": [
    "def delete_repeating_words():\n",
    "    '''функция берет на вход строку с предложением и удаляет повторяющиеся слова'''\n",
    "    text = input('Введите текст')\n",
    "    text_with_no_space = re.sub(r'\\W+', ' ', text).strip()\n",
    "    no_repeat_pattern = r'\\b([^\\W\\d_]+)(\\s+\\1)+\\b'\n",
    "    finished_text = re.sub(no_repeat_pattern, r'\\1', text_with_no_space, flags=re.I)\n",
    "    return finished_text"
   ]
  },
  {
   "cell_type": "code",
   "execution_count": 41,
   "metadata": {},
   "outputs": [
    {
     "name": "stdout",
     "output_type": "stream",
     "text": [
      "Введите текстno No mans mans, Mans World, world -world\n"
     ]
    },
    {
     "data": {
      "text/plain": [
       "'no mans World'"
      ]
     },
     "execution_count": 41,
     "metadata": {},
     "output_type": "execute_result"
    }
   ],
   "source": [
    "delete_repeating_words()"
   ]
  },
  {
   "cell_type": "markdown",
   "metadata": {},
   "source": [
    "**Задание 4**. Напишите функцию, которая будет проверять номер сотового телефона на валидность, если он валиден, то переводить его в формат:   \n",
    "+7(xxx)-xxx-xx-xx  \n",
    "Постарайтесь предусмотреть как можно больше адекватных форматов изначального ввода номера.\n",
    "Примеры валидных форматов:\n",
    "- +7 955 555-55-55;\n",
    "- 9555555555;\n",
    "- 8(955)555-55-55;\n",
    "- +7 955 555 55 55;\n",
    "- 7(955) 555-55-55;\n",
    "- +7 955+555+55+55."
   ]
  },
  {
   "cell_type": "code",
   "execution_count": 67,
   "metadata": {},
   "outputs": [],
   "source": [
    "def check_telefon_number():\n",
    "    '''\n",
    "    проверка телефонного номера на валидность\n",
    "    '''\n",
    "    number = input('Введите свой телефонной номер: ')\n",
    "    valid_pattern = r'\\W?\\d?\\W{0,2}(\\d{3})\\W{0,2}(\\d{3})\\W?(\\d{2})\\W?(\\d{2})'\n",
    "    output_pattern = r'+7(\\1)\\2-\\3-\\4'\n",
    "    check_number = re.sub(valid_pattern, output_pattern, number)\n",
    "    if \n",
    "    print(f'{check_number} номер валиден')"
   ]
  },
  {
   "cell_type": "code",
   "execution_count": 68,
   "metadata": {},
   "outputs": [
    {
     "name": "stdout",
     "output_type": "stream",
     "text": [
      "Введите свой телефонной номер: 6468468464648\n",
      "+7(468)468-46-4648 номер валиден\n"
     ]
    }
   ],
   "source": [
    "check_telefon_number()"
   ]
  }
 ],
 "metadata": {
  "kernelspec": {
   "display_name": "Python 3",
   "language": "python",
   "name": "python3"
  },
  "language_info": {
   "codemirror_mode": {
    "name": "ipython",
    "version": 3
   },
   "file_extension": ".py",
   "mimetype": "text/x-python",
   "name": "python",
   "nbconvert_exporter": "python",
   "pygments_lexer": "ipython3",
   "version": "3.7.6"
  }
 },
 "nbformat": 4,
 "nbformat_minor": 2
}
