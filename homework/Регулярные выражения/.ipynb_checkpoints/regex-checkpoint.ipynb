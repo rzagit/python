{
 "cells": [
  {
   "cell_type": "markdown",
   "metadata": {},
   "source": [
    "**Задание 1.** Напишите функцию, которая принимает на вход строку и проверяет является ли она валидным транспортным номером. Если да, то функция должна возвращать отдельно номер и регион."
   ]
  },
  {
   "cell_type": "markdown",
   "metadata": {},
   "source": [
    "за стандарт принят номер вида А999АА99(999)"
   ]
  },
  {
   "cell_type": "code",
   "execution_count": 92,
   "metadata": {},
   "outputs": [],
   "source": [
    "import re\n",
    "def transport_number(number):\n",
    "    print('Федеральный номерной знак:')\n",
    "    pattern = '[АВЕКМНОРСТУХавекмнорстух]{1}\\d{3}[АВЕКМНОРСТУХавекмнорстух]{2}[0-9]{2,3}'\n",
    "    if 8<=len(number)<10:\n",
    "        if len(number) == 9 and re.findall(pattern, number):\n",
    "            print(f' серия/номер {number[0:6].upper()} регион {number[6:]} ')\n",
    "        elif len(number) == 8 and re.findall(pattern, number):\n",
    "            print(f' серия/номер {number[0:6].upper()} регион {number[6:]} ')\n",
    "        else: \n",
    "            print('Несуществующий номерной знак')\n",
    "    else:\n",
    "        print('Несуществующий номерной знак')"
   ]
  },
  {
   "cell_type": "code",
   "execution_count": 97,
   "metadata": {},
   "outputs": [
    {
     "name": "stdout",
     "output_type": "stream",
     "text": [
      "Федеральный номерной знак:\n",
      " серия/номер Р123ХР регион 123 \n"
     ]
    }
   ],
   "source": [
    "transport_number('р123хр123')"
   ]
  },
  {
   "cell_type": "markdown",
   "metadata": {},
   "source": [
    "**Задание 2**. Напишите функцию, которая проверяет e-mail адрес на валидность по стандарту RFC822: http://www.w3.org/Protocols/rfc822/. Для этого постарайтесь написать (в крайнем случае найти) самый полный шаблон для проверки e-mail адресов через регулярное выражение. Разберитесь и напишите примеры, какие ваш шаблон может не охватить."
   ]
  },
  {
   "cell_type": "code",
   "execution_count": null,
   "metadata": {},
   "outputs": [],
   "source": []
  },
  {
   "cell_type": "markdown",
   "metadata": {},
   "source": [
    "**Задание 3.** Напишите функцию, которая будет удалять все последовательные повторы слов из заданной строки при помощи регулярных выражений."
   ]
  },
  {
   "cell_type": "code",
   "execution_count": 85,
   "metadata": {},
   "outputs": [],
   "source": [
    "ex = 'Ночь, улица, улица, фонарь, аптека,\\\n",
    "Бессмысленный и тусклый свет.\\\n",
    "Живи еще еще хоть четверть четверть века —\\\n",
    "Все будет так. Исхода нет.\\\n",
    "Умрешь — начнешь опять опять сначала\\\n",
    "И И повторится все, как как встарь:\\\n",
    "Ночь, ледяная рябь рябь канала,\\\n",
    "Аптека, улица, фонарь.'"
   ]
  },
  {
   "cell_type": "code",
   "execution_count": 88,
   "metadata": {},
   "outputs": [
    {
     "data": {
      "text/plain": [
       "'Ночь, улица, улица, фонарь, аптека,Бессмысленный и тусклый свет.Живи еще еще хоть четверть четверть века —Все будет так. Исхода нет.Умрешь — начнешь опять опять сначалаИ И повторится все, как как встарь:Ночь, ледяная рябь рябь канала,Аптека, улица, фонарь.'"
      ]
     },
     "execution_count": 88,
     "metadata": {},
     "output_type": "execute_result"
    }
   ],
   "source": [
    "re.sub(r'(\\d+)', r'\\1', ex)"
   ]
  },
  {
   "cell_type": "markdown",
   "metadata": {},
   "source": [
    "**Задание 4**. Напишите функцию, которая будет проверять номер сотового телефона на валидность, если он валиден, то переводить его в формат:   \n",
    "+7(xxx)-xxx-xx-xx  \n",
    "Постарайтесь предусмотреть как можно больше адекватных форматов изначального ввода номера.\n",
    "Примеры валидных форматов:\n",
    "- +7 955 555-55-55;\n",
    "- 9555555555;\n",
    "- 8(955)555-55-55;\n",
    "- +7 955 555 55 55;\n",
    "- 7(955) 555-55-55;\n",
    "- +7 955+555+55+55."
   ]
  },
  {
   "cell_type": "code",
   "execution_count": null,
   "metadata": {},
   "outputs": [],
   "source": []
  }
 ],
 "metadata": {
  "kernelspec": {
   "display_name": "Python 3",
   "language": "python",
   "name": "python3"
  },
  "language_info": {
   "codemirror_mode": {
    "name": "ipython",
    "version": 3
   },
   "file_extension": ".py",
   "mimetype": "text/x-python",
   "name": "python",
   "nbconvert_exporter": "python",
   "pygments_lexer": "ipython3",
   "version": "3.7.6"
  }
 },
 "nbformat": 4,
 "nbformat_minor": 2
}
