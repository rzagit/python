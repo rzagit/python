{
 "cells": [
  {
   "cell_type": "markdown",
   "metadata": {},
   "source": [
    "Домашнее задание к лекции «Исключения и обработка ошибок»"
   ]
  },
  {
   "cell_type": "markdown",
   "metadata": {},
   "source": [
    "Задание 1\n",
    "\n",
    "Напишите функцию date_range, которая возвращает список дней между датами start_date и end_date. Даты должны вводиться в формате YYYY-MM-DD."
   ]
  },
  {
   "cell_type": "code",
   "execution_count": 8,
   "metadata": {},
   "outputs": [],
   "source": [
    "from datetime import datetime\n",
    "from datetime import timedelta\n",
    "import traceback\n",
    "def date_range():    \n",
    "    range_list = []\n",
    "    start_date = input('Введите начальную дату в формате YYYY-MM-DD: ')\n",
    "    end_date = input('Введите конечную дату в формате YYYY-MM-DD: ')\n",
    "    '''защита от ввода несуществующей даты'''\n",
    "    try:\n",
    "        start = datetime.strptime(start_date, '%Y-%m-%d')\n",
    "        end = datetime.strptime(end_date, '%Y-%m-%d')\n",
    "        current = start\n",
    "        while current <= end:\n",
    "            range_list.append(current.strftime('%Y-%m-%d'))\n",
    "            current += timedelta(days=1)\n",
    "        return range_list\n",
    "    except ValueError as error:\n",
    "        print('Неверный формат даты:')\n",
    "        print(error)"
   ]
  },
  {
   "cell_type": "code",
   "execution_count": 164,
   "metadata": {},
   "outputs": [
    {
     "name": "stdout",
     "output_type": "stream",
     "text": [
      "Введите начальную дату в формате YYYY-MM-DD: 2020-01-01\n",
      "Введите конечную дату в формате YYYY-MM-DD: 2020-01-10\n"
     ]
    },
    {
     "data": {
      "text/plain": [
       "['2020-01-01',\n",
       " '2020-01-02',\n",
       " '2020-01-03',\n",
       " '2020-01-04',\n",
       " '2020-01-05',\n",
       " '2020-01-06',\n",
       " '2020-01-07',\n",
       " '2020-01-08',\n",
       " '2020-01-09',\n",
       " '2020-01-10']"
      ]
     },
     "execution_count": 164,
     "metadata": {},
     "output_type": "execute_result"
    }
   ],
   "source": [
    "date_range()"
   ]
  },
  {
   "cell_type": "markdown",
   "metadata": {},
   "source": [
    "Задание 2\n",
    "\n",
    "Дополните функцию из первого задания проверкой на корректность дат. В случае неверного формата или если start_date > end_date должен возвращаться пустой список."
   ]
  },
  {
   "cell_type": "code",
   "execution_count": 187,
   "metadata": {},
   "outputs": [],
   "source": [
    "from datetime import datetime\n",
    "from datetime import timedelta\n",
    "import traceback\n",
    "def date_range():    \n",
    "    range_list = []\n",
    "    start_date = input('Введите начальную дату в формате YYYY-MM-DD: ')\n",
    "    end_date = input('Введите конечную дату в формате YYYY-MM-DD: ')\n",
    "    '''защита от ввода несуществующей даты'''\n",
    "    try:\n",
    "        start = datetime.strptime(start_date, '%Y-%m-%d')\n",
    "        end = datetime.strptime(end_date, '%Y-%m-%d')\n",
    "        if start < end:\n",
    "            current = start\n",
    "            while current <= end:\n",
    "                range_list.append(current.strftime('%Y-%m-%d'))\n",
    "                current += timedelta(days=1)            \n",
    "            return range_list\n",
    "        else:\n",
    "            print('Неверный формат даты:')\n",
    "            return range_list\n",
    "    except:\n",
    "        print('Неверный формат даты:')\n",
    "        return range_list"
   ]
  },
  {
   "cell_type": "code",
   "execution_count": 188,
   "metadata": {},
   "outputs": [
    {
     "name": "stdout",
     "output_type": "stream",
     "text": [
      "Введите начальную дату в формате YYYY-MM-DD: 2020-01-01\n",
      "Введите конечную дату в формате YYYY-MM-DD: 2020-01-10\n"
     ]
    },
    {
     "data": {
      "text/plain": [
       "['2020-01-01',\n",
       " '2020-01-02',\n",
       " '2020-01-03',\n",
       " '2020-01-04',\n",
       " '2020-01-05',\n",
       " '2020-01-06',\n",
       " '2020-01-07',\n",
       " '2020-01-08',\n",
       " '2020-01-09',\n",
       " '2020-01-10']"
      ]
     },
     "execution_count": 188,
     "metadata": {},
     "output_type": "execute_result"
    }
   ],
   "source": [
    "date_range()"
   ]
  },
  {
   "cell_type": "markdown",
   "metadata": {},
   "source": [
    "Задание 3\n",
    "\n",
    "Дан поток дат в формате YYYY-MM-DD, в которых встречаются некорректные значения:\n",
    "stream = ['2018-04-02', '2018-02-29', '2018-19-02']\n",
    "\n",
    "Напишите функцию, которая проверяет эти даты на корректность. Т. е. для каждой даты возвращает True (дата корректна) или False (некорректная дата)."
   ]
  },
  {
   "cell_type": "code",
   "execution_count": 69,
   "metadata": {},
   "outputs": [],
   "source": [
    "stream = ['2018-04-02', '2018-02-29', '2018-19-02']"
   ]
  },
  {
   "cell_type": "code",
   "execution_count": 70,
   "metadata": {},
   "outputs": [],
   "source": [
    "from datetime import datetime\n",
    "def check_date(stream):\n",
    "    '''проверка на корректность дат с возвратом результата в списке'''\n",
    "    check_list = []\n",
    "    for date in stream:\n",
    "        try:\n",
    "            datetime.strptime(date, '%Y-%m-%d')\n",
    "            check_list.append((date , True))\n",
    "        except:\n",
    "            check_list.append((date , False))      \n",
    "    return check_list"
   ]
  },
  {
   "cell_type": "code",
   "execution_count": 68,
   "metadata": {},
   "outputs": [
    {
     "data": {
      "text/plain": [
       "[('2018-04-02', True), ('2018-02-29', False), ('2018-19-02', False)]"
      ]
     },
     "execution_count": 68,
     "metadata": {},
     "output_type": "execute_result"
    }
   ],
   "source": [
    "check_date(stream)"
   ]
  },
  {
   "cell_type": "markdown",
   "metadata": {},
   "source": [
    "тело функции для варианта с выводом результата"
   ]
  },
  {
   "cell_type": "code",
   "execution_count": 71,
   "metadata": {},
   "outputs": [
    {
     "name": "stdout",
     "output_type": "stream",
     "text": [
      "2018-04-02 - True\n",
      "2018-02-29 - False\n",
      "2018-19-02 - False\n"
     ]
    }
   ],
   "source": [
    "from datetime import datetime\n",
    "stream = ['2018-04-02', '2018-02-29', '2018-19-02']\n",
    "for date in stream:\n",
    "    try:\n",
    "        datetime.strptime(date, '%Y-%m-%d')\n",
    "        print(f'{date} - {True}')\n",
    "    except:\n",
    "        print(f'{date} - {False}')"
   ]
  },
  {
   "cell_type": "markdown",
   "metadata": {},
   "source": []
  },
  {
   "cell_type": "markdown",
   "metadata": {},
   "source": [
    "Задание 4 (бонусное)\n",
    "\n",
    "Ваш коллега прислал код функции:\n",
    "\n",
    "DEFAULT_USER_COUNT = 3\n",
    "\n",
    "def delete_and_return_last_user(region, default_list=['A100', 'A101', 'A102']):\n",
    "\"\"\"\n",
    "Удаляет из списка default_list последнего пользователя\n",
    "и возвращает ID нового последнего пользователя.\n",
    "\"\"\"\n",
    "element_to_delete = default_list[-1]\n",
    "default_list.remove(element_to_delete)\n",
    "\n",
    "return default_list[DEFAULT_USER_COUNT-2]\n",
    "При однократном вызове этой функции все работает корректно:\n",
    "\n",
    "delete_and_return_last_user(1)\n",
    "\n",
    "'A101'\n",
    "\n",
    "Однако, при повторном вызове получается ошибка IndexError: list index out of range."
   ]
  },
  {
   "cell_type": "markdown",
   "metadata": {},
   "source": [
    "Задание:\n",
    "\n",
    "1. Что значит ошибка list index out of range?\n",
    "2. Почему при первом запуске функция работает корректно, а при втором - нет?"
   ]
  },
  {
   "cell_type": "markdown",
   "metadata": {},
   "source": [
    "1. list index out of range означает что запрашиваемый индекс списка не существует.\n",
    "2. потому, что при первом запуске индекс списка default_list[DEFAULT_USER_COUNT-2] еще существует, а при втором уже нет. \n",
    "В данном случае как мне кажется DEFAULT_USER_COUNT должен быть привязан к длине списка default_list и должен уменьшаться на 1 после каждого запуска функции, с установленой защитой при достижении длины списка 0."
   ]
  }
 ],
 "metadata": {
  "kernelspec": {
   "display_name": "Python 3",
   "language": "python",
   "name": "python3"
  },
  "language_info": {
   "codemirror_mode": {
    "name": "ipython",
    "version": 3
   },
   "file_extension": ".py",
   "mimetype": "text/x-python",
   "name": "python",
   "nbconvert_exporter": "python",
   "pygments_lexer": "ipython3",
   "version": "3.7.6"
  }
 },
 "nbformat": 4,
 "nbformat_minor": 4
}
