{
 "cells": [
  {
   "cell_type": "markdown",
   "metadata": {},
   "source": [
    "# Домашнее задание к лекции \"Визуализация данных\""
   ]
  },
  {
   "cell_type": "markdown",
   "metadata": {},
   "source": [
    "## Обязательная часть\n",
    "\n",
    "Вам необходимо провести базовый [EDA](https://en.wikipedia.org/wiki/Exploratory_data_analysis) выбранного набора данных. \n",
    "\n",
    "Требования к анализу:\n",
    "- построить не менее 4 визуализаций различных видов;\n",
    "- каждая визуализация должным образом оформлена и читается даже в отрыве от контекста; \n",
    "- по каждой визуализации необходимо написать вывод (какую гипотезу на ее основе можно выдвинуть?).\n",
    "\n",
    "**Откуда брать данные?**\n",
    "\n",
    "Можете взять свои рабочие данные, либо найти открытые данные (например, на [kaggle.com](https://www.kaggle.com/)) по интересующей вас предметной области (тогда не забудьте их выложить на github вместе с ноутбуком). Если идей нет, можете взять один из перечисленных ниже:\n",
    "- [данные приложений из Google Play](https://www.kaggle.com/lava18/google-play-store-apps);\n",
    "- [данные о видео из трендов YouTube](https://www.kaggle.com/datasnaek/youtube-new);\n",
    "- [данные об уровне счастья в разных странах](https://www.kaggle.com/unsdsn/world-happiness);\n",
    "- [данные по фильмам и сериалам Netflix](https://www.kaggle.com/shivamb/netflix-shows)."
   ]
  },
  {
   "cell_type": "markdown",
   "metadata": {},
   "source": [
    "### Дополнительная часть (необязательная)\n",
    "\n",
    "* построить дополнительно не менее 2 визуализаций (итого не менее 6);\n",
    "* в работе должны присутствовать следующие визуализации: boxplot, heatmap, scatter plot matrix;\n",
    "* не менее двух визуализаций должны быть интерактивными."
   ]
  },
  {
   "cell_type": "code",
   "execution_count": 14,
   "metadata": {},
   "outputs": [
    {
     "data": {
      "text/html": [
       "        <script type=\"text/javascript\">\n",
       "        window.PlotlyConfig = {MathJaxConfig: 'local'};\n",
       "        if (window.MathJax) {MathJax.Hub.Config({SVG: {font: \"STIX-Web\"}});}\n",
       "        if (typeof require !== 'undefined') {\n",
       "        require.undef(\"plotly\");\n",
       "        requirejs.config({\n",
       "            paths: {\n",
       "                'plotly': ['https://cdn.plot.ly/plotly-latest.min']\n",
       "            }\n",
       "        });\n",
       "        require(['plotly'], function(Plotly) {\n",
       "            window._Plotly = Plotly;\n",
       "        });\n",
       "        }\n",
       "        </script>\n",
       "        "
      ]
     },
     "metadata": {},
     "output_type": "display_data"
    }
   ],
   "source": [
    "# #увеличим дефолтный размер графиков\n",
    "from pylab import rcParams\n",
    "rcParams['figure.figsize'] = 10,7\n",
    "\n",
    "# импортируем нужные библиотеки\n",
    "import pandas as pd\n",
    "import matplotlib.pyplot as plt\n",
    "import seaborn as sns\n",
    "import numpy as np\n",
    "from plotly.offline import init_notebook_mode, iplot\n",
    "import plotly\n",
    "import plotly.graph_objs as go\n",
    "\n",
    "init_notebook_mode(connected=True)"
   ]
  },
  {
   "cell_type": "markdown",
   "metadata": {},
   "source": [
    "# Netflix"
   ]
  },
  {
   "cell_type": "code",
   "execution_count": 5,
   "metadata": {},
   "outputs": [
    {
     "data": {
      "text/html": [
       "<div>\n",
       "<style scoped>\n",
       "    .dataframe tbody tr th:only-of-type {\n",
       "        vertical-align: middle;\n",
       "    }\n",
       "\n",
       "    .dataframe tbody tr th {\n",
       "        vertical-align: top;\n",
       "    }\n",
       "\n",
       "    .dataframe thead th {\n",
       "        text-align: right;\n",
       "    }\n",
       "</style>\n",
       "<table border=\"1\" class=\"dataframe\">\n",
       "  <thead>\n",
       "    <tr style=\"text-align: right;\">\n",
       "      <th></th>\n",
       "      <th>show_id</th>\n",
       "      <th>type</th>\n",
       "      <th>title</th>\n",
       "      <th>director</th>\n",
       "      <th>cast</th>\n",
       "      <th>country</th>\n",
       "      <th>date_added</th>\n",
       "      <th>release_year</th>\n",
       "      <th>rating</th>\n",
       "      <th>duration</th>\n",
       "      <th>listed_in</th>\n",
       "      <th>description</th>\n",
       "    </tr>\n",
       "  </thead>\n",
       "  <tbody>\n",
       "    <tr>\n",
       "      <th>0</th>\n",
       "      <td>81145628</td>\n",
       "      <td>Movie</td>\n",
       "      <td>Norm of the North: King Sized Adventure</td>\n",
       "      <td>Richard Finn, Tim Maltby</td>\n",
       "      <td>Alan Marriott, Andrew Toth, Brian Dobson, Cole...</td>\n",
       "      <td>United States, India, South Korea, China</td>\n",
       "      <td>September 9, 2019</td>\n",
       "      <td>2019</td>\n",
       "      <td>TV-PG</td>\n",
       "      <td>90 min</td>\n",
       "      <td>Children &amp; Family Movies, Comedies</td>\n",
       "      <td>Before planning an awesome wedding for his gra...</td>\n",
       "    </tr>\n",
       "    <tr>\n",
       "      <th>1</th>\n",
       "      <td>80117401</td>\n",
       "      <td>Movie</td>\n",
       "      <td>Jandino: Whatever it Takes</td>\n",
       "      <td>NaN</td>\n",
       "      <td>Jandino Asporaat</td>\n",
       "      <td>United Kingdom</td>\n",
       "      <td>September 9, 2016</td>\n",
       "      <td>2016</td>\n",
       "      <td>TV-MA</td>\n",
       "      <td>94 min</td>\n",
       "      <td>Stand-Up Comedy</td>\n",
       "      <td>Jandino Asporaat riffs on the challenges of ra...</td>\n",
       "    </tr>\n",
       "    <tr>\n",
       "      <th>2</th>\n",
       "      <td>70234439</td>\n",
       "      <td>TV Show</td>\n",
       "      <td>Transformers Prime</td>\n",
       "      <td>NaN</td>\n",
       "      <td>Peter Cullen, Sumalee Montano, Frank Welker, J...</td>\n",
       "      <td>United States</td>\n",
       "      <td>September 8, 2018</td>\n",
       "      <td>2013</td>\n",
       "      <td>TV-Y7-FV</td>\n",
       "      <td>1 Season</td>\n",
       "      <td>Kids' TV</td>\n",
       "      <td>With the help of three human allies, the Autob...</td>\n",
       "    </tr>\n",
       "    <tr>\n",
       "      <th>3</th>\n",
       "      <td>80058654</td>\n",
       "      <td>TV Show</td>\n",
       "      <td>Transformers: Robots in Disguise</td>\n",
       "      <td>NaN</td>\n",
       "      <td>Will Friedle, Darren Criss, Constance Zimmer, ...</td>\n",
       "      <td>United States</td>\n",
       "      <td>September 8, 2018</td>\n",
       "      <td>2016</td>\n",
       "      <td>TV-Y7</td>\n",
       "      <td>1 Season</td>\n",
       "      <td>Kids' TV</td>\n",
       "      <td>When a prison ship crash unleashes hundreds of...</td>\n",
       "    </tr>\n",
       "    <tr>\n",
       "      <th>4</th>\n",
       "      <td>80125979</td>\n",
       "      <td>Movie</td>\n",
       "      <td>#realityhigh</td>\n",
       "      <td>Fernando Lebrija</td>\n",
       "      <td>Nesta Cooper, Kate Walsh, John Michael Higgins...</td>\n",
       "      <td>United States</td>\n",
       "      <td>September 8, 2017</td>\n",
       "      <td>2017</td>\n",
       "      <td>TV-14</td>\n",
       "      <td>99 min</td>\n",
       "      <td>Comedies</td>\n",
       "      <td>When nerdy high schooler Dani finally attracts...</td>\n",
       "    </tr>\n",
       "  </tbody>\n",
       "</table>\n",
       "</div>"
      ],
      "text/plain": [
       "    show_id     type                                    title  \\\n",
       "0  81145628    Movie  Norm of the North: King Sized Adventure   \n",
       "1  80117401    Movie               Jandino: Whatever it Takes   \n",
       "2  70234439  TV Show                       Transformers Prime   \n",
       "3  80058654  TV Show         Transformers: Robots in Disguise   \n",
       "4  80125979    Movie                             #realityhigh   \n",
       "\n",
       "                   director  \\\n",
       "0  Richard Finn, Tim Maltby   \n",
       "1                       NaN   \n",
       "2                       NaN   \n",
       "3                       NaN   \n",
       "4          Fernando Lebrija   \n",
       "\n",
       "                                                cast  \\\n",
       "0  Alan Marriott, Andrew Toth, Brian Dobson, Cole...   \n",
       "1                                   Jandino Asporaat   \n",
       "2  Peter Cullen, Sumalee Montano, Frank Welker, J...   \n",
       "3  Will Friedle, Darren Criss, Constance Zimmer, ...   \n",
       "4  Nesta Cooper, Kate Walsh, John Michael Higgins...   \n",
       "\n",
       "                                    country         date_added  release_year  \\\n",
       "0  United States, India, South Korea, China  September 9, 2019          2019   \n",
       "1                            United Kingdom  September 9, 2016          2016   \n",
       "2                             United States  September 8, 2018          2013   \n",
       "3                             United States  September 8, 2018          2016   \n",
       "4                             United States  September 8, 2017          2017   \n",
       "\n",
       "     rating  duration                           listed_in  \\\n",
       "0     TV-PG    90 min  Children & Family Movies, Comedies   \n",
       "1     TV-MA    94 min                     Stand-Up Comedy   \n",
       "2  TV-Y7-FV  1 Season                            Kids' TV   \n",
       "3     TV-Y7  1 Season                            Kids' TV   \n",
       "4     TV-14    99 min                            Comedies   \n",
       "\n",
       "                                         description  \n",
       "0  Before planning an awesome wedding for his gra...  \n",
       "1  Jandino Asporaat riffs on the challenges of ra...  \n",
       "2  With the help of three human allies, the Autob...  \n",
       "3  When a prison ship crash unleashes hundreds of...  \n",
       "4  When nerdy high schooler Dani finally attracts...  "
      ]
     },
     "execution_count": 5,
     "metadata": {},
     "output_type": "execute_result"
    }
   ],
   "source": [
    "net = pd.read_csv('netflix/netflix.csv')\n",
    "net.head(5)"
   ]
  },
  {
   "cell_type": "code",
   "execution_count": 15,
   "metadata": {},
   "outputs": [
    {
     "data": {
      "text/plain": [
       "<matplotlib.legend.Legend at 0x4d462d5408>"
      ]
     },
     "execution_count": 15,
     "metadata": {},
     "output_type": "execute_result"
    },
    {
     "data": {
      "image/png": "[encoded data removed]",
      "text/plain": [
       "<Figure size 720x504 with 1 Axes>"
      ]
     },
     "metadata": {},
     "output_type": "display_data"
    }
   ],
   "source": [
    "v = net['type'].value_counts()\n",
    "# соотношение фильмов и сериалов\n",
    "v.plot(kind='pie')\n",
    "plt.xlabel('')\n",
    "plt.ylabel('')\n",
    "plt.title('All data')\n",
    "plt.legend()"
   ]
  },
  {
   "cell_type": "markdown",
   "metadata": {},
   "source": [
    "#### На графике можно увидеть, что фильмы, на данный момент, занимают большую часть архива сервиса"
   ]
  },
  {
   "cell_type": "code",
   "execution_count": 6,
   "metadata": {},
   "outputs": [],
   "source": [
    "movie = net[(net['release_year']>=2000) & (net['release_year']<2020) & (net['type']=='Movie')]\n",
    "tv_show = net[(net['release_year']>=2000) & (net['release_year']<2020) & (net['type']=='TV Show')]\n",
    "movie_count = movie.groupby('release_year')[['type']].count()\n",
    "tv_show_count = tv_show.groupby('release_year')[['type']].count()"
   ]
  },
  {
   "cell_type": "code",
   "execution_count": 16,
   "metadata": {},
   "outputs": [
    {
     "data": {
      "text/plain": [
       "<matplotlib.legend.Legend at 0x4d46ca2b48>"
      ]
     },
     "execution_count": 16,
     "metadata": {},
     "output_type": "execute_result"
    },
    {
     "data": {
      "image/png": "[encoded data removed]",
      "text/plain": [
       "<Figure size 720x504 with 1 Axes>"
      ]
     },
     "metadata": {
      "needs_background": "light"
     },
     "output_type": "display_data"
    }
   ],
   "source": [
    "plt.plot(movie_count.index, movie_count['type'], label='Movie')\n",
    "plt.plot(tv_show_count.index, tv_show_count['type'], label='TV Show')\n",
    "plt.xlabel('Year')\n",
    "plt.ylabel('Quantity')\n",
    "plt.title('Ratio Movies and TV Shows on 2000-2020')\n",
    "plt.legend()"
   ]
  },
  {
   "cell_type": "markdown",
   "metadata": {},
   "source": [
    "#### На данном графике можно увидеть что за последние 20 лет выпускалось все больше фильмов и сериалов, однако в 2017 году выпуск фильмов пошел на спад ."
   ]
  },
  {
   "cell_type": "code",
   "execution_count": 9,
   "metadata": {},
   "outputs": [
    {
     "data": {
      "application/vnd.plotly.v1+json": {
       "config": {
        "linkText": "Export to plot.ly",
        "plotlyServerURL": "https://plot.ly",
        "showLink": false
       },
       "data": [
        {
         "name": "Movie Quantity ",
         "type": "scatter",
         "x": [
          2000,
          2001,
          2002,
          2003,
          2004,
          2005,
          2006,
          2007,
          2008,
          2009,
          2010,
          2011,
          2012,
          2013,
          2014,
          2015,
          2016,
          2017,
          2018,
          2019
         ],
         "y": [
          28,
          30,
          35,
          35,
          40,
          51,
          59,
          60,
          87,
          87,
          111,
          100,
          125,
          177,
          213,
          363,
          593,
          682,
          646,
          400
         ]
        },
        {
         "name": "TV Shows Quantity",
         "type": "scatter",
         "x": [
          2000,
          2001,
          2002,
          2003,
          2004,
          2005,
          2006,
          2007,
          2008,
          2009,
          2010,
          2011,
          2012,
          2013,
          2014,
          2015,
          2016,
          2017,
          2018,
          2019
         ],
         "y": [
          3,
          4,
          3,
          8,
          9,
          12,
          9,
          11,
          20,
          34,
          38,
          36,
          58,
          60,
          75,
          154,
          237,
          277,
          417,
          443
         ]
        }
       ],
       "layout": {
        "template": {
         "data": {
          "bar": [
           {
            "error_x": {
             "color": "#2a3f5f"
            },
            "error_y": {
             "color": "#2a3f5f"
            },
            "marker": {
             "line": {
              "color": "#E5ECF6",
              "width": 0.5
             }
            },
            "type": "bar"
           }
          ],
          "barpolar": [
           {
            "marker": {
             "line": {
              "color": "#E5ECF6",
              "width": 0.5
             }
            },
            "type": "barpolar"
           }
          ],
          "carpet": [
           {
            "aaxis": {
             "endlinecolor": "#2a3f5f",
             "gridcolor": "white",
             "linecolor": "white",
             "minorgridcolor": "white",
             "startlinecolor": "#2a3f5f"
            },
            "baxis": {
             "endlinecolor": "#2a3f5f",
             "gridcolor": "white",
             "linecolor": "white",
             "minorgridcolor": "white",
             "startlinecolor": "#2a3f5f"
            },
            "type": "carpet"
           }
          ],
          "choropleth": [
           {
            "colorbar": {
             "outlinewidth": 0,
             "ticks": ""
            },
            "type": "choropleth"
           }
          ],
          "contour": [
           {
            "colorbar": {
             "outlinewidth": 0,
             "ticks": ""
            },
            "colorscale": [
             [
              0,
              "#0d0887"
             ],
             [
              0.1111111111111111,
              "#46039f"
             ],
             [
              0.2222222222222222,
              "#7201a8"
             ],
             [
              0.3333333333333333,
              "#9c179e"
             ],
             [
              0.4444444444444444,
              "#bd3786"
             ],
             [
              0.5555555555555556,
              "#d8576b"
             ],
             [
              0.6666666666666666,
              "#ed7953"
             ],
             [
              0.7777777777777778,
              "#fb9f3a"
             ],
             [
              0.8888888888888888,
              "#fdca26"
             ],
             [
              1,
              "#f0f921"
             ]
            ],
            "type": "contour"
           }
          ],
          "contourcarpet": [
           {
            "colorbar": {
             "outlinewidth": 0,
             "ticks": ""
            },
            "type": "contourcarpet"
           }
          ],
          "heatmap": [
           {
            "colorbar": {
             "outlinewidth": 0,
             "ticks": ""
            },
            "colorscale": [
             [
              0,
              "#0d0887"
             ],
             [
              0.1111111111111111,
              "#46039f"
             ],
             [
              0.2222222222222222,
              "#7201a8"
             ],
             [
              0.3333333333333333,
              "#9c179e"
             ],
             [
              0.4444444444444444,
              "#bd3786"
             ],
             [
              0.5555555555555556,
              "#d8576b"
             ],
             [
              0.6666666666666666,
              "#ed7953"
             ],
             [
              0.7777777777777778,
              "#fb9f3a"
             ],
             [
              0.8888888888888888,
              "#fdca26"
             ],
             [
              1,
              "#f0f921"
             ]
            ],
            "type": "heatmap"
           }
          ],
          "heatmapgl": [
           {
            "colorbar": {
             "outlinewidth": 0,
             "ticks": ""
            },
            "colorscale": [
             [
              0,
              "#0d0887"
             ],
             [
              0.1111111111111111,
              "#46039f"
             ],
             [
              0.2222222222222222,
              "#7201a8"
             ],
             [
              0.3333333333333333,
              "#9c179e"
             ],
             [
              0.4444444444444444,
              "#bd3786"
             ],
             [
              0.5555555555555556,
              "#d8576b"
             ],
             [
              0.6666666666666666,
              "#ed7953"
             ],
             [
              0.7777777777777778,
              "#fb9f3a"
             ],
             [
              0.8888888888888888,
              "#fdca26"
             ],
             [
              1,
              "#f0f921"
             ]
            ],
            "type": "heatmapgl"
           }
          ],
          "histogram": [
           {
            "marker": {
             "colorbar": {
              "outlinewidth": 0,
              "ticks": ""
             }
            },
            "type": "histogram"
           }
          ],
          "histogram2d": [
           {
            "colorbar": {
             "outlinewidth": 0,
             "ticks": ""
            },
            "colorscale": [
             [
              0,
              "#0d0887"
             ],
             [
              0.1111111111111111,
              "#46039f"
             ],
             [
              0.2222222222222222,
              "#7201a8"
             ],
             [
              0.3333333333333333,
              "#9c179e"
             ],
             [
              0.4444444444444444,
              "#bd3786"
             ],
             [
              0.5555555555555556,
              "#d8576b"
             ],
             [
              0.6666666666666666,
              "#ed7953"
             ],
             [
              0.7777777777777778,
              "#fb9f3a"
             ],
             [
              0.8888888888888888,
              "#fdca26"
             ],
             [
              1,
              "#f0f921"
             ]
            ],
            "type": "histogram2d"
           }
          ],
          "histogram2dcontour": [
           {
            "colorbar": {
             "outlinewidth": 0,
             "ticks": ""
            },
            "colorscale": [
             [
              0,
              "#0d0887"
             ],
             [
              0.1111111111111111,
              "#46039f"
             ],
             [
              0.2222222222222222,
              "#7201a8"
             ],
             [
              0.3333333333333333,
              "#9c179e"
             ],
             [
              0.4444444444444444,
              "#bd3786"
             ],
             [
              0.5555555555555556,
              "#d8576b"
             ],
             [
              0.6666666666666666,
              "#ed7953"
             ],
             [
              0.7777777777777778,
              "#fb9f3a"
             ],
             [
              0.8888888888888888,
              "#fdca26"
             ],
             [
              1,
              "#f0f921"
             ]
            ],
            "type": "histogram2dcontour"
           }
          ],
          "mesh3d": [
           {
            "colorbar": {
             "outlinewidth": 0,
             "ticks": ""
            },
            "type": "mesh3d"
           }
          ],
          "parcoords": [
           {
            "line": {
             "colorbar": {
              "outlinewidth": 0,
              "ticks": ""
             }
            },
            "type": "parcoords"
           }
          ],
          "pie": [
           {
            "automargin": true,
            "type": "pie"
           }
          ],
          "scatter": [
           {
            "marker": {
             "colorbar": {
              "outlinewidth": 0,
              "ticks": ""
             }
            },
            "type": "scatter"
           }
          ],
          "scatter3d": [
           {
            "line": {
             "colorbar": {
              "outlinewidth": 0,
              "ticks": ""
             }
            },
            "marker": {
             "colorbar": {
              "outlinewidth": 0,
              "ticks": ""
             }
            },
            "type": "scatter3d"
           }
          ],
          "scattercarpet": [
           {
            "marker": {
             "colorbar": {
              "outlinewidth": 0,
              "ticks": ""
             }
            },
            "type": "scattercarpet"
           }
          ],
          "scattergeo": [
           {
            "marker": {
             "colorbar": {
              "outlinewidth": 0,
              "ticks": ""
             }
            },
            "type": "scattergeo"
           }
          ],
          "scattergl": [
           {
            "marker": {
             "colorbar": {
              "outlinewidth": 0,
              "ticks": ""
             }
            },
            "type": "scattergl"
           }
          ],
          "scattermapbox": [
           {
            "marker": {
             "colorbar": {
              "outlinewidth": 0,
              "ticks": ""
             }
            },
            "type": "scattermapbox"
           }
          ],
          "scatterpolar": [
           {
            "marker": {
             "colorbar": {
              "outlinewidth": 0,
              "ticks": ""
             }
            },
            "type": "scatterpolar"
           }
          ],
          "scatterpolargl": [
           {
            "marker": {
             "colorbar": {
              "outlinewidth": 0,
              "ticks": ""
             }
            },
            "type": "scatterpolargl"
           }
          ],
          "scatterternary": [
           {
            "marker": {
             "colorbar": {
              "outlinewidth": 0,
              "ticks": ""
             }
            },
            "type": "scatterternary"
           }
          ],
          "surface": [
           {
            "colorbar": {
             "outlinewidth": 0,
             "ticks": ""
            },
            "colorscale": [
             [
              0,
              "#0d0887"
             ],
             [
              0.1111111111111111,
              "#46039f"
             ],
             [
              0.2222222222222222,
              "#7201a8"
             ],
             [
              0.3333333333333333,
              "#9c179e"
             ],
             [
              0.4444444444444444,
              "#bd3786"
             ],
             [
              0.5555555555555556,
              "#d8576b"
             ],
             [
              0.6666666666666666,
              "#ed7953"
             ],
             [
              0.7777777777777778,
              "#fb9f3a"
             ],
             [
              0.8888888888888888,
              "#fdca26"
             ],
             [
              1,
              "#f0f921"
             ]
            ],
            "type": "surface"
           }
          ],
          "table": [
           {
            "cells": {
             "fill": {
              "color": "#EBF0F8"
             },
             "line": {
              "color": "white"
             }
            },
            "header": {
             "fill": {
              "color": "#C8D4E3"
             },
             "line": {
              "color": "white"
             }
            },
            "type": "table"
           }
          ]
         },
         "layout": {
          "annotationdefaults": {
           "arrowcolor": "#2a3f5f",
           "arrowhead": 0,
           "arrowwidth": 1
          },
          "coloraxis": {
           "colorbar": {
            "outlinewidth": 0,
            "ticks": ""
           }
          },
          "colorscale": {
           "diverging": [
            [
             0,
             "#8e0152"
            ],
            [
             0.1,
             "#c51b7d"
            ],
            [
             0.2,
             "#de77ae"
            ],
            [
             0.3,
             "#f1b6da"
            ],
            [
             0.4,
             "#fde0ef"
            ],
            [
             0.5,
             "#f7f7f7"
            ],
            [
             0.6,
             "#e6f5d0"
            ],
            [
             0.7,
             "#b8e186"
            ],
            [
             0.8,
             "#7fbc41"
            ],
            [
             0.9,
             "#4d9221"
            ],
            [
             1,
             "#276419"
            ]
           ],
           "sequential": [
            [
             0,
             "#0d0887"
            ],
            [
             0.1111111111111111,
             "#46039f"
            ],
            [
             0.2222222222222222,
             "#7201a8"
            ],
            [
             0.3333333333333333,
             "#9c179e"
            ],
            [
             0.4444444444444444,
             "#bd3786"
            ],
            [
             0.5555555555555556,
             "#d8576b"
            ],
            [
             0.6666666666666666,
             "#ed7953"
            ],
            [
             0.7777777777777778,
             "#fb9f3a"
            ],
            [
             0.8888888888888888,
             "#fdca26"
            ],
            [
             1,
             "#f0f921"
            ]
           ],
           "sequentialminus": [
            [
             0,
             "#0d0887"
            ],
            [
             0.1111111111111111,
             "#46039f"
            ],
            [
             0.2222222222222222,
             "#7201a8"
            ],
            [
             0.3333333333333333,
             "#9c179e"
            ],
            [
             0.4444444444444444,
             "#bd3786"
            ],
            [
             0.5555555555555556,
             "#d8576b"
            ],
            [
             0.6666666666666666,
             "#ed7953"
            ],
            [
             0.7777777777777778,
             "#fb9f3a"
            ],
            [
             0.8888888888888888,
             "#fdca26"
            ],
            [
             1,
             "#f0f921"
            ]
           ]
          },
          "colorway": [
           "#636efa",
           "#EF553B",
           "#00cc96",
           "#ab63fa",
           "#FFA15A",
           "#19d3f3",
           "#FF6692",
           "#B6E880",
           "#FF97FF",
           "#FECB52"
          ],
          "font": {
           "color": "#2a3f5f"
          },
          "geo": {
           "bgcolor": "white",
           "lakecolor": "white",
           "landcolor": "#E5ECF6",
           "showlakes": true,
           "showland": true,
           "subunitcolor": "white"
          },
          "hoverlabel": {
           "align": "left"
          },
          "hovermode": "closest",
          "mapbox": {
           "style": "light"
          },
          "paper_bgcolor": "white",
          "plot_bgcolor": "#E5ECF6",
          "polar": {
           "angularaxis": {
            "gridcolor": "white",
            "linecolor": "white",
            "ticks": ""
           },
           "bgcolor": "#E5ECF6",
           "radialaxis": {
            "gridcolor": "white",
            "linecolor": "white",
            "ticks": ""
           }
          },
          "scene": {
           "xaxis": {
            "backgroundcolor": "#E5ECF6",
            "gridcolor": "white",
            "gridwidth": 2,
            "linecolor": "white",
            "showbackground": true,
            "ticks": "",
            "zerolinecolor": "white"
           },
           "yaxis": {
            "backgroundcolor": "#E5ECF6",
            "gridcolor": "white",
            "gridwidth": 2,
            "linecolor": "white",
            "showbackground": true,
            "ticks": "",
            "zerolinecolor": "white"
           },
           "zaxis": {
            "backgroundcolor": "#E5ECF6",
            "gridcolor": "white",
            "gridwidth": 2,
            "linecolor": "white",
            "showbackground": true,
            "ticks": "",
            "zerolinecolor": "white"
           }
          },
          "shapedefaults": {
           "line": {
            "color": "#2a3f5f"
           }
          },
          "ternary": {
           "aaxis": {
            "gridcolor": "white",
            "linecolor": "white",
            "ticks": ""
           },
           "baxis": {
            "gridcolor": "white",
            "linecolor": "white",
            "ticks": ""
           },
           "bgcolor": "#E5ECF6",
           "caxis": {
            "gridcolor": "white",
            "linecolor": "white",
            "ticks": ""
           }
          },
          "title": {
           "x": 0.05
          },
          "xaxis": {
           "automargin": true,
           "gridcolor": "white",
           "linecolor": "white",
           "ticks": "",
           "title": {
            "standoff": 15
           },
           "zerolinecolor": "white",
           "zerolinewidth": 2
          },
          "yaxis": {
           "automargin": true,
           "gridcolor": "white",
           "linecolor": "white",
           "ticks": "",
           "title": {
            "standoff": 15
           },
           "zerolinecolor": "white",
           "zerolinewidth": 2
          }
         }
        },
        "title": {
         "text": "Ratio Movies and TV Shows on 2000-2020"
        }
       }
      },
      "text/html": [
       "<div>\n",
       "        \n",
       "        \n",
       "            <div id=\"8c3ad843-b8a0-4c56-b551-7c2bc041161f\" class=\"plotly-graph-div\" style=\"height:525px; width:100%;\"></div>\n",
       "            <script type=\"text/javascript\">\n",
       "                require([\"plotly\"], function(Plotly) {\n",
       "                    window.PLOTLYENV=window.PLOTLYENV || {};\n",
       "                    \n",
       "                if (document.getElementById(\"8c3ad843-b8a0-4c56-b551-7c2bc041161f\")) {\n",
       "                    Plotly.newPlot(\n",
       "                        '8c3ad843-b8a0-4c56-b551-7c2bc041161f',\n",
       "                        [{\"name\": \"Movie Quantity \", \"type\": \"scatter\", \"x\": [2000, 2001, 2002, 2003, 2004, 2005, 2006, 2007, 2008, 2009, 2010, 2011, 2012, 2013, 2014, 2015, 2016, 2017, 2018, 2019], \"y\": [28, 30, 35, 35, 40, 51, 59, 60, 87, 87, 111, 100, 125, 177, 213, 363, 593, 682, 646, 400]}, {\"name\": \"TV Shows Quantity\", \"type\": \"scatter\", \"x\": [2000, 2001, 2002, 2003, 2004, 2005, 2006, 2007, 2008, 2009, 2010, 2011, 2012, 2013, 2014, 2015, 2016, 2017, 2018, 2019], \"y\": [3, 4, 3, 8, 9, 12, 9, 11, 20, 34, 38, 36, 58, 60, 75, 154, 237, 277, 417, 443]}],\n",
       "                        {\"template\": {\"data\": {\"bar\": [{\"error_x\": {\"color\": \"#2a3f5f\"}, \"error_y\": {\"color\": \"#2a3f5f\"}, \"marker\": {\"line\": {\"color\": \"#E5ECF6\", \"width\": 0.5}}, \"type\": \"bar\"}], \"barpolar\": [{\"marker\": {\"line\": {\"color\": \"#E5ECF6\", \"width\": 0.5}}, \"type\": \"barpolar\"}], \"carpet\": [{\"aaxis\": {\"endlinecolor\": \"#2a3f5f\", \"gridcolor\": \"white\", \"linecolor\": \"white\", \"minorgridcolor\": \"white\", \"startlinecolor\": \"#2a3f5f\"}, \"baxis\": {\"endlinecolor\": \"#2a3f5f\", \"gridcolor\": \"white\", \"linecolor\": \"white\", \"minorgridcolor\": \"white\", \"startlinecolor\": \"#2a3f5f\"}, \"type\": \"carpet\"}], \"choropleth\": [{\"colorbar\": {\"outlinewidth\": 0, \"ticks\": \"\"}, \"type\": \"choropleth\"}], \"contour\": [{\"colorbar\": {\"outlinewidth\": 0, \"ticks\": \"\"}, \"colorscale\": [[0.0, \"#0d0887\"], [0.1111111111111111, \"#46039f\"], [0.2222222222222222, \"#7201a8\"], [0.3333333333333333, \"#9c179e\"], [0.4444444444444444, \"#bd3786\"], [0.5555555555555556, \"#d8576b\"], [0.6666666666666666, \"#ed7953\"], [0.7777777777777778, \"#fb9f3a\"], [0.8888888888888888, \"#fdca26\"], [1.0, \"#f0f921\"]], \"type\": \"contour\"}], \"contourcarpet\": [{\"colorbar\": {\"outlinewidth\": 0, \"ticks\": \"\"}, \"type\": \"contourcarpet\"}], \"heatmap\": [{\"colorbar\": {\"outlinewidth\": 0, \"ticks\": \"\"}, \"colorscale\": [[0.0, \"#0d0887\"], [0.1111111111111111, \"#46039f\"], [0.2222222222222222, \"#7201a8\"], [0.3333333333333333, \"#9c179e\"], [0.4444444444444444, \"#bd3786\"], [0.5555555555555556, \"#d8576b\"], [0.6666666666666666, \"#ed7953\"], [0.7777777777777778, \"#fb9f3a\"], [0.8888888888888888, \"#fdca26\"], [1.0, \"#f0f921\"]], \"type\": \"heatmap\"}], \"heatmapgl\": [{\"colorbar\": {\"outlinewidth\": 0, \"ticks\": \"\"}, \"colorscale\": [[0.0, \"#0d0887\"], [0.1111111111111111, \"#46039f\"], [0.2222222222222222, \"#7201a8\"], [0.3333333333333333, \"#9c179e\"], [0.4444444444444444, \"#bd3786\"], [0.5555555555555556, \"#d8576b\"], [0.6666666666666666, \"#ed7953\"], [0.7777777777777778, \"#fb9f3a\"], [0.8888888888888888, \"#fdca26\"], [1.0, \"#f0f921\"]], \"type\": \"heatmapgl\"}], \"histogram\": [{\"marker\": {\"colorbar\": {\"outlinewidth\": 0, \"ticks\": \"\"}}, \"type\": \"histogram\"}], \"histogram2d\": [{\"colorbar\": {\"outlinewidth\": 0, \"ticks\": \"\"}, \"colorscale\": [[0.0, \"#0d0887\"], [0.1111111111111111, \"#46039f\"], [0.2222222222222222, \"#7201a8\"], [0.3333333333333333, \"#9c179e\"], [0.4444444444444444, \"#bd3786\"], [0.5555555555555556, \"#d8576b\"], [0.6666666666666666, \"#ed7953\"], [0.7777777777777778, \"#fb9f3a\"], [0.8888888888888888, \"#fdca26\"], [1.0, \"#f0f921\"]], \"type\": \"histogram2d\"}], \"histogram2dcontour\": [{\"colorbar\": {\"outlinewidth\": 0, \"ticks\": \"\"}, \"colorscale\": [[0.0, \"#0d0887\"], [0.1111111111111111, \"#46039f\"], [0.2222222222222222, \"#7201a8\"], [0.3333333333333333, \"#9c179e\"], [0.4444444444444444, \"#bd3786\"], [0.5555555555555556, \"#d8576b\"], [0.6666666666666666, \"#ed7953\"], [0.7777777777777778, \"#fb9f3a\"], [0.8888888888888888, \"#fdca26\"], [1.0, \"#f0f921\"]], \"type\": \"histogram2dcontour\"}], \"mesh3d\": [{\"colorbar\": {\"outlinewidth\": 0, \"ticks\": \"\"}, \"type\": \"mesh3d\"}], \"parcoords\": [{\"line\": {\"colorbar\": {\"outlinewidth\": 0, \"ticks\": \"\"}}, \"type\": \"parcoords\"}], \"pie\": [{\"automargin\": true, \"type\": \"pie\"}], \"scatter\": [{\"marker\": {\"colorbar\": {\"outlinewidth\": 0, \"ticks\": \"\"}}, \"type\": \"scatter\"}], \"scatter3d\": [{\"line\": {\"colorbar\": {\"outlinewidth\": 0, \"ticks\": \"\"}}, \"marker\": {\"colorbar\": {\"outlinewidth\": 0, \"ticks\": \"\"}}, \"type\": \"scatter3d\"}], \"scattercarpet\": [{\"marker\": {\"colorbar\": {\"outlinewidth\": 0, \"ticks\": \"\"}}, \"type\": \"scattercarpet\"}], \"scattergeo\": [{\"marker\": {\"colorbar\": {\"outlinewidth\": 0, \"ticks\": \"\"}}, \"type\": \"scattergeo\"}], \"scattergl\": [{\"marker\": {\"colorbar\": {\"outlinewidth\": 0, \"ticks\": \"\"}}, \"type\": \"scattergl\"}], \"scattermapbox\": [{\"marker\": {\"colorbar\": {\"outlinewidth\": 0, \"ticks\": \"\"}}, \"type\": \"scattermapbox\"}], \"scatterpolar\": [{\"marker\": {\"colorbar\": {\"outlinewidth\": 0, \"ticks\": \"\"}}, \"type\": \"scatterpolar\"}], \"scatterpolargl\": [{\"marker\": {\"colorbar\": {\"outlinewidth\": 0, \"ticks\": \"\"}}, \"type\": \"scatterpolargl\"}], \"scatterternary\": [{\"marker\": {\"colorbar\": {\"outlinewidth\": 0, \"ticks\": \"\"}}, \"type\": \"scatterternary\"}], \"surface\": [{\"colorbar\": {\"outlinewidth\": 0, \"ticks\": \"\"}, \"colorscale\": [[0.0, \"#0d0887\"], [0.1111111111111111, \"#46039f\"], [0.2222222222222222, \"#7201a8\"], [0.3333333333333333, \"#9c179e\"], [0.4444444444444444, \"#bd3786\"], [0.5555555555555556, \"#d8576b\"], [0.6666666666666666, \"#ed7953\"], [0.7777777777777778, \"#fb9f3a\"], [0.8888888888888888, \"#fdca26\"], [1.0, \"#f0f921\"]], \"type\": \"surface\"}], \"table\": [{\"cells\": {\"fill\": {\"color\": \"#EBF0F8\"}, \"line\": {\"color\": \"white\"}}, \"header\": {\"fill\": {\"color\": \"#C8D4E3\"}, \"line\": {\"color\": \"white\"}}, \"type\": \"table\"}]}, \"layout\": {\"annotationdefaults\": {\"arrowcolor\": \"#2a3f5f\", \"arrowhead\": 0, \"arrowwidth\": 1}, \"coloraxis\": {\"colorbar\": {\"outlinewidth\": 0, \"ticks\": \"\"}}, \"colorscale\": {\"diverging\": [[0, \"#8e0152\"], [0.1, \"#c51b7d\"], [0.2, \"#de77ae\"], [0.3, \"#f1b6da\"], [0.4, \"#fde0ef\"], [0.5, \"#f7f7f7\"], [0.6, \"#e6f5d0\"], [0.7, \"#b8e186\"], [0.8, \"#7fbc41\"], [0.9, \"#4d9221\"], [1, \"#276419\"]], \"sequential\": [[0.0, \"#0d0887\"], [0.1111111111111111, \"#46039f\"], [0.2222222222222222, \"#7201a8\"], [0.3333333333333333, \"#9c179e\"], [0.4444444444444444, \"#bd3786\"], [0.5555555555555556, \"#d8576b\"], [0.6666666666666666, \"#ed7953\"], [0.7777777777777778, \"#fb9f3a\"], [0.8888888888888888, \"#fdca26\"], [1.0, \"#f0f921\"]], \"sequentialminus\": [[0.0, \"#0d0887\"], [0.1111111111111111, \"#46039f\"], [0.2222222222222222, \"#7201a8\"], [0.3333333333333333, \"#9c179e\"], [0.4444444444444444, \"#bd3786\"], [0.5555555555555556, \"#d8576b\"], [0.6666666666666666, \"#ed7953\"], [0.7777777777777778, \"#fb9f3a\"], [0.8888888888888888, \"#fdca26\"], [1.0, \"#f0f921\"]]}, \"colorway\": [\"#636efa\", \"#EF553B\", \"#00cc96\", \"#ab63fa\", \"#FFA15A\", \"#19d3f3\", \"#FF6692\", \"#B6E880\", \"#FF97FF\", \"#FECB52\"], \"font\": {\"color\": \"#2a3f5f\"}, \"geo\": {\"bgcolor\": \"white\", \"lakecolor\": \"white\", \"landcolor\": \"#E5ECF6\", \"showlakes\": true, \"showland\": true, \"subunitcolor\": \"white\"}, \"hoverlabel\": {\"align\": \"left\"}, \"hovermode\": \"closest\", \"mapbox\": {\"style\": \"light\"}, \"paper_bgcolor\": \"white\", \"plot_bgcolor\": \"#E5ECF6\", \"polar\": {\"angularaxis\": {\"gridcolor\": \"white\", \"linecolor\": \"white\", \"ticks\": \"\"}, \"bgcolor\": \"#E5ECF6\", \"radialaxis\": {\"gridcolor\": \"white\", \"linecolor\": \"white\", \"ticks\": \"\"}}, \"scene\": {\"xaxis\": {\"backgroundcolor\": \"#E5ECF6\", \"gridcolor\": \"white\", \"gridwidth\": 2, \"linecolor\": \"white\", \"showbackground\": true, \"ticks\": \"\", \"zerolinecolor\": \"white\"}, \"yaxis\": {\"backgroundcolor\": \"#E5ECF6\", \"gridcolor\": \"white\", \"gridwidth\": 2, \"linecolor\": \"white\", \"showbackground\": true, \"ticks\": \"\", \"zerolinecolor\": \"white\"}, \"zaxis\": {\"backgroundcolor\": \"#E5ECF6\", \"gridcolor\": \"white\", \"gridwidth\": 2, \"linecolor\": \"white\", \"showbackground\": true, \"ticks\": \"\", \"zerolinecolor\": \"white\"}}, \"shapedefaults\": {\"line\": {\"color\": \"#2a3f5f\"}}, \"ternary\": {\"aaxis\": {\"gridcolor\": \"white\", \"linecolor\": \"white\", \"ticks\": \"\"}, \"baxis\": {\"gridcolor\": \"white\", \"linecolor\": \"white\", \"ticks\": \"\"}, \"bgcolor\": \"#E5ECF6\", \"caxis\": {\"gridcolor\": \"white\", \"linecolor\": \"white\", \"ticks\": \"\"}}, \"title\": {\"x\": 0.05}, \"xaxis\": {\"automargin\": true, \"gridcolor\": \"white\", \"linecolor\": \"white\", \"ticks\": \"\", \"title\": {\"standoff\": 15}, \"zerolinecolor\": \"white\", \"zerolinewidth\": 2}, \"yaxis\": {\"automargin\": true, \"gridcolor\": \"white\", \"linecolor\": \"white\", \"ticks\": \"\", \"title\": {\"standoff\": 15}, \"zerolinecolor\": \"white\", \"zerolinewidth\": 2}}}, \"title\": {\"text\": \"Ratio Movies and TV Shows on 2000-2020\"}},\n",
       "                        {\"responsive\": true}\n",
       "                    ).then(function(){\n",
       "                            \n",
       "var gd = document.getElementById('8c3ad843-b8a0-4c56-b551-7c2bc041161f');\n",
       "var x = new MutationObserver(function (mutations, observer) {{\n",
       "        var display = window.getComputedStyle(gd).display;\n",
       "        if (!display || display === 'none') {{\n",
       "            console.log([gd, 'removed!']);\n",
       "            Plotly.purge(gd);\n",
       "            observer.disconnect();\n",
       "        }}\n",
       "}});\n",
       "\n",
       "// Listen for the removal of the full notebook cells\n",
       "var notebookContainer = gd.closest('#notebook-container');\n",
       "if (notebookContainer) {{\n",
       "    x.observe(notebookContainer, {childList: true});\n",
       "}}\n",
       "\n",
       "// Listen for the clearing of the current output cell\n",
       "var outputEl = gd.closest('.output');\n",
       "if (outputEl) {{\n",
       "    x.observe(outputEl, {childList: true});\n",
       "}}\n",
       "\n",
       "                        })\n",
       "                };\n",
       "                });\n",
       "            </script>\n",
       "        </div>"
      ]
     },
     "metadata": {},
     "output_type": "display_data"
    }
   ],
   "source": [
    "trace0 = go.Scatter(\n",
    "    x=movie_count.index,\n",
    "    y=movie_count.type,\n",
    "    name='Movie Quantity '\n",
    ")\n",
    "\n",
    "trace1 = go.Scatter(\n",
    "    x=tv_show_count.index,\n",
    "    y=tv_show_count.type,\n",
    "    name='TV Shows Quantity'\n",
    ")\n",
    "  \n",
    "data = [trace0, trace1]\n",
    "layout = {'title': 'Ratio Movies and TV Shows on 2000-2020'}\n",
    "\n",
    "fig = go.Figure(data=data, layout=layout)\n",
    "\n",
    "iplot(fig)"
   ]
  },
  {
   "cell_type": "markdown",
   "metadata": {},
   "source": [
    "#### предыдущий график в другом исполнении"
   ]
  },
  {
   "cell_type": "code",
   "execution_count": 23,
   "metadata": {},
   "outputs": [
    {
     "data": {
      "text/plain": [
       "1 Season      1321\n",
       "2 Seasons      304\n",
       "3 Seasons      158\n",
       "4 Seasons       61\n",
       "5 Seasons       46\n",
       "6 Seasons       22\n",
       "7 Seasons       21\n",
       "8 Seasons       16\n",
       "9 Seasons        7\n",
       "11 Seasons       3\n",
       "10 Seasons       3\n",
       "13 Seasons       2\n",
       "12 Seasons       2\n",
       "15 Seasons       2\n",
       "14 Seasons       1\n",
       "Name: duration, dtype: int64"
      ]
     },
     "execution_count": 23,
     "metadata": {},
     "output_type": "execute_result"
    }
   ],
   "source": [
    "shows = net[net.duration.str.contains('season', case=False)]['duration'].value_counts()\n",
    "shows"
   ]
  },
  {
   "cell_type": "code",
   "execution_count": 17,
   "metadata": {},
   "outputs": [
    {
     "data": {
      "text/plain": [
       "<matplotlib.legend.Legend at 0x4d460cb548>"
      ]
     },
     "execution_count": 17,
     "metadata": {},
     "output_type": "execute_result"
    },
    {
     "data": {
      "image/png": "[encoded data removed]",
      "text/plain": [
       "<Figure size 720x504 with 1 Axes>"
      ]
     },
     "metadata": {
      "needs_background": "light"
     },
     "output_type": "display_data"
    }
   ],
   "source": [
    "shows.plot(kind='bar')\n",
    "plt.plot(chart.index, chart['type'])\n",
    "plt.xlabel('Duration')\n",
    "plt.ylabel('Quantity')\n",
    "plt.title('Ratio TV Shows duration')\n",
    "plt.legend()"
   ]
  },
  {
   "cell_type": "markdown",
   "metadata": {},
   "source": [
    "#### На графике видно, что больше всего сериалов с 1 сезоном. Так же видно, что с увеличением количества сезонов в сериалах их количество уменьшается. Уменьшение идет с геометрической прогрессией."
   ]
  },
  {
   "cell_type": "code",
   "execution_count": 13,
   "metadata": {},
   "outputs": [
    {
     "data": {
      "text/html": [
       "<style  type=\"text/css\" >\n",
       "    #T_093d30dc_08bc_11eb_8212_7429af293810row0_col1 {\n",
       "            width:  10em;\n",
       "             height:  80%;\n",
       "            background:  linear-gradient(90deg,#d65f5f 100.0%, transparent 100.0%);\n",
       "        }    #T_093d30dc_08bc_11eb_8212_7429af293810row1_col1 {\n",
       "            width:  10em;\n",
       "             height:  80%;\n",
       "            background:  linear-gradient(90deg,#d65f5f 93.6%, transparent 93.6%);\n",
       "        }    #T_093d30dc_08bc_11eb_8212_7429af293810row2_col1 {\n",
       "            width:  10em;\n",
       "             height:  80%;\n",
       "            background:  linear-gradient(90deg,#d65f5f 90.9%, transparent 90.9%);\n",
       "        }    #T_093d30dc_08bc_11eb_8212_7429af293810row3_col1 {\n",
       "            width:  10em;\n",
       "             height:  80%;\n",
       "            background:  linear-gradient(90deg,#d65f5f 84.5%, transparent 84.5%);\n",
       "        }    #T_093d30dc_08bc_11eb_8212_7429af293810row4_col1 {\n",
       "            width:  10em;\n",
       "             height:  80%;\n",
       "            background:  linear-gradient(90deg,#d65f5f 84.5%, transparent 84.5%);\n",
       "        }    #T_093d30dc_08bc_11eb_8212_7429af293810row5_col1 {\n",
       "            width:  10em;\n",
       "             height:  80%;\n",
       "            background:  linear-gradient(90deg,#d65f5f 80.9%, transparent 80.9%);\n",
       "        }    #T_093d30dc_08bc_11eb_8212_7429af293810row6_col1 {\n",
       "            width:  10em;\n",
       "             height:  80%;\n",
       "            background:  linear-gradient(90deg,#d65f5f 79.1%, transparent 79.1%);\n",
       "        }    #T_093d30dc_08bc_11eb_8212_7429af293810row7_col1 {\n",
       "            width:  10em;\n",
       "             height:  80%;\n",
       "            background:  linear-gradient(90deg,#d65f5f 79.1%, transparent 79.1%);\n",
       "        }    #T_093d30dc_08bc_11eb_8212_7429af293810row8_col1 {\n",
       "            width:  10em;\n",
       "             height:  80%;\n",
       "            background:  linear-gradient(90deg,#d65f5f 77.3%, transparent 77.3%);\n",
       "        }    #T_093d30dc_08bc_11eb_8212_7429af293810row9_col1 {\n",
       "            width:  10em;\n",
       "             height:  80%;\n",
       "            background:  linear-gradient(90deg,#d65f5f 76.4%, transparent 76.4%);\n",
       "        }    #T_093d30dc_08bc_11eb_8212_7429af293810row10_col1 {\n",
       "            width:  10em;\n",
       "             height:  80%;\n",
       "            background:  linear-gradient(90deg,#d65f5f 74.5%, transparent 74.5%);\n",
       "        }    #T_093d30dc_08bc_11eb_8212_7429af293810row11_col1 {\n",
       "            width:  10em;\n",
       "             height:  80%;\n",
       "            background:  linear-gradient(90deg,#d65f5f 71.8%, transparent 71.8%);\n",
       "        }    #T_093d30dc_08bc_11eb_8212_7429af293810row12_col1 {\n",
       "            width:  10em;\n",
       "             height:  80%;\n",
       "            background:  linear-gradient(90deg,#d65f5f 70.0%, transparent 70.0%);\n",
       "        }    #T_093d30dc_08bc_11eb_8212_7429af293810row13_col1 {\n",
       "            width:  10em;\n",
       "             height:  80%;\n",
       "            background:  linear-gradient(90deg,#d65f5f 69.1%, transparent 69.1%);\n",
       "        }    #T_093d30dc_08bc_11eb_8212_7429af293810row14_col1 {\n",
       "            width:  10em;\n",
       "             height:  80%;\n",
       "            background:  linear-gradient(90deg,#d65f5f 67.3%, transparent 67.3%);\n",
       "        }    #T_093d30dc_08bc_11eb_8212_7429af293810row15_col1 {\n",
       "            width:  10em;\n",
       "             height:  80%;\n",
       "            background:  linear-gradient(90deg,#d65f5f 66.4%, transparent 66.4%);\n",
       "        }    #T_093d30dc_08bc_11eb_8212_7429af293810row16_col1 {\n",
       "            width:  10em;\n",
       "             height:  80%;\n",
       "            background:  linear-gradient(90deg,#d65f5f 63.6%, transparent 63.6%);\n",
       "        }    #T_093d30dc_08bc_11eb_8212_7429af293810row17_col1 {\n",
       "            width:  10em;\n",
       "             height:  80%;\n",
       "            background:  linear-gradient(90deg,#d65f5f 62.7%, transparent 62.7%);\n",
       "        }    #T_093d30dc_08bc_11eb_8212_7429af293810row18_col1 {\n",
       "            width:  10em;\n",
       "             height:  80%;\n",
       "            background:  linear-gradient(90deg,#d65f5f 62.7%, transparent 62.7%);\n",
       "        }    #T_093d30dc_08bc_11eb_8212_7429af293810row19_col1 {\n",
       "            width:  10em;\n",
       "             height:  80%;\n",
       "            background:  linear-gradient(90deg,#d65f5f 62.7%, transparent 62.7%);\n",
       "        }    #T_093d30dc_08bc_11eb_8212_7429af293810row20_col1 {\n",
       "            width:  10em;\n",
       "             height:  80%;\n",
       "            background:  linear-gradient(90deg,#d65f5f 61.8%, transparent 61.8%);\n",
       "        }    #T_093d30dc_08bc_11eb_8212_7429af293810row21_col1 {\n",
       "            width:  10em;\n",
       "             height:  80%;\n",
       "            background:  linear-gradient(90deg,#d65f5f 55.5%, transparent 55.5%);\n",
       "        }    #T_093d30dc_08bc_11eb_8212_7429af293810row22_col1 {\n",
       "            width:  10em;\n",
       "             height:  80%;\n",
       "            background:  linear-gradient(90deg,#d65f5f 53.6%, transparent 53.6%);\n",
       "        }    #T_093d30dc_08bc_11eb_8212_7429af293810row23_col1 {\n",
       "            width:  10em;\n",
       "             height:  80%;\n",
       "            background:  linear-gradient(90deg,#d65f5f 50.0%, transparent 50.0%);\n",
       "        }    #T_093d30dc_08bc_11eb_8212_7429af293810row24_col1 {\n",
       "            width:  10em;\n",
       "             height:  80%;\n",
       "            background:  linear-gradient(90deg,#d65f5f 44.5%, transparent 44.5%);\n",
       "        }    #T_093d30dc_08bc_11eb_8212_7429af293810row25_col1 {\n",
       "            width:  10em;\n",
       "             height:  80%;\n",
       "            background:  linear-gradient(90deg,#d65f5f 44.5%, transparent 44.5%);\n",
       "        }    #T_093d30dc_08bc_11eb_8212_7429af293810row26_col1 {\n",
       "            width:  10em;\n",
       "             height:  80%;\n",
       "            background:  linear-gradient(90deg,#d65f5f 44.5%, transparent 44.5%);\n",
       "        }    #T_093d30dc_08bc_11eb_8212_7429af293810row27_col1 {\n",
       "            width:  10em;\n",
       "             height:  80%;\n",
       "            background:  linear-gradient(90deg,#d65f5f 43.6%, transparent 43.6%);\n",
       "        }    #T_093d30dc_08bc_11eb_8212_7429af293810row28_col1 {\n",
       "            width:  10em;\n",
       "             height:  80%;\n",
       "            background:  linear-gradient(90deg,#d65f5f 42.7%, transparent 42.7%);\n",
       "        }    #T_093d30dc_08bc_11eb_8212_7429af293810row29_col1 {\n",
       "            width:  10em;\n",
       "             height:  80%;\n",
       "            background:  linear-gradient(90deg,#d65f5f 41.8%, transparent 41.8%);\n",
       "        }    #T_093d30dc_08bc_11eb_8212_7429af293810row30_col1 {\n",
       "            width:  10em;\n",
       "             height:  80%;\n",
       "            background:  linear-gradient(90deg,#d65f5f 40.9%, transparent 40.9%);\n",
       "        }    #T_093d30dc_08bc_11eb_8212_7429af293810row31_col1 {\n",
       "            width:  10em;\n",
       "             height:  80%;\n",
       "            background:  linear-gradient(90deg,#d65f5f 40.0%, transparent 40.0%);\n",
       "        }    #T_093d30dc_08bc_11eb_8212_7429af293810row32_col1 {\n",
       "            width:  10em;\n",
       "             height:  80%;\n",
       "            background:  linear-gradient(90deg,#d65f5f 38.2%, transparent 38.2%);\n",
       "        }    #T_093d30dc_08bc_11eb_8212_7429af293810row33_col1 {\n",
       "            width:  10em;\n",
       "             height:  80%;\n",
       "            background:  linear-gradient(90deg,#d65f5f 36.4%, transparent 36.4%);\n",
       "        }    #T_093d30dc_08bc_11eb_8212_7429af293810row34_col1 {\n",
       "            width:  10em;\n",
       "             height:  80%;\n",
       "            background:  linear-gradient(90deg,#d65f5f 35.5%, transparent 35.5%);\n",
       "        }    #T_093d30dc_08bc_11eb_8212_7429af293810row35_col1 {\n",
       "            width:  10em;\n",
       "             height:  80%;\n",
       "            background:  linear-gradient(90deg,#d65f5f 35.5%, transparent 35.5%);\n",
       "        }    #T_093d30dc_08bc_11eb_8212_7429af293810row36_col1 {\n",
       "            width:  10em;\n",
       "             height:  80%;\n",
       "            background:  linear-gradient(90deg,#d65f5f 34.5%, transparent 34.5%);\n",
       "        }    #T_093d30dc_08bc_11eb_8212_7429af293810row37_col1 {\n",
       "            width:  10em;\n",
       "             height:  80%;\n",
       "            background:  linear-gradient(90deg,#d65f5f 33.6%, transparent 33.6%);\n",
       "        }    #T_093d30dc_08bc_11eb_8212_7429af293810row38_col1 {\n",
       "            width:  10em;\n",
       "             height:  80%;\n",
       "            background:  linear-gradient(90deg,#d65f5f 32.7%, transparent 32.7%);\n",
       "        }    #T_093d30dc_08bc_11eb_8212_7429af293810row39_col1 {\n",
       "            width:  10em;\n",
       "             height:  80%;\n",
       "            background:  linear-gradient(90deg,#d65f5f 31.8%, transparent 31.8%);\n",
       "        }    #T_093d30dc_08bc_11eb_8212_7429af293810row40_col1 {\n",
       "            width:  10em;\n",
       "             height:  80%;\n",
       "            background:  linear-gradient(90deg,#d65f5f 31.8%, transparent 31.8%);\n",
       "        }    #T_093d30dc_08bc_11eb_8212_7429af293810row41_col1 {\n",
       "            width:  10em;\n",
       "             height:  80%;\n",
       "            background:  linear-gradient(90deg,#d65f5f 30.9%, transparent 30.9%);\n",
       "        }    #T_093d30dc_08bc_11eb_8212_7429af293810row42_col1 {\n",
       "            width:  10em;\n",
       "             height:  80%;\n",
       "            background:  linear-gradient(90deg,#d65f5f 29.1%, transparent 29.1%);\n",
       "        }    #T_093d30dc_08bc_11eb_8212_7429af293810row43_col1 {\n",
       "            width:  10em;\n",
       "             height:  80%;\n",
       "            background:  linear-gradient(90deg,#d65f5f 29.1%, transparent 29.1%);\n",
       "        }    #T_093d30dc_08bc_11eb_8212_7429af293810row44_col1 {\n",
       "            width:  10em;\n",
       "             height:  80%;\n",
       "            background:  linear-gradient(90deg,#d65f5f 29.1%, transparent 29.1%);\n",
       "        }    #T_093d30dc_08bc_11eb_8212_7429af293810row45_col1 {\n",
       "            width:  10em;\n",
       "             height:  80%;\n",
       "            background:  linear-gradient(90deg,#d65f5f 29.1%, transparent 29.1%);\n",
       "        }    #T_093d30dc_08bc_11eb_8212_7429af293810row46_col1 {\n",
       "            width:  10em;\n",
       "             height:  80%;\n",
       "            background:  linear-gradient(90deg,#d65f5f 28.2%, transparent 28.2%);\n",
       "        }    #T_093d30dc_08bc_11eb_8212_7429af293810row47_col1 {\n",
       "            width:  10em;\n",
       "             height:  80%;\n",
       "            background:  linear-gradient(90deg,#d65f5f 28.2%, transparent 28.2%);\n",
       "        }    #T_093d30dc_08bc_11eb_8212_7429af293810row48_col1 {\n",
       "            width:  10em;\n",
       "             height:  80%;\n",
       "            background:  linear-gradient(90deg,#d65f5f 28.2%, transparent 28.2%);\n",
       "        }    #T_093d30dc_08bc_11eb_8212_7429af293810row49_col1 {\n",
       "            width:  10em;\n",
       "             height:  80%;\n",
       "            background:  linear-gradient(90deg,#d65f5f 28.2%, transparent 28.2%);\n",
       "        }    #T_093d30dc_08bc_11eb_8212_7429af293810row50_col1 {\n",
       "            width:  10em;\n",
       "             height:  80%;\n",
       "            background:  linear-gradient(90deg,#d65f5f 27.3%, transparent 27.3%);\n",
       "        }    #T_093d30dc_08bc_11eb_8212_7429af293810row51_col1 {\n",
       "            width:  10em;\n",
       "             height:  80%;\n",
       "            background:  linear-gradient(90deg,#d65f5f 26.4%, transparent 26.4%);\n",
       "        }    #T_093d30dc_08bc_11eb_8212_7429af293810row52_col1 {\n",
       "            width:  10em;\n",
       "             height:  80%;\n",
       "            background:  linear-gradient(90deg,#d65f5f 26.4%, transparent 26.4%);\n",
       "        }    #T_093d30dc_08bc_11eb_8212_7429af293810row53_col1 {\n",
       "            width:  10em;\n",
       "             height:  80%;\n",
       "            background:  linear-gradient(90deg,#d65f5f 24.5%, transparent 24.5%);\n",
       "        }    #T_093d30dc_08bc_11eb_8212_7429af293810row54_col1 {\n",
       "            width:  10em;\n",
       "             height:  80%;\n",
       "            background:  linear-gradient(90deg,#d65f5f 24.5%, transparent 24.5%);\n",
       "        }    #T_093d30dc_08bc_11eb_8212_7429af293810row55_col1 {\n",
       "            width:  10em;\n",
       "             height:  80%;\n",
       "            background:  linear-gradient(90deg,#d65f5f 24.5%, transparent 24.5%);\n",
       "        }    #T_093d30dc_08bc_11eb_8212_7429af293810row56_col1 {\n",
       "            width:  10em;\n",
       "             height:  80%;\n",
       "            background:  linear-gradient(90deg,#d65f5f 24.5%, transparent 24.5%);\n",
       "        }    #T_093d30dc_08bc_11eb_8212_7429af293810row57_col1 {\n",
       "            width:  10em;\n",
       "             height:  80%;\n",
       "            background:  linear-gradient(90deg,#d65f5f 23.6%, transparent 23.6%);\n",
       "        }    #T_093d30dc_08bc_11eb_8212_7429af293810row58_col1 {\n",
       "            width:  10em;\n",
       "             height:  80%;\n",
       "            background:  linear-gradient(90deg,#d65f5f 22.7%, transparent 22.7%);\n",
       "        }    #T_093d30dc_08bc_11eb_8212_7429af293810row59_col1 {\n",
       "            width:  10em;\n",
       "             height:  80%;\n",
       "            background:  linear-gradient(90deg,#d65f5f 22.7%, transparent 22.7%);\n",
       "        }    #T_093d30dc_08bc_11eb_8212_7429af293810row60_col1 {\n",
       "            width:  10em;\n",
       "             height:  80%;\n",
       "            background:  linear-gradient(90deg,#d65f5f 20.9%, transparent 20.9%);\n",
       "        }    #T_093d30dc_08bc_11eb_8212_7429af293810row61_col1 {\n",
       "            width:  10em;\n",
       "             height:  80%;\n",
       "            background:  linear-gradient(90deg,#d65f5f 20.9%, transparent 20.9%);\n",
       "        }    #T_093d30dc_08bc_11eb_8212_7429af293810row62_col1 {\n",
       "            width:  10em;\n",
       "             height:  80%;\n",
       "            background:  linear-gradient(90deg,#d65f5f 20.0%, transparent 20.0%);\n",
       "        }    #T_093d30dc_08bc_11eb_8212_7429af293810row63_col1 {\n",
       "            width:  10em;\n",
       "             height:  80%;\n",
       "            background:  linear-gradient(90deg,#d65f5f 20.0%, transparent 20.0%);\n",
       "        }    #T_093d30dc_08bc_11eb_8212_7429af293810row64_col1 {\n",
       "            width:  10em;\n",
       "             height:  80%;\n",
       "            background:  linear-gradient(90deg,#d65f5f 20.0%, transparent 20.0%);\n",
       "        }    #T_093d30dc_08bc_11eb_8212_7429af293810row65_col1 {\n",
       "            width:  10em;\n",
       "             height:  80%;\n",
       "            background:  linear-gradient(90deg,#d65f5f 20.0%, transparent 20.0%);\n",
       "        }    #T_093d30dc_08bc_11eb_8212_7429af293810row66_col1 {\n",
       "            width:  10em;\n",
       "             height:  80%;\n",
       "            background:  linear-gradient(90deg,#d65f5f 20.0%, transparent 20.0%);\n",
       "        }    #T_093d30dc_08bc_11eb_8212_7429af293810row67_col1 {\n",
       "            width:  10em;\n",
       "             height:  80%;\n",
       "            background:  linear-gradient(90deg,#d65f5f 19.1%, transparent 19.1%);\n",
       "        }    #T_093d30dc_08bc_11eb_8212_7429af293810row68_col1 {\n",
       "            width:  10em;\n",
       "             height:  80%;\n",
       "            background:  linear-gradient(90deg,#d65f5f 18.2%, transparent 18.2%);\n",
       "        }    #T_093d30dc_08bc_11eb_8212_7429af293810row69_col1 {\n",
       "            width:  10em;\n",
       "             height:  80%;\n",
       "            background:  linear-gradient(90deg,#d65f5f 18.2%, transparent 18.2%);\n",
       "        }    #T_093d30dc_08bc_11eb_8212_7429af293810row70_col1 {\n",
       "            width:  10em;\n",
       "             height:  80%;\n",
       "            background:  linear-gradient(90deg,#d65f5f 17.3%, transparent 17.3%);\n",
       "        }    #T_093d30dc_08bc_11eb_8212_7429af293810row71_col1 {\n",
       "            width:  10em;\n",
       "             height:  80%;\n",
       "            background:  linear-gradient(90deg,#d65f5f 17.3%, transparent 17.3%);\n",
       "        }    #T_093d30dc_08bc_11eb_8212_7429af293810row72_col1 {\n",
       "            width:  10em;\n",
       "             height:  80%;\n",
       "            background:  linear-gradient(90deg,#d65f5f 17.3%, transparent 17.3%);\n",
       "        }    #T_093d30dc_08bc_11eb_8212_7429af293810row73_col1 {\n",
       "            width:  10em;\n",
       "             height:  80%;\n",
       "            background:  linear-gradient(90deg,#d65f5f 17.3%, transparent 17.3%);\n",
       "        }    #T_093d30dc_08bc_11eb_8212_7429af293810row74_col1 {\n",
       "            width:  10em;\n",
       "             height:  80%;\n",
       "            background:  linear-gradient(90deg,#d65f5f 16.4%, transparent 16.4%);\n",
       "        }    #T_093d30dc_08bc_11eb_8212_7429af293810row75_col1 {\n",
       "            width:  10em;\n",
       "             height:  80%;\n",
       "            background:  linear-gradient(90deg,#d65f5f 15.5%, transparent 15.5%);\n",
       "        }    #T_093d30dc_08bc_11eb_8212_7429af293810row76_col1 {\n",
       "            width:  10em;\n",
       "             height:  80%;\n",
       "            background:  linear-gradient(90deg,#d65f5f 15.5%, transparent 15.5%);\n",
       "        }    #T_093d30dc_08bc_11eb_8212_7429af293810row77_col1 {\n",
       "            width:  10em;\n",
       "             height:  80%;\n",
       "            background:  linear-gradient(90deg,#d65f5f 15.5%, transparent 15.5%);\n",
       "        }    #T_093d30dc_08bc_11eb_8212_7429af293810row78_col1 {\n",
       "            width:  10em;\n",
       "             height:  80%;\n",
       "            background:  linear-gradient(90deg,#d65f5f 14.5%, transparent 14.5%);\n",
       "        }    #T_093d30dc_08bc_11eb_8212_7429af293810row79_col1 {\n",
       "            width:  10em;\n",
       "             height:  80%;\n",
       "            background:  linear-gradient(90deg,#d65f5f 14.5%, transparent 14.5%);\n",
       "        }    #T_093d30dc_08bc_11eb_8212_7429af293810row80_col1 {\n",
       "            width:  10em;\n",
       "             height:  80%;\n",
       "            background:  linear-gradient(90deg,#d65f5f 14.5%, transparent 14.5%);\n",
       "        }    #T_093d30dc_08bc_11eb_8212_7429af293810row81_col1 {\n",
       "            width:  10em;\n",
       "             height:  80%;\n",
       "            background:  linear-gradient(90deg,#d65f5f 13.6%, transparent 13.6%);\n",
       "        }    #T_093d30dc_08bc_11eb_8212_7429af293810row82_col1 {\n",
       "            width:  10em;\n",
       "             height:  80%;\n",
       "            background:  linear-gradient(90deg,#d65f5f 13.6%, transparent 13.6%);\n",
       "        }    #T_093d30dc_08bc_11eb_8212_7429af293810row83_col1 {\n",
       "            width:  10em;\n",
       "             height:  80%;\n",
       "            background:  linear-gradient(90deg,#d65f5f 13.6%, transparent 13.6%);\n",
       "        }    #T_093d30dc_08bc_11eb_8212_7429af293810row84_col1 {\n",
       "            width:  10em;\n",
       "             height:  80%;\n",
       "            background:  linear-gradient(90deg,#d65f5f 13.6%, transparent 13.6%);\n",
       "        }    #T_093d30dc_08bc_11eb_8212_7429af293810row85_col1 {\n",
       "            width:  10em;\n",
       "             height:  80%;\n",
       "            background:  linear-gradient(90deg,#d65f5f 12.7%, transparent 12.7%);\n",
       "        }    #T_093d30dc_08bc_11eb_8212_7429af293810row86_col1 {\n",
       "            width:  10em;\n",
       "             height:  80%;\n",
       "            background:  linear-gradient(90deg,#d65f5f 12.7%, transparent 12.7%);\n",
       "        }    #T_093d30dc_08bc_11eb_8212_7429af293810row87_col1 {\n",
       "            width:  10em;\n",
       "             height:  80%;\n",
       "            background:  linear-gradient(90deg,#d65f5f 12.7%, transparent 12.7%);\n",
       "        }    #T_093d30dc_08bc_11eb_8212_7429af293810row88_col1 {\n",
       "            width:  10em;\n",
       "             height:  80%;\n",
       "            background:  linear-gradient(90deg,#d65f5f 11.8%, transparent 11.8%);\n",
       "        }    #T_093d30dc_08bc_11eb_8212_7429af293810row89_col1 {\n",
       "            width:  10em;\n",
       "             height:  80%;\n",
       "            background:  linear-gradient(90deg,#d65f5f 11.8%, transparent 11.8%);\n",
       "        }    #T_093d30dc_08bc_11eb_8212_7429af293810row90_col1 {\n",
       "            width:  10em;\n",
       "             height:  80%;\n",
       "            background:  linear-gradient(90deg,#d65f5f 10.9%, transparent 10.9%);\n",
       "        }    #T_093d30dc_08bc_11eb_8212_7429af293810row91_col1 {\n",
       "            width:  10em;\n",
       "             height:  80%;\n",
       "            background:  linear-gradient(90deg,#d65f5f 10.9%, transparent 10.9%);\n",
       "        }    #T_093d30dc_08bc_11eb_8212_7429af293810row92_col1 {\n",
       "            width:  10em;\n",
       "             height:  80%;\n",
       "            background:  linear-gradient(90deg,#d65f5f 10.9%, transparent 10.9%);\n",
       "        }    #T_093d30dc_08bc_11eb_8212_7429af293810row93_col1 {\n",
       "            width:  10em;\n",
       "             height:  80%;\n",
       "            background:  linear-gradient(90deg,#d65f5f 10.9%, transparent 10.9%);\n",
       "        }    #T_093d30dc_08bc_11eb_8212_7429af293810row94_col1 {\n",
       "            width:  10em;\n",
       "             height:  80%;\n",
       "            background:  linear-gradient(90deg,#d65f5f 10.9%, transparent 10.9%);\n",
       "        }    #T_093d30dc_08bc_11eb_8212_7429af293810row95_col1 {\n",
       "            width:  10em;\n",
       "             height:  80%;\n",
       "            background:  linear-gradient(90deg,#d65f5f 10.9%, transparent 10.9%);\n",
       "        }    #T_093d30dc_08bc_11eb_8212_7429af293810row96_col1 {\n",
       "            width:  10em;\n",
       "             height:  80%;\n",
       "            background:  linear-gradient(90deg,#d65f5f 10.0%, transparent 10.0%);\n",
       "        }    #T_093d30dc_08bc_11eb_8212_7429af293810row97_col1 {\n",
       "            width:  10em;\n",
       "             height:  80%;\n",
       "            background:  linear-gradient(90deg,#d65f5f 10.0%, transparent 10.0%);\n",
       "        }    #T_093d30dc_08bc_11eb_8212_7429af293810row98_col1 {\n",
       "            width:  10em;\n",
       "             height:  80%;\n",
       "            background:  linear-gradient(90deg,#d65f5f 10.0%, transparent 10.0%);\n",
       "        }    #T_093d30dc_08bc_11eb_8212_7429af293810row99_col1 {\n",
       "            width:  10em;\n",
       "             height:  80%;\n",
       "            background:  linear-gradient(90deg,#d65f5f 10.0%, transparent 10.0%);\n",
       "        }    #T_093d30dc_08bc_11eb_8212_7429af293810row100_col1 {\n",
       "            width:  10em;\n",
       "             height:  80%;\n",
       "            background:  linear-gradient(90deg,#d65f5f 9.1%, transparent 9.1%);\n",
       "        }    #T_093d30dc_08bc_11eb_8212_7429af293810row101_col1 {\n",
       "            width:  10em;\n",
       "             height:  80%;\n",
       "            background:  linear-gradient(90deg,#d65f5f 9.1%, transparent 9.1%);\n",
       "        }    #T_093d30dc_08bc_11eb_8212_7429af293810row102_col1 {\n",
       "            width:  10em;\n",
       "             height:  80%;\n",
       "            background:  linear-gradient(90deg,#d65f5f 9.1%, transparent 9.1%);\n",
       "        }    #T_093d30dc_08bc_11eb_8212_7429af293810row103_col1 {\n",
       "            width:  10em;\n",
       "             height:  80%;\n",
       "            background:  linear-gradient(90deg,#d65f5f 9.1%, transparent 9.1%);\n",
       "        }    #T_093d30dc_08bc_11eb_8212_7429af293810row104_col1 {\n",
       "            width:  10em;\n",
       "             height:  80%;\n",
       "            background:  linear-gradient(90deg,#d65f5f 7.3%, transparent 7.3%);\n",
       "        }    #T_093d30dc_08bc_11eb_8212_7429af293810row105_col1 {\n",
       "            width:  10em;\n",
       "             height:  80%;\n",
       "            background:  linear-gradient(90deg,#d65f5f 7.3%, transparent 7.3%);\n",
       "        }    #T_093d30dc_08bc_11eb_8212_7429af293810row106_col1 {\n",
       "            width:  10em;\n",
       "             height:  80%;\n",
       "            background:  linear-gradient(90deg,#d65f5f 7.3%, transparent 7.3%);\n",
       "        }    #T_093d30dc_08bc_11eb_8212_7429af293810row107_col1 {\n",
       "            width:  10em;\n",
       "             height:  80%;\n",
       "            background:  linear-gradient(90deg,#d65f5f 7.3%, transparent 7.3%);\n",
       "        }    #T_093d30dc_08bc_11eb_8212_7429af293810row108_col1 {\n",
       "            width:  10em;\n",
       "             height:  80%;\n",
       "            background:  linear-gradient(90deg,#d65f5f 7.3%, transparent 7.3%);\n",
       "        }    #T_093d30dc_08bc_11eb_8212_7429af293810row109_col1 {\n",
       "            width:  10em;\n",
       "             height:  80%;\n",
       "            background:  linear-gradient(90deg,#d65f5f 6.4%, transparent 6.4%);\n",
       "        }    #T_093d30dc_08bc_11eb_8212_7429af293810row110_col1 {\n",
       "            width:  10em;\n",
       "             height:  80%;\n",
       "            background:  linear-gradient(90deg,#d65f5f 6.4%, transparent 6.4%);\n",
       "        }    #T_093d30dc_08bc_11eb_8212_7429af293810row111_col1 {\n",
       "            width:  10em;\n",
       "             height:  80%;\n",
       "            background:  linear-gradient(90deg,#d65f5f 6.4%, transparent 6.4%);\n",
       "        }    #T_093d30dc_08bc_11eb_8212_7429af293810row112_col1 {\n",
       "            width:  10em;\n",
       "             height:  80%;\n",
       "            background:  linear-gradient(90deg,#d65f5f 6.4%, transparent 6.4%);\n",
       "        }    #T_093d30dc_08bc_11eb_8212_7429af293810row113_col1 {\n",
       "            width:  10em;\n",
       "             height:  80%;\n",
       "            background:  linear-gradient(90deg,#d65f5f 6.4%, transparent 6.4%);\n",
       "        }    #T_093d30dc_08bc_11eb_8212_7429af293810row114_col1 {\n",
       "            width:  10em;\n",
       "             height:  80%;\n",
       "            background:  linear-gradient(90deg,#d65f5f 5.5%, transparent 5.5%);\n",
       "        }    #T_093d30dc_08bc_11eb_8212_7429af293810row115_col1 {\n",
       "            width:  10em;\n",
       "             height:  80%;\n",
       "            background:  linear-gradient(90deg,#d65f5f 5.5%, transparent 5.5%);\n",
       "        }    #T_093d30dc_08bc_11eb_8212_7429af293810row116_col1 {\n",
       "            width:  10em;\n",
       "             height:  80%;\n",
       "            background:  linear-gradient(90deg,#d65f5f 5.5%, transparent 5.5%);\n",
       "        }    #T_093d30dc_08bc_11eb_8212_7429af293810row117_col1 {\n",
       "            width:  10em;\n",
       "             height:  80%;\n",
       "            background:  linear-gradient(90deg,#d65f5f 5.5%, transparent 5.5%);\n",
       "        }    #T_093d30dc_08bc_11eb_8212_7429af293810row118_col1 {\n",
       "            width:  10em;\n",
       "             height:  80%;\n",
       "            background:  linear-gradient(90deg,#d65f5f 4.5%, transparent 4.5%);\n",
       "        }    #T_093d30dc_08bc_11eb_8212_7429af293810row119_col1 {\n",
       "            width:  10em;\n",
       "             height:  80%;\n",
       "            background:  linear-gradient(90deg,#d65f5f 4.5%, transparent 4.5%);\n",
       "        }    #T_093d30dc_08bc_11eb_8212_7429af293810row120_col1 {\n",
       "            width:  10em;\n",
       "             height:  80%;\n",
       "            background:  linear-gradient(90deg,#d65f5f 4.5%, transparent 4.5%);\n",
       "        }    #T_093d30dc_08bc_11eb_8212_7429af293810row121_col1 {\n",
       "            width:  10em;\n",
       "             height:  80%;\n",
       "            background:  linear-gradient(90deg,#d65f5f 4.5%, transparent 4.5%);\n",
       "        }    #T_093d30dc_08bc_11eb_8212_7429af293810row122_col1 {\n",
       "            width:  10em;\n",
       "             height:  80%;\n",
       "            background:  linear-gradient(90deg,#d65f5f 4.5%, transparent 4.5%);\n",
       "        }    #T_093d30dc_08bc_11eb_8212_7429af293810row123_col1 {\n",
       "            width:  10em;\n",
       "             height:  80%;\n",
       "            background:  linear-gradient(90deg,#d65f5f 4.5%, transparent 4.5%);\n",
       "        }    #T_093d30dc_08bc_11eb_8212_7429af293810row124_col1 {\n",
       "            width:  10em;\n",
       "             height:  80%;\n",
       "            background:  linear-gradient(90deg,#d65f5f 3.6%, transparent 3.6%);\n",
       "        }    #T_093d30dc_08bc_11eb_8212_7429af293810row125_col1 {\n",
       "            width:  10em;\n",
       "             height:  80%;\n",
       "            background:  linear-gradient(90deg,#d65f5f 3.6%, transparent 3.6%);\n",
       "        }    #T_093d30dc_08bc_11eb_8212_7429af293810row126_col1 {\n",
       "            width:  10em;\n",
       "             height:  80%;\n",
       "            background:  linear-gradient(90deg,#d65f5f 3.6%, transparent 3.6%);\n",
       "        }    #T_093d30dc_08bc_11eb_8212_7429af293810row127_col1 {\n",
       "            width:  10em;\n",
       "             height:  80%;\n",
       "            background:  linear-gradient(90deg,#d65f5f 3.6%, transparent 3.6%);\n",
       "        }    #T_093d30dc_08bc_11eb_8212_7429af293810row128_col1 {\n",
       "            width:  10em;\n",
       "             height:  80%;\n",
       "            background:  linear-gradient(90deg,#d65f5f 3.6%, transparent 3.6%);\n",
       "        }    #T_093d30dc_08bc_11eb_8212_7429af293810row129_col1 {\n",
       "            width:  10em;\n",
       "             height:  80%;\n",
       "            background:  linear-gradient(90deg,#d65f5f 3.6%, transparent 3.6%);\n",
       "        }    #T_093d30dc_08bc_11eb_8212_7429af293810row130_col1 {\n",
       "            width:  10em;\n",
       "             height:  80%;\n",
       "            background:  linear-gradient(90deg,#d65f5f 3.6%, transparent 3.6%);\n",
       "        }    #T_093d30dc_08bc_11eb_8212_7429af293810row131_col1 {\n",
       "            width:  10em;\n",
       "             height:  80%;\n",
       "            background:  linear-gradient(90deg,#d65f5f 2.7%, transparent 2.7%);\n",
       "        }    #T_093d30dc_08bc_11eb_8212_7429af293810row132_col1 {\n",
       "            width:  10em;\n",
       "             height:  80%;\n",
       "            background:  linear-gradient(90deg,#d65f5f 2.7%, transparent 2.7%);\n",
       "        }    #T_093d30dc_08bc_11eb_8212_7429af293810row133_col1 {\n",
       "            width:  10em;\n",
       "             height:  80%;\n",
       "            background:  linear-gradient(90deg,#d65f5f 2.7%, transparent 2.7%);\n",
       "        }    #T_093d30dc_08bc_11eb_8212_7429af293810row134_col1 {\n",
       "            width:  10em;\n",
       "             height:  80%;\n",
       "            background:  linear-gradient(90deg,#d65f5f 2.7%, transparent 2.7%);\n",
       "        }    #T_093d30dc_08bc_11eb_8212_7429af293810row135_col1 {\n",
       "            width:  10em;\n",
       "             height:  80%;\n",
       "            background:  linear-gradient(90deg,#d65f5f 2.7%, transparent 2.7%);\n",
       "        }    #T_093d30dc_08bc_11eb_8212_7429af293810row136_col1 {\n",
       "            width:  10em;\n",
       "             height:  80%;\n",
       "            background:  linear-gradient(90deg,#d65f5f 2.7%, transparent 2.7%);\n",
       "        }    #T_093d30dc_08bc_11eb_8212_7429af293810row137_col1 {\n",
       "            width:  10em;\n",
       "             height:  80%;\n",
       "            background:  linear-gradient(90deg,#d65f5f 2.7%, transparent 2.7%);\n",
       "        }    #T_093d30dc_08bc_11eb_8212_7429af293810row138_col1 {\n",
       "            width:  10em;\n",
       "             height:  80%;\n",
       "            background:  linear-gradient(90deg,#d65f5f 1.8%, transparent 1.8%);\n",
       "        }    #T_093d30dc_08bc_11eb_8212_7429af293810row139_col1 {\n",
       "            width:  10em;\n",
       "             height:  80%;\n",
       "            background:  linear-gradient(90deg,#d65f5f 1.8%, transparent 1.8%);\n",
       "        }    #T_093d30dc_08bc_11eb_8212_7429af293810row140_col1 {\n",
       "            width:  10em;\n",
       "             height:  80%;\n",
       "            background:  linear-gradient(90deg,#d65f5f 1.8%, transparent 1.8%);\n",
       "        }    #T_093d30dc_08bc_11eb_8212_7429af293810row141_col1 {\n",
       "            width:  10em;\n",
       "             height:  80%;\n",
       "            background:  linear-gradient(90deg,#d65f5f 1.8%, transparent 1.8%);\n",
       "        }    #T_093d30dc_08bc_11eb_8212_7429af293810row142_col1 {\n",
       "            width:  10em;\n",
       "             height:  80%;\n",
       "            background:  linear-gradient(90deg,#d65f5f 1.8%, transparent 1.8%);\n",
       "        }    #T_093d30dc_08bc_11eb_8212_7429af293810row143_col1 {\n",
       "            width:  10em;\n",
       "             height:  80%;\n",
       "            background:  linear-gradient(90deg,#d65f5f 0.9%, transparent 0.9%);\n",
       "        }    #T_093d30dc_08bc_11eb_8212_7429af293810row144_col1 {\n",
       "            width:  10em;\n",
       "             height:  80%;\n",
       "            background:  linear-gradient(90deg,#d65f5f 0.9%, transparent 0.9%);\n",
       "        }    #T_093d30dc_08bc_11eb_8212_7429af293810row145_col1 {\n",
       "            width:  10em;\n",
       "             height:  80%;\n",
       "            background:  linear-gradient(90deg,#d65f5f 0.9%, transparent 0.9%);\n",
       "        }    #T_093d30dc_08bc_11eb_8212_7429af293810row146_col1 {\n",
       "            width:  10em;\n",
       "             height:  80%;\n",
       "            background:  linear-gradient(90deg,#d65f5f 0.9%, transparent 0.9%);\n",
       "        }    #T_093d30dc_08bc_11eb_8212_7429af293810row147_col1 {\n",
       "            width:  10em;\n",
       "             height:  80%;\n",
       "            background:  linear-gradient(90deg,#d65f5f 0.9%, transparent 0.9%);\n",
       "        }    #T_093d30dc_08bc_11eb_8212_7429af293810row148_col1 {\n",
       "            width:  10em;\n",
       "             height:  80%;\n",
       "            background:  linear-gradient(90deg,#d65f5f 0.9%, transparent 0.9%);\n",
       "        }    #T_093d30dc_08bc_11eb_8212_7429af293810row149_col1 {\n",
       "            width:  10em;\n",
       "             height:  80%;\n",
       "            background:  linear-gradient(90deg,#d65f5f 0.9%, transparent 0.9%);\n",
       "        }    #T_093d30dc_08bc_11eb_8212_7429af293810row150_col1 {\n",
       "            width:  10em;\n",
       "             height:  80%;\n",
       "            background:  linear-gradient(90deg,#d65f5f 0.9%, transparent 0.9%);\n",
       "        }    #T_093d30dc_08bc_11eb_8212_7429af293810row151_col1 {\n",
       "            width:  10em;\n",
       "             height:  80%;\n",
       "            background:  linear-gradient(90deg,#d65f5f 0.9%, transparent 0.9%);\n",
       "        }    #T_093d30dc_08bc_11eb_8212_7429af293810row152_col1 {\n",
       "            width:  10em;\n",
       "             height:  80%;\n",
       "        }    #T_093d30dc_08bc_11eb_8212_7429af293810row153_col1 {\n",
       "            width:  10em;\n",
       "             height:  80%;\n",
       "        }    #T_093d30dc_08bc_11eb_8212_7429af293810row154_col1 {\n",
       "            width:  10em;\n",
       "             height:  80%;\n",
       "        }    #T_093d30dc_08bc_11eb_8212_7429af293810row155_col1 {\n",
       "            width:  10em;\n",
       "             height:  80%;\n",
       "        }    #T_093d30dc_08bc_11eb_8212_7429af293810row156_col1 {\n",
       "            width:  10em;\n",
       "             height:  80%;\n",
       "        }    #T_093d30dc_08bc_11eb_8212_7429af293810row157_col1 {\n",
       "            width:  10em;\n",
       "             height:  80%;\n",
       "        }    #T_093d30dc_08bc_11eb_8212_7429af293810row158_col1 {\n",
       "            width:  10em;\n",
       "             height:  80%;\n",
       "        }    #T_093d30dc_08bc_11eb_8212_7429af293810row159_col1 {\n",
       "            width:  10em;\n",
       "             height:  80%;\n",
       "        }    #T_093d30dc_08bc_11eb_8212_7429af293810row160_col1 {\n",
       "            width:  10em;\n",
       "             height:  80%;\n",
       "        }    #T_093d30dc_08bc_11eb_8212_7429af293810row161_col1 {\n",
       "            width:  10em;\n",
       "             height:  80%;\n",
       "        }    #T_093d30dc_08bc_11eb_8212_7429af293810row162_col1 {\n",
       "            width:  10em;\n",
       "             height:  80%;\n",
       "        }    #T_093d30dc_08bc_11eb_8212_7429af293810row163_col1 {\n",
       "            width:  10em;\n",
       "             height:  80%;\n",
       "        }    #T_093d30dc_08bc_11eb_8212_7429af293810row164_col1 {\n",
       "            width:  10em;\n",
       "             height:  80%;\n",
       "        }    #T_093d30dc_08bc_11eb_8212_7429af293810row165_col1 {\n",
       "            width:  10em;\n",
       "             height:  80%;\n",
       "        }    #T_093d30dc_08bc_11eb_8212_7429af293810row166_col1 {\n",
       "            width:  10em;\n",
       "             height:  80%;\n",
       "        }    #T_093d30dc_08bc_11eb_8212_7429af293810row167_col1 {\n",
       "            width:  10em;\n",
       "             height:  80%;\n",
       "        }    #T_093d30dc_08bc_11eb_8212_7429af293810row168_col1 {\n",
       "            width:  10em;\n",
       "             height:  80%;\n",
       "        }    #T_093d30dc_08bc_11eb_8212_7429af293810row169_col1 {\n",
       "            width:  10em;\n",
       "             height:  80%;\n",
       "        }    #T_093d30dc_08bc_11eb_8212_7429af293810row170_col1 {\n",
       "            width:  10em;\n",
       "             height:  80%;\n",
       "        }    #T_093d30dc_08bc_11eb_8212_7429af293810row171_col1 {\n",
       "            width:  10em;\n",
       "             height:  80%;\n",
       "        }    #T_093d30dc_08bc_11eb_8212_7429af293810row172_col1 {\n",
       "            width:  10em;\n",
       "             height:  80%;\n",
       "        }    #T_093d30dc_08bc_11eb_8212_7429af293810row173_col1 {\n",
       "            width:  10em;\n",
       "             height:  80%;\n",
       "        }    #T_093d30dc_08bc_11eb_8212_7429af293810row174_col1 {\n",
       "            width:  10em;\n",
       "             height:  80%;\n",
       "        }    #T_093d30dc_08bc_11eb_8212_7429af293810row175_col1 {\n",
       "            width:  10em;\n",
       "             height:  80%;\n",
       "        }    #T_093d30dc_08bc_11eb_8212_7429af293810row176_col1 {\n",
       "            width:  10em;\n",
       "             height:  80%;\n",
       "        }    #T_093d30dc_08bc_11eb_8212_7429af293810row177_col1 {\n",
       "            width:  10em;\n",
       "             height:  80%;\n",
       "        }    #T_093d30dc_08bc_11eb_8212_7429af293810row178_col1 {\n",
       "            width:  10em;\n",
       "             height:  80%;\n",
       "        }    #T_093d30dc_08bc_11eb_8212_7429af293810row179_col1 {\n",
       "            width:  10em;\n",
       "             height:  80%;\n",
       "        }    #T_093d30dc_08bc_11eb_8212_7429af293810row180_col1 {\n",
       "            width:  10em;\n",
       "             height:  80%;\n",
       "        }    #T_093d30dc_08bc_11eb_8212_7429af293810row181_col1 {\n",
       "            width:  10em;\n",
       "             height:  80%;\n",
       "        }    #T_093d30dc_08bc_11eb_8212_7429af293810row182_col1 {\n",
       "            width:  10em;\n",
       "             height:  80%;\n",
       "        }    #T_093d30dc_08bc_11eb_8212_7429af293810row183_col1 {\n",
       "            width:  10em;\n",
       "             height:  80%;\n",
       "        }    #T_093d30dc_08bc_11eb_8212_7429af293810row184_col1 {\n",
       "            width:  10em;\n",
       "             height:  80%;\n",
       "        }    #T_093d30dc_08bc_11eb_8212_7429af293810row185_col1 {\n",
       "            width:  10em;\n",
       "             height:  80%;\n",
       "        }</style><table id=\"T_093d30dc_08bc_11eb_8212_7429af293810\" ><thead>    <tr>        <th class=\"blank level0\" ></th>        <th class=\"col_heading level0 col0\" >Duration</th>        <th class=\"col_heading level0 col1\" >Number of movies</th>    </tr></thead><tbody>\n",
       "                <tr>\n",
       "                        <th id=\"T_093d30dc_08bc_11eb_8212_7429af293810level0_row0\" class=\"row_heading level0 row0\" >0</th>\n",
       "                        <td id=\"T_093d30dc_08bc_11eb_8212_7429af293810row0_col0\" class=\"data row0 col0\" >90 min</td>\n",
       "                        <td id=\"T_093d30dc_08bc_11eb_8212_7429af293810row0_col1\" class=\"data row0 col1\" >111</td>\n",
       "            </tr>\n",
       "            <tr>\n",
       "                        <th id=\"T_093d30dc_08bc_11eb_8212_7429af293810level0_row1\" class=\"row_heading level0 row1\" >1</th>\n",
       "                        <td id=\"T_093d30dc_08bc_11eb_8212_7429af293810row1_col0\" class=\"data row1 col0\" >91 min</td>\n",
       "                        <td id=\"T_093d30dc_08bc_11eb_8212_7429af293810row1_col1\" class=\"data row1 col1\" >104</td>\n",
       "            </tr>\n",
       "            <tr>\n",
       "                        <th id=\"T_093d30dc_08bc_11eb_8212_7429af293810level0_row2\" class=\"row_heading level0 row2\" >2</th>\n",
       "                        <td id=\"T_093d30dc_08bc_11eb_8212_7429af293810row2_col0\" class=\"data row2 col0\" >92 min</td>\n",
       "                        <td id=\"T_093d30dc_08bc_11eb_8212_7429af293810row2_col1\" class=\"data row2 col1\" >101</td>\n",
       "            </tr>\n",
       "            <tr>\n",
       "                        <th id=\"T_093d30dc_08bc_11eb_8212_7429af293810level0_row3\" class=\"row_heading level0 row3\" >3</th>\n",
       "                        <td id=\"T_093d30dc_08bc_11eb_8212_7429af293810row3_col0\" class=\"data row3 col0\" >95 min</td>\n",
       "                        <td id=\"T_093d30dc_08bc_11eb_8212_7429af293810row3_col1\" class=\"data row3 col1\" >94</td>\n",
       "            </tr>\n",
       "            <tr>\n",
       "                        <th id=\"T_093d30dc_08bc_11eb_8212_7429af293810level0_row4\" class=\"row_heading level0 row4\" >4</th>\n",
       "                        <td id=\"T_093d30dc_08bc_11eb_8212_7429af293810row4_col0\" class=\"data row4 col0\" >94 min</td>\n",
       "                        <td id=\"T_093d30dc_08bc_11eb_8212_7429af293810row4_col1\" class=\"data row4 col1\" >94</td>\n",
       "            </tr>\n",
       "            <tr>\n",
       "                        <th id=\"T_093d30dc_08bc_11eb_8212_7429af293810level0_row5\" class=\"row_heading level0 row5\" >5</th>\n",
       "                        <td id=\"T_093d30dc_08bc_11eb_8212_7429af293810row5_col0\" class=\"data row5 col0\" >93 min</td>\n",
       "                        <td id=\"T_093d30dc_08bc_11eb_8212_7429af293810row5_col1\" class=\"data row5 col1\" >90</td>\n",
       "            </tr>\n",
       "            <tr>\n",
       "                        <th id=\"T_093d30dc_08bc_11eb_8212_7429af293810level0_row6\" class=\"row_heading level0 row6\" >6</th>\n",
       "                        <td id=\"T_093d30dc_08bc_11eb_8212_7429af293810row6_col0\" class=\"data row6 col0\" >99 min</td>\n",
       "                        <td id=\"T_093d30dc_08bc_11eb_8212_7429af293810row6_col1\" class=\"data row6 col1\" >88</td>\n",
       "            </tr>\n",
       "            <tr>\n",
       "                        <th id=\"T_093d30dc_08bc_11eb_8212_7429af293810level0_row7\" class=\"row_heading level0 row7\" >7</th>\n",
       "                        <td id=\"T_093d30dc_08bc_11eb_8212_7429af293810row7_col0\" class=\"data row7 col0\" >97 min</td>\n",
       "                        <td id=\"T_093d30dc_08bc_11eb_8212_7429af293810row7_col1\" class=\"data row7 col1\" >88</td>\n",
       "            </tr>\n",
       "            <tr>\n",
       "                        <th id=\"T_093d30dc_08bc_11eb_8212_7429af293810level0_row8\" class=\"row_heading level0 row8\" >8</th>\n",
       "                        <td id=\"T_093d30dc_08bc_11eb_8212_7429af293810row8_col0\" class=\"data row8 col0\" >88 min</td>\n",
       "                        <td id=\"T_093d30dc_08bc_11eb_8212_7429af293810row8_col1\" class=\"data row8 col1\" >86</td>\n",
       "            </tr>\n",
       "            <tr>\n",
       "                        <th id=\"T_093d30dc_08bc_11eb_8212_7429af293810level0_row9\" class=\"row_heading level0 row9\" >9</th>\n",
       "                        <td id=\"T_093d30dc_08bc_11eb_8212_7429af293810row9_col0\" class=\"data row9 col0\" >96 min</td>\n",
       "                        <td id=\"T_093d30dc_08bc_11eb_8212_7429af293810row9_col1\" class=\"data row9 col1\" >85</td>\n",
       "            </tr>\n",
       "            <tr>\n",
       "                        <th id=\"T_093d30dc_08bc_11eb_8212_7429af293810level0_row10\" class=\"row_heading level0 row10\" >10</th>\n",
       "                        <td id=\"T_093d30dc_08bc_11eb_8212_7429af293810row10_col0\" class=\"data row10 col0\" >98 min</td>\n",
       "                        <td id=\"T_093d30dc_08bc_11eb_8212_7429af293810row10_col1\" class=\"data row10 col1\" >83</td>\n",
       "            </tr>\n",
       "            <tr>\n",
       "                        <th id=\"T_093d30dc_08bc_11eb_8212_7429af293810level0_row11\" class=\"row_heading level0 row11\" >11</th>\n",
       "                        <td id=\"T_093d30dc_08bc_11eb_8212_7429af293810row11_col0\" class=\"data row11 col0\" >100 min</td>\n",
       "                        <td id=\"T_093d30dc_08bc_11eb_8212_7429af293810row11_col1\" class=\"data row11 col1\" >80</td>\n",
       "            </tr>\n",
       "            <tr>\n",
       "                        <th id=\"T_093d30dc_08bc_11eb_8212_7429af293810level0_row12\" class=\"row_heading level0 row12\" >12</th>\n",
       "                        <td id=\"T_093d30dc_08bc_11eb_8212_7429af293810row12_col0\" class=\"data row12 col0\" >89 min</td>\n",
       "                        <td id=\"T_093d30dc_08bc_11eb_8212_7429af293810row12_col1\" class=\"data row12 col1\" >78</td>\n",
       "            </tr>\n",
       "            <tr>\n",
       "                        <th id=\"T_093d30dc_08bc_11eb_8212_7429af293810level0_row13\" class=\"row_heading level0 row13\" >13</th>\n",
       "                        <td id=\"T_093d30dc_08bc_11eb_8212_7429af293810row13_col0\" class=\"data row13 col0\" >86 min</td>\n",
       "                        <td id=\"T_093d30dc_08bc_11eb_8212_7429af293810row13_col1\" class=\"data row13 col1\" >77</td>\n",
       "            </tr>\n",
       "            <tr>\n",
       "                        <th id=\"T_093d30dc_08bc_11eb_8212_7429af293810level0_row14\" class=\"row_heading level0 row14\" >14</th>\n",
       "                        <td id=\"T_093d30dc_08bc_11eb_8212_7429af293810row14_col0\" class=\"data row14 col0\" >103 min</td>\n",
       "                        <td id=\"T_093d30dc_08bc_11eb_8212_7429af293810row14_col1\" class=\"data row14 col1\" >75</td>\n",
       "            </tr>\n",
       "            <tr>\n",
       "                        <th id=\"T_093d30dc_08bc_11eb_8212_7429af293810level0_row15\" class=\"row_heading level0 row15\" >15</th>\n",
       "                        <td id=\"T_093d30dc_08bc_11eb_8212_7429af293810row15_col0\" class=\"data row15 col0\" >102 min</td>\n",
       "                        <td id=\"T_093d30dc_08bc_11eb_8212_7429af293810row15_col1\" class=\"data row15 col1\" >74</td>\n",
       "            </tr>\n",
       "            <tr>\n",
       "                        <th id=\"T_093d30dc_08bc_11eb_8212_7429af293810level0_row16\" class=\"row_heading level0 row16\" >16</th>\n",
       "                        <td id=\"T_093d30dc_08bc_11eb_8212_7429af293810row16_col0\" class=\"data row16 col0\" >101 min</td>\n",
       "                        <td id=\"T_093d30dc_08bc_11eb_8212_7429af293810row16_col1\" class=\"data row16 col1\" >71</td>\n",
       "            </tr>\n",
       "            <tr>\n",
       "                        <th id=\"T_093d30dc_08bc_11eb_8212_7429af293810level0_row17\" class=\"row_heading level0 row17\" >17</th>\n",
       "                        <td id=\"T_093d30dc_08bc_11eb_8212_7429af293810row17_col0\" class=\"data row17 col0\" >87 min</td>\n",
       "                        <td id=\"T_093d30dc_08bc_11eb_8212_7429af293810row17_col1\" class=\"data row17 col1\" >70</td>\n",
       "            </tr>\n",
       "            <tr>\n",
       "                        <th id=\"T_093d30dc_08bc_11eb_8212_7429af293810level0_row18\" class=\"row_heading level0 row18\" >18</th>\n",
       "                        <td id=\"T_093d30dc_08bc_11eb_8212_7429af293810row18_col0\" class=\"data row18 col0\" >105 min</td>\n",
       "                        <td id=\"T_093d30dc_08bc_11eb_8212_7429af293810row18_col1\" class=\"data row18 col1\" >70</td>\n",
       "            </tr>\n",
       "            <tr>\n",
       "                        <th id=\"T_093d30dc_08bc_11eb_8212_7429af293810level0_row19\" class=\"row_heading level0 row19\" >19</th>\n",
       "                        <td id=\"T_093d30dc_08bc_11eb_8212_7429af293810row19_col0\" class=\"data row19 col0\" >106 min</td>\n",
       "                        <td id=\"T_093d30dc_08bc_11eb_8212_7429af293810row19_col1\" class=\"data row19 col1\" >70</td>\n",
       "            </tr>\n",
       "            <tr>\n",
       "                        <th id=\"T_093d30dc_08bc_11eb_8212_7429af293810level0_row20\" class=\"row_heading level0 row20\" >20</th>\n",
       "                        <td id=\"T_093d30dc_08bc_11eb_8212_7429af293810row20_col0\" class=\"data row20 col0\" >110 min</td>\n",
       "                        <td id=\"T_093d30dc_08bc_11eb_8212_7429af293810row20_col1\" class=\"data row20 col1\" >69</td>\n",
       "            </tr>\n",
       "            <tr>\n",
       "                        <th id=\"T_093d30dc_08bc_11eb_8212_7429af293810level0_row21\" class=\"row_heading level0 row21\" >21</th>\n",
       "                        <td id=\"T_093d30dc_08bc_11eb_8212_7429af293810row21_col0\" class=\"data row21 col0\" >104 min</td>\n",
       "                        <td id=\"T_093d30dc_08bc_11eb_8212_7429af293810row21_col1\" class=\"data row21 col1\" >62</td>\n",
       "            </tr>\n",
       "            <tr>\n",
       "                        <th id=\"T_093d30dc_08bc_11eb_8212_7429af293810level0_row22\" class=\"row_heading level0 row22\" >22</th>\n",
       "                        <td id=\"T_093d30dc_08bc_11eb_8212_7429af293810row22_col0\" class=\"data row22 col0\" >107 min</td>\n",
       "                        <td id=\"T_093d30dc_08bc_11eb_8212_7429af293810row22_col1\" class=\"data row22 col1\" >60</td>\n",
       "            </tr>\n",
       "            <tr>\n",
       "                        <th id=\"T_093d30dc_08bc_11eb_8212_7429af293810level0_row23\" class=\"row_heading level0 row23\" >23</th>\n",
       "                        <td id=\"T_093d30dc_08bc_11eb_8212_7429af293810row23_col0\" class=\"data row23 col0\" >108 min</td>\n",
       "                        <td id=\"T_093d30dc_08bc_11eb_8212_7429af293810row23_col1\" class=\"data row23 col1\" >56</td>\n",
       "            </tr>\n",
       "            <tr>\n",
       "                        <th id=\"T_093d30dc_08bc_11eb_8212_7429af293810level0_row24\" class=\"row_heading level0 row24\" >24</th>\n",
       "                        <td id=\"T_093d30dc_08bc_11eb_8212_7429af293810row24_col0\" class=\"data row24 col0\" >84 min</td>\n",
       "                        <td id=\"T_093d30dc_08bc_11eb_8212_7429af293810row24_col1\" class=\"data row24 col1\" >50</td>\n",
       "            </tr>\n",
       "            <tr>\n",
       "                        <th id=\"T_093d30dc_08bc_11eb_8212_7429af293810level0_row25\" class=\"row_heading level0 row25\" >25</th>\n",
       "                        <td id=\"T_093d30dc_08bc_11eb_8212_7429af293810row25_col0\" class=\"data row25 col0\" >85 min</td>\n",
       "                        <td id=\"T_093d30dc_08bc_11eb_8212_7429af293810row25_col1\" class=\"data row25 col1\" >50</td>\n",
       "            </tr>\n",
       "            <tr>\n",
       "                        <th id=\"T_093d30dc_08bc_11eb_8212_7429af293810level0_row26\" class=\"row_heading level0 row26\" >26</th>\n",
       "                        <td id=\"T_093d30dc_08bc_11eb_8212_7429af293810row26_col0\" class=\"data row26 col0\" >109 min</td>\n",
       "                        <td id=\"T_093d30dc_08bc_11eb_8212_7429af293810row26_col1\" class=\"data row26 col1\" >50</td>\n",
       "            </tr>\n",
       "            <tr>\n",
       "                        <th id=\"T_093d30dc_08bc_11eb_8212_7429af293810level0_row27\" class=\"row_heading level0 row27\" >27</th>\n",
       "                        <td id=\"T_093d30dc_08bc_11eb_8212_7429af293810row27_col0\" class=\"data row27 col0\" >116 min</td>\n",
       "                        <td id=\"T_093d30dc_08bc_11eb_8212_7429af293810row27_col1\" class=\"data row27 col1\" >49</td>\n",
       "            </tr>\n",
       "            <tr>\n",
       "                        <th id=\"T_093d30dc_08bc_11eb_8212_7429af293810level0_row28\" class=\"row_heading level0 row28\" >28</th>\n",
       "                        <td id=\"T_093d30dc_08bc_11eb_8212_7429af293810row28_col0\" class=\"data row28 col0\" >83 min</td>\n",
       "                        <td id=\"T_093d30dc_08bc_11eb_8212_7429af293810row28_col1\" class=\"data row28 col1\" >48</td>\n",
       "            </tr>\n",
       "            <tr>\n",
       "                        <th id=\"T_093d30dc_08bc_11eb_8212_7429af293810level0_row29\" class=\"row_heading level0 row29\" >29</th>\n",
       "                        <td id=\"T_093d30dc_08bc_11eb_8212_7429af293810row29_col0\" class=\"data row29 col0\" >119 min</td>\n",
       "                        <td id=\"T_093d30dc_08bc_11eb_8212_7429af293810row29_col1\" class=\"data row29 col1\" >47</td>\n",
       "            </tr>\n",
       "            <tr>\n",
       "                        <th id=\"T_093d30dc_08bc_11eb_8212_7429af293810level0_row30\" class=\"row_heading level0 row30\" >30</th>\n",
       "                        <td id=\"T_093d30dc_08bc_11eb_8212_7429af293810row30_col0\" class=\"data row30 col0\" >81 min</td>\n",
       "                        <td id=\"T_093d30dc_08bc_11eb_8212_7429af293810row30_col1\" class=\"data row30 col1\" >46</td>\n",
       "            </tr>\n",
       "            <tr>\n",
       "                        <th id=\"T_093d30dc_08bc_11eb_8212_7429af293810level0_row31\" class=\"row_heading level0 row31\" >31</th>\n",
       "                        <td id=\"T_093d30dc_08bc_11eb_8212_7429af293810row31_col0\" class=\"data row31 col0\" >118 min</td>\n",
       "                        <td id=\"T_093d30dc_08bc_11eb_8212_7429af293810row31_col1\" class=\"data row31 col1\" >45</td>\n",
       "            </tr>\n",
       "            <tr>\n",
       "                        <th id=\"T_093d30dc_08bc_11eb_8212_7429af293810level0_row32\" class=\"row_heading level0 row32\" >32</th>\n",
       "                        <td id=\"T_093d30dc_08bc_11eb_8212_7429af293810row32_col0\" class=\"data row32 col0\" >111 min</td>\n",
       "                        <td id=\"T_093d30dc_08bc_11eb_8212_7429af293810row32_col1\" class=\"data row32 col1\" >43</td>\n",
       "            </tr>\n",
       "            <tr>\n",
       "                        <th id=\"T_093d30dc_08bc_11eb_8212_7429af293810level0_row33\" class=\"row_heading level0 row33\" >33</th>\n",
       "                        <td id=\"T_093d30dc_08bc_11eb_8212_7429af293810row33_col0\" class=\"data row33 col0\" >112 min</td>\n",
       "                        <td id=\"T_093d30dc_08bc_11eb_8212_7429af293810row33_col1\" class=\"data row33 col1\" >41</td>\n",
       "            </tr>\n",
       "            <tr>\n",
       "                        <th id=\"T_093d30dc_08bc_11eb_8212_7429af293810level0_row34\" class=\"row_heading level0 row34\" >34</th>\n",
       "                        <td id=\"T_093d30dc_08bc_11eb_8212_7429af293810row34_col0\" class=\"data row34 col0\" >113 min</td>\n",
       "                        <td id=\"T_093d30dc_08bc_11eb_8212_7429af293810row34_col1\" class=\"data row34 col1\" >40</td>\n",
       "            </tr>\n",
       "            <tr>\n",
       "                        <th id=\"T_093d30dc_08bc_11eb_8212_7429af293810level0_row35\" class=\"row_heading level0 row35\" >35</th>\n",
       "                        <td id=\"T_093d30dc_08bc_11eb_8212_7429af293810row35_col0\" class=\"data row35 col0\" >117 min</td>\n",
       "                        <td id=\"T_093d30dc_08bc_11eb_8212_7429af293810row35_col1\" class=\"data row35 col1\" >40</td>\n",
       "            </tr>\n",
       "            <tr>\n",
       "                        <th id=\"T_093d30dc_08bc_11eb_8212_7429af293810level0_row36\" class=\"row_heading level0 row36\" >36</th>\n",
       "                        <td id=\"T_093d30dc_08bc_11eb_8212_7429af293810row36_col0\" class=\"data row36 col0\" >78 min</td>\n",
       "                        <td id=\"T_093d30dc_08bc_11eb_8212_7429af293810row36_col1\" class=\"data row36 col1\" >39</td>\n",
       "            </tr>\n",
       "            <tr>\n",
       "                        <th id=\"T_093d30dc_08bc_11eb_8212_7429af293810level0_row37\" class=\"row_heading level0 row37\" >37</th>\n",
       "                        <td id=\"T_093d30dc_08bc_11eb_8212_7429af293810row37_col0\" class=\"data row37 col0\" >82 min</td>\n",
       "                        <td id=\"T_093d30dc_08bc_11eb_8212_7429af293810row37_col1\" class=\"data row37 col1\" >38</td>\n",
       "            </tr>\n",
       "            <tr>\n",
       "                        <th id=\"T_093d30dc_08bc_11eb_8212_7429af293810level0_row38\" class=\"row_heading level0 row38\" >38</th>\n",
       "                        <td id=\"T_093d30dc_08bc_11eb_8212_7429af293810row38_col0\" class=\"data row38 col0\" >121 min</td>\n",
       "                        <td id=\"T_093d30dc_08bc_11eb_8212_7429af293810row38_col1\" class=\"data row38 col1\" >37</td>\n",
       "            </tr>\n",
       "            <tr>\n",
       "                        <th id=\"T_093d30dc_08bc_11eb_8212_7429af293810level0_row39\" class=\"row_heading level0 row39\" >39</th>\n",
       "                        <td id=\"T_093d30dc_08bc_11eb_8212_7429af293810row39_col0\" class=\"data row39 col0\" >127 min</td>\n",
       "                        <td id=\"T_093d30dc_08bc_11eb_8212_7429af293810row39_col1\" class=\"data row39 col1\" >36</td>\n",
       "            </tr>\n",
       "            <tr>\n",
       "                        <th id=\"T_093d30dc_08bc_11eb_8212_7429af293810level0_row40\" class=\"row_heading level0 row40\" >40</th>\n",
       "                        <td id=\"T_093d30dc_08bc_11eb_8212_7429af293810row40_col0\" class=\"data row40 col0\" >124 min</td>\n",
       "                        <td id=\"T_093d30dc_08bc_11eb_8212_7429af293810row40_col1\" class=\"data row40 col1\" >36</td>\n",
       "            </tr>\n",
       "            <tr>\n",
       "                        <th id=\"T_093d30dc_08bc_11eb_8212_7429af293810level0_row41\" class=\"row_heading level0 row41\" >41</th>\n",
       "                        <td id=\"T_093d30dc_08bc_11eb_8212_7429af293810row41_col0\" class=\"data row41 col0\" >126 min</td>\n",
       "                        <td id=\"T_093d30dc_08bc_11eb_8212_7429af293810row41_col1\" class=\"data row41 col1\" >35</td>\n",
       "            </tr>\n",
       "            <tr>\n",
       "                        <th id=\"T_093d30dc_08bc_11eb_8212_7429af293810level0_row42\" class=\"row_heading level0 row42\" >42</th>\n",
       "                        <td id=\"T_093d30dc_08bc_11eb_8212_7429af293810row42_col0\" class=\"data row42 col0\" >137 min</td>\n",
       "                        <td id=\"T_093d30dc_08bc_11eb_8212_7429af293810row42_col1\" class=\"data row42 col1\" >33</td>\n",
       "            </tr>\n",
       "            <tr>\n",
       "                        <th id=\"T_093d30dc_08bc_11eb_8212_7429af293810level0_row43\" class=\"row_heading level0 row43\" >43</th>\n",
       "                        <td id=\"T_093d30dc_08bc_11eb_8212_7429af293810row43_col0\" class=\"data row43 col0\" >128 min</td>\n",
       "                        <td id=\"T_093d30dc_08bc_11eb_8212_7429af293810row43_col1\" class=\"data row43 col1\" >33</td>\n",
       "            </tr>\n",
       "            <tr>\n",
       "                        <th id=\"T_093d30dc_08bc_11eb_8212_7429af293810level0_row44\" class=\"row_heading level0 row44\" >44</th>\n",
       "                        <td id=\"T_093d30dc_08bc_11eb_8212_7429af293810row44_col0\" class=\"data row44 col0\" >122 min</td>\n",
       "                        <td id=\"T_093d30dc_08bc_11eb_8212_7429af293810row44_col1\" class=\"data row44 col1\" >33</td>\n",
       "            </tr>\n",
       "            <tr>\n",
       "                        <th id=\"T_093d30dc_08bc_11eb_8212_7429af293810level0_row45\" class=\"row_heading level0 row45\" >45</th>\n",
       "                        <td id=\"T_093d30dc_08bc_11eb_8212_7429af293810row45_col0\" class=\"data row45 col0\" >114 min</td>\n",
       "                        <td id=\"T_093d30dc_08bc_11eb_8212_7429af293810row45_col1\" class=\"data row45 col1\" >33</td>\n",
       "            </tr>\n",
       "            <tr>\n",
       "                        <th id=\"T_093d30dc_08bc_11eb_8212_7429af293810level0_row46\" class=\"row_heading level0 row46\" >46</th>\n",
       "                        <td id=\"T_093d30dc_08bc_11eb_8212_7429af293810row46_col0\" class=\"data row46 col0\" >79 min</td>\n",
       "                        <td id=\"T_093d30dc_08bc_11eb_8212_7429af293810row46_col1\" class=\"data row46 col1\" >32</td>\n",
       "            </tr>\n",
       "            <tr>\n",
       "                        <th id=\"T_093d30dc_08bc_11eb_8212_7429af293810level0_row47\" class=\"row_heading level0 row47\" >47</th>\n",
       "                        <td id=\"T_093d30dc_08bc_11eb_8212_7429af293810row47_col0\" class=\"data row47 col0\" >80 min</td>\n",
       "                        <td id=\"T_093d30dc_08bc_11eb_8212_7429af293810row47_col1\" class=\"data row47 col1\" >32</td>\n",
       "            </tr>\n",
       "            <tr>\n",
       "                        <th id=\"T_093d30dc_08bc_11eb_8212_7429af293810level0_row48\" class=\"row_heading level0 row48\" >48</th>\n",
       "                        <td id=\"T_093d30dc_08bc_11eb_8212_7429af293810row48_col0\" class=\"data row48 col0\" >123 min</td>\n",
       "                        <td id=\"T_093d30dc_08bc_11eb_8212_7429af293810row48_col1\" class=\"data row48 col1\" >32</td>\n",
       "            </tr>\n",
       "            <tr>\n",
       "                        <th id=\"T_093d30dc_08bc_11eb_8212_7429af293810level0_row49\" class=\"row_heading level0 row49\" >49</th>\n",
       "                        <td id=\"T_093d30dc_08bc_11eb_8212_7429af293810row49_col0\" class=\"data row49 col0\" >120 min</td>\n",
       "                        <td id=\"T_093d30dc_08bc_11eb_8212_7429af293810row49_col1\" class=\"data row49 col1\" >32</td>\n",
       "            </tr>\n",
       "            <tr>\n",
       "                        <th id=\"T_093d30dc_08bc_11eb_8212_7429af293810level0_row50\" class=\"row_heading level0 row50\" >50</th>\n",
       "                        <td id=\"T_093d30dc_08bc_11eb_8212_7429af293810row50_col0\" class=\"data row50 col0\" >115 min</td>\n",
       "                        <td id=\"T_093d30dc_08bc_11eb_8212_7429af293810row50_col1\" class=\"data row50 col1\" >31</td>\n",
       "            </tr>\n",
       "            <tr>\n",
       "                        <th id=\"T_093d30dc_08bc_11eb_8212_7429af293810level0_row51\" class=\"row_heading level0 row51\" >51</th>\n",
       "                        <td id=\"T_093d30dc_08bc_11eb_8212_7429af293810row51_col0\" class=\"data row51 col0\" >130 min</td>\n",
       "                        <td id=\"T_093d30dc_08bc_11eb_8212_7429af293810row51_col1\" class=\"data row51 col1\" >30</td>\n",
       "            </tr>\n",
       "            <tr>\n",
       "                        <th id=\"T_093d30dc_08bc_11eb_8212_7429af293810level0_row52\" class=\"row_heading level0 row52\" >52</th>\n",
       "                        <td id=\"T_093d30dc_08bc_11eb_8212_7429af293810row52_col0\" class=\"data row52 col0\" >125 min</td>\n",
       "                        <td id=\"T_093d30dc_08bc_11eb_8212_7429af293810row52_col1\" class=\"data row52 col1\" >30</td>\n",
       "            </tr>\n",
       "            <tr>\n",
       "                        <th id=\"T_093d30dc_08bc_11eb_8212_7429af293810level0_row53\" class=\"row_heading level0 row53\" >53</th>\n",
       "                        <td id=\"T_093d30dc_08bc_11eb_8212_7429af293810row53_col0\" class=\"data row53 col0\" >135 min</td>\n",
       "                        <td id=\"T_093d30dc_08bc_11eb_8212_7429af293810row53_col1\" class=\"data row53 col1\" >28</td>\n",
       "            </tr>\n",
       "            <tr>\n",
       "                        <th id=\"T_093d30dc_08bc_11eb_8212_7429af293810level0_row54\" class=\"row_heading level0 row54\" >54</th>\n",
       "                        <td id=\"T_093d30dc_08bc_11eb_8212_7429af293810row54_col0\" class=\"data row54 col0\" >74 min</td>\n",
       "                        <td id=\"T_093d30dc_08bc_11eb_8212_7429af293810row54_col1\" class=\"data row54 col1\" >28</td>\n",
       "            </tr>\n",
       "            <tr>\n",
       "                        <th id=\"T_093d30dc_08bc_11eb_8212_7429af293810level0_row55\" class=\"row_heading level0 row55\" >55</th>\n",
       "                        <td id=\"T_093d30dc_08bc_11eb_8212_7429af293810row55_col0\" class=\"data row55 col0\" >75 min</td>\n",
       "                        <td id=\"T_093d30dc_08bc_11eb_8212_7429af293810row55_col1\" class=\"data row55 col1\" >28</td>\n",
       "            </tr>\n",
       "            <tr>\n",
       "                        <th id=\"T_093d30dc_08bc_11eb_8212_7429af293810level0_row56\" class=\"row_heading level0 row56\" >56</th>\n",
       "                        <td id=\"T_093d30dc_08bc_11eb_8212_7429af293810row56_col0\" class=\"data row56 col0\" >133 min</td>\n",
       "                        <td id=\"T_093d30dc_08bc_11eb_8212_7429af293810row56_col1\" class=\"data row56 col1\" >28</td>\n",
       "            </tr>\n",
       "            <tr>\n",
       "                        <th id=\"T_093d30dc_08bc_11eb_8212_7429af293810level0_row57\" class=\"row_heading level0 row57\" >57</th>\n",
       "                        <td id=\"T_093d30dc_08bc_11eb_8212_7429af293810row57_col0\" class=\"data row57 col0\" >132 min</td>\n",
       "                        <td id=\"T_093d30dc_08bc_11eb_8212_7429af293810row57_col1\" class=\"data row57 col1\" >27</td>\n",
       "            </tr>\n",
       "            <tr>\n",
       "                        <th id=\"T_093d30dc_08bc_11eb_8212_7429af293810level0_row58\" class=\"row_heading level0 row58\" >58</th>\n",
       "                        <td id=\"T_093d30dc_08bc_11eb_8212_7429af293810row58_col0\" class=\"data row58 col0\" >66 min</td>\n",
       "                        <td id=\"T_093d30dc_08bc_11eb_8212_7429af293810row58_col1\" class=\"data row58 col1\" >26</td>\n",
       "            </tr>\n",
       "            <tr>\n",
       "                        <th id=\"T_093d30dc_08bc_11eb_8212_7429af293810level0_row59\" class=\"row_heading level0 row59\" >59</th>\n",
       "                        <td id=\"T_093d30dc_08bc_11eb_8212_7429af293810row59_col0\" class=\"data row59 col0\" >63 min</td>\n",
       "                        <td id=\"T_093d30dc_08bc_11eb_8212_7429af293810row59_col1\" class=\"data row59 col1\" >26</td>\n",
       "            </tr>\n",
       "            <tr>\n",
       "                        <th id=\"T_093d30dc_08bc_11eb_8212_7429af293810level0_row60\" class=\"row_heading level0 row60\" >60</th>\n",
       "                        <td id=\"T_093d30dc_08bc_11eb_8212_7429af293810row60_col0\" class=\"data row60 col0\" >77 min</td>\n",
       "                        <td id=\"T_093d30dc_08bc_11eb_8212_7429af293810row60_col1\" class=\"data row60 col1\" >24</td>\n",
       "            </tr>\n",
       "            <tr>\n",
       "                        <th id=\"T_093d30dc_08bc_11eb_8212_7429af293810level0_row61\" class=\"row_heading level0 row61\" >61</th>\n",
       "                        <td id=\"T_093d30dc_08bc_11eb_8212_7429af293810row61_col0\" class=\"data row61 col0\" >53 min</td>\n",
       "                        <td id=\"T_093d30dc_08bc_11eb_8212_7429af293810row61_col1\" class=\"data row61 col1\" >24</td>\n",
       "            </tr>\n",
       "            <tr>\n",
       "                        <th id=\"T_093d30dc_08bc_11eb_8212_7429af293810level0_row62\" class=\"row_heading level0 row62\" >62</th>\n",
       "                        <td id=\"T_093d30dc_08bc_11eb_8212_7429af293810row62_col0\" class=\"data row62 col0\" >73 min</td>\n",
       "                        <td id=\"T_093d30dc_08bc_11eb_8212_7429af293810row62_col1\" class=\"data row62 col1\" >23</td>\n",
       "            </tr>\n",
       "            <tr>\n",
       "                        <th id=\"T_093d30dc_08bc_11eb_8212_7429af293810level0_row63\" class=\"row_heading level0 row63\" >63</th>\n",
       "                        <td id=\"T_093d30dc_08bc_11eb_8212_7429af293810row63_col0\" class=\"data row63 col0\" >69 min</td>\n",
       "                        <td id=\"T_093d30dc_08bc_11eb_8212_7429af293810row63_col1\" class=\"data row63 col1\" >23</td>\n",
       "            </tr>\n",
       "            <tr>\n",
       "                        <th id=\"T_093d30dc_08bc_11eb_8212_7429af293810level0_row64\" class=\"row_heading level0 row64\" >64</th>\n",
       "                        <td id=\"T_093d30dc_08bc_11eb_8212_7429af293810row64_col0\" class=\"data row64 col0\" >60 min</td>\n",
       "                        <td id=\"T_093d30dc_08bc_11eb_8212_7429af293810row64_col1\" class=\"data row64 col1\" >23</td>\n",
       "            </tr>\n",
       "            <tr>\n",
       "                        <th id=\"T_093d30dc_08bc_11eb_8212_7429af293810level0_row65\" class=\"row_heading level0 row65\" >65</th>\n",
       "                        <td id=\"T_093d30dc_08bc_11eb_8212_7429af293810row65_col0\" class=\"data row65 col0\" >129 min</td>\n",
       "                        <td id=\"T_093d30dc_08bc_11eb_8212_7429af293810row65_col1\" class=\"data row65 col1\" >23</td>\n",
       "            </tr>\n",
       "            <tr>\n",
       "                        <th id=\"T_093d30dc_08bc_11eb_8212_7429af293810level0_row66\" class=\"row_heading level0 row66\" >66</th>\n",
       "                        <td id=\"T_093d30dc_08bc_11eb_8212_7429af293810row66_col0\" class=\"data row66 col0\" >131 min</td>\n",
       "                        <td id=\"T_093d30dc_08bc_11eb_8212_7429af293810row66_col1\" class=\"data row66 col1\" >23</td>\n",
       "            </tr>\n",
       "            <tr>\n",
       "                        <th id=\"T_093d30dc_08bc_11eb_8212_7429af293810level0_row67\" class=\"row_heading level0 row67\" >67</th>\n",
       "                        <td id=\"T_093d30dc_08bc_11eb_8212_7429af293810row67_col0\" class=\"data row67 col0\" >61 min</td>\n",
       "                        <td id=\"T_093d30dc_08bc_11eb_8212_7429af293810row67_col1\" class=\"data row67 col1\" >22</td>\n",
       "            </tr>\n",
       "            <tr>\n",
       "                        <th id=\"T_093d30dc_08bc_11eb_8212_7429af293810level0_row68\" class=\"row_heading level0 row68\" >68</th>\n",
       "                        <td id=\"T_093d30dc_08bc_11eb_8212_7429af293810row68_col0\" class=\"data row68 col0\" >72 min</td>\n",
       "                        <td id=\"T_093d30dc_08bc_11eb_8212_7429af293810row68_col1\" class=\"data row68 col1\" >21</td>\n",
       "            </tr>\n",
       "            <tr>\n",
       "                        <th id=\"T_093d30dc_08bc_11eb_8212_7429af293810level0_row69\" class=\"row_heading level0 row69\" >69</th>\n",
       "                        <td id=\"T_093d30dc_08bc_11eb_8212_7429af293810row69_col0\" class=\"data row69 col0\" >65 min</td>\n",
       "                        <td id=\"T_093d30dc_08bc_11eb_8212_7429af293810row69_col1\" class=\"data row69 col1\" >21</td>\n",
       "            </tr>\n",
       "            <tr>\n",
       "                        <th id=\"T_093d30dc_08bc_11eb_8212_7429af293810level0_row70\" class=\"row_heading level0 row70\" >70</th>\n",
       "                        <td id=\"T_093d30dc_08bc_11eb_8212_7429af293810row70_col0\" class=\"data row70 col0\" >54 min</td>\n",
       "                        <td id=\"T_093d30dc_08bc_11eb_8212_7429af293810row70_col1\" class=\"data row70 col1\" >20</td>\n",
       "            </tr>\n",
       "            <tr>\n",
       "                        <th id=\"T_093d30dc_08bc_11eb_8212_7429af293810level0_row71\" class=\"row_heading level0 row71\" >71</th>\n",
       "                        <td id=\"T_093d30dc_08bc_11eb_8212_7429af293810row71_col0\" class=\"data row71 col0\" >59 min</td>\n",
       "                        <td id=\"T_093d30dc_08bc_11eb_8212_7429af293810row71_col1\" class=\"data row71 col1\" >20</td>\n",
       "            </tr>\n",
       "            <tr>\n",
       "                        <th id=\"T_093d30dc_08bc_11eb_8212_7429af293810level0_row72\" class=\"row_heading level0 row72\" >72</th>\n",
       "                        <td id=\"T_093d30dc_08bc_11eb_8212_7429af293810row72_col0\" class=\"data row72 col0\" >71 min</td>\n",
       "                        <td id=\"T_093d30dc_08bc_11eb_8212_7429af293810row72_col1\" class=\"data row72 col1\" >20</td>\n",
       "            </tr>\n",
       "            <tr>\n",
       "                        <th id=\"T_093d30dc_08bc_11eb_8212_7429af293810level0_row73\" class=\"row_heading level0 row73\" >73</th>\n",
       "                        <td id=\"T_093d30dc_08bc_11eb_8212_7429af293810row73_col0\" class=\"data row73 col0\" >62 min</td>\n",
       "                        <td id=\"T_093d30dc_08bc_11eb_8212_7429af293810row73_col1\" class=\"data row73 col1\" >20</td>\n",
       "            </tr>\n",
       "            <tr>\n",
       "                        <th id=\"T_093d30dc_08bc_11eb_8212_7429af293810level0_row74\" class=\"row_heading level0 row74\" >74</th>\n",
       "                        <td id=\"T_093d30dc_08bc_11eb_8212_7429af293810row74_col0\" class=\"data row74 col0\" >58 min</td>\n",
       "                        <td id=\"T_093d30dc_08bc_11eb_8212_7429af293810row74_col1\" class=\"data row74 col1\" >19</td>\n",
       "            </tr>\n",
       "            <tr>\n",
       "                        <th id=\"T_093d30dc_08bc_11eb_8212_7429af293810level0_row75\" class=\"row_heading level0 row75\" >75</th>\n",
       "                        <td id=\"T_093d30dc_08bc_11eb_8212_7429af293810row75_col0\" class=\"data row75 col0\" >24 min</td>\n",
       "                        <td id=\"T_093d30dc_08bc_11eb_8212_7429af293810row75_col1\" class=\"data row75 col1\" >18</td>\n",
       "            </tr>\n",
       "            <tr>\n",
       "                        <th id=\"T_093d30dc_08bc_11eb_8212_7429af293810level0_row76\" class=\"row_heading level0 row76\" >76</th>\n",
       "                        <td id=\"T_093d30dc_08bc_11eb_8212_7429af293810row76_col0\" class=\"data row76 col0\" >70 min</td>\n",
       "                        <td id=\"T_093d30dc_08bc_11eb_8212_7429af293810row76_col1\" class=\"data row76 col1\" >18</td>\n",
       "            </tr>\n",
       "            <tr>\n",
       "                        <th id=\"T_093d30dc_08bc_11eb_8212_7429af293810level0_row77\" class=\"row_heading level0 row77\" >77</th>\n",
       "                        <td id=\"T_093d30dc_08bc_11eb_8212_7429af293810row77_col0\" class=\"data row77 col0\" >134 min</td>\n",
       "                        <td id=\"T_093d30dc_08bc_11eb_8212_7429af293810row77_col1\" class=\"data row77 col1\" >18</td>\n",
       "            </tr>\n",
       "            <tr>\n",
       "                        <th id=\"T_093d30dc_08bc_11eb_8212_7429af293810level0_row78\" class=\"row_heading level0 row78\" >78</th>\n",
       "                        <td id=\"T_093d30dc_08bc_11eb_8212_7429af293810row78_col0\" class=\"data row78 col0\" >76 min</td>\n",
       "                        <td id=\"T_093d30dc_08bc_11eb_8212_7429af293810row78_col1\" class=\"data row78 col1\" >17</td>\n",
       "            </tr>\n",
       "            <tr>\n",
       "                        <th id=\"T_093d30dc_08bc_11eb_8212_7429af293810level0_row79\" class=\"row_heading level0 row79\" >79</th>\n",
       "                        <td id=\"T_093d30dc_08bc_11eb_8212_7429af293810row79_col0\" class=\"data row79 col0\" >140 min</td>\n",
       "                        <td id=\"T_093d30dc_08bc_11eb_8212_7429af293810row79_col1\" class=\"data row79 col1\" >17</td>\n",
       "            </tr>\n",
       "            <tr>\n",
       "                        <th id=\"T_093d30dc_08bc_11eb_8212_7429af293810level0_row80\" class=\"row_heading level0 row80\" >80</th>\n",
       "                        <td id=\"T_093d30dc_08bc_11eb_8212_7429af293810row80_col0\" class=\"data row80 col0\" >52 min</td>\n",
       "                        <td id=\"T_093d30dc_08bc_11eb_8212_7429af293810row80_col1\" class=\"data row80 col1\" >17</td>\n",
       "            </tr>\n",
       "            <tr>\n",
       "                        <th id=\"T_093d30dc_08bc_11eb_8212_7429af293810level0_row81\" class=\"row_heading level0 row81\" >81</th>\n",
       "                        <td id=\"T_093d30dc_08bc_11eb_8212_7429af293810row81_col0\" class=\"data row81 col0\" >68 min</td>\n",
       "                        <td id=\"T_093d30dc_08bc_11eb_8212_7429af293810row81_col1\" class=\"data row81 col1\" >16</td>\n",
       "            </tr>\n",
       "            <tr>\n",
       "                        <th id=\"T_093d30dc_08bc_11eb_8212_7429af293810level0_row82\" class=\"row_heading level0 row82\" >82</th>\n",
       "                        <td id=\"T_093d30dc_08bc_11eb_8212_7429af293810row82_col0\" class=\"data row82 col0\" >141 min</td>\n",
       "                        <td id=\"T_093d30dc_08bc_11eb_8212_7429af293810row82_col1\" class=\"data row82 col1\" >16</td>\n",
       "            </tr>\n",
       "            <tr>\n",
       "                        <th id=\"T_093d30dc_08bc_11eb_8212_7429af293810level0_row83\" class=\"row_heading level0 row83\" >83</th>\n",
       "                        <td id=\"T_093d30dc_08bc_11eb_8212_7429af293810row83_col0\" class=\"data row83 col0\" >67 min</td>\n",
       "                        <td id=\"T_093d30dc_08bc_11eb_8212_7429af293810row83_col1\" class=\"data row83 col1\" >16</td>\n",
       "            </tr>\n",
       "            <tr>\n",
       "                        <th id=\"T_093d30dc_08bc_11eb_8212_7429af293810level0_row84\" class=\"row_heading level0 row84\" >84</th>\n",
       "                        <td id=\"T_093d30dc_08bc_11eb_8212_7429af293810row84_col0\" class=\"data row84 col0\" >46 min</td>\n",
       "                        <td id=\"T_093d30dc_08bc_11eb_8212_7429af293810row84_col1\" class=\"data row84 col1\" >16</td>\n",
       "            </tr>\n",
       "            <tr>\n",
       "                        <th id=\"T_093d30dc_08bc_11eb_8212_7429af293810level0_row85\" class=\"row_heading level0 row85\" >85</th>\n",
       "                        <td id=\"T_093d30dc_08bc_11eb_8212_7429af293810row85_col0\" class=\"data row85 col0\" >136 min</td>\n",
       "                        <td id=\"T_093d30dc_08bc_11eb_8212_7429af293810row85_col1\" class=\"data row85 col1\" >15</td>\n",
       "            </tr>\n",
       "            <tr>\n",
       "                        <th id=\"T_093d30dc_08bc_11eb_8212_7429af293810level0_row86\" class=\"row_heading level0 row86\" >86</th>\n",
       "                        <td id=\"T_093d30dc_08bc_11eb_8212_7429af293810row86_col0\" class=\"data row86 col0\" >44 min</td>\n",
       "                        <td id=\"T_093d30dc_08bc_11eb_8212_7429af293810row86_col1\" class=\"data row86 col1\" >15</td>\n",
       "            </tr>\n",
       "            <tr>\n",
       "                        <th id=\"T_093d30dc_08bc_11eb_8212_7429af293810level0_row87\" class=\"row_heading level0 row87\" >87</th>\n",
       "                        <td id=\"T_093d30dc_08bc_11eb_8212_7429af293810row87_col0\" class=\"data row87 col0\" >143 min</td>\n",
       "                        <td id=\"T_093d30dc_08bc_11eb_8212_7429af293810row87_col1\" class=\"data row87 col1\" >15</td>\n",
       "            </tr>\n",
       "            <tr>\n",
       "                        <th id=\"T_093d30dc_08bc_11eb_8212_7429af293810level0_row88\" class=\"row_heading level0 row88\" >88</th>\n",
       "                        <td id=\"T_093d30dc_08bc_11eb_8212_7429af293810row88_col0\" class=\"data row88 col0\" >150 min</td>\n",
       "                        <td id=\"T_093d30dc_08bc_11eb_8212_7429af293810row88_col1\" class=\"data row88 col1\" >14</td>\n",
       "            </tr>\n",
       "            <tr>\n",
       "                        <th id=\"T_093d30dc_08bc_11eb_8212_7429af293810level0_row89\" class=\"row_heading level0 row89\" >89</th>\n",
       "                        <td id=\"T_093d30dc_08bc_11eb_8212_7429af293810row89_col0\" class=\"data row89 col0\" >64 min</td>\n",
       "                        <td id=\"T_093d30dc_08bc_11eb_8212_7429af293810row89_col1\" class=\"data row89 col1\" >14</td>\n",
       "            </tr>\n",
       "            <tr>\n",
       "                        <th id=\"T_093d30dc_08bc_11eb_8212_7429af293810level0_row90\" class=\"row_heading level0 row90\" >90</th>\n",
       "                        <td id=\"T_093d30dc_08bc_11eb_8212_7429af293810row90_col0\" class=\"data row90 col0\" >22 min</td>\n",
       "                        <td id=\"T_093d30dc_08bc_11eb_8212_7429af293810row90_col1\" class=\"data row90 col1\" >13</td>\n",
       "            </tr>\n",
       "            <tr>\n",
       "                        <th id=\"T_093d30dc_08bc_11eb_8212_7429af293810level0_row91\" class=\"row_heading level0 row91\" >91</th>\n",
       "                        <td id=\"T_093d30dc_08bc_11eb_8212_7429af293810row91_col0\" class=\"data row91 col0\" >151 min</td>\n",
       "                        <td id=\"T_093d30dc_08bc_11eb_8212_7429af293810row91_col1\" class=\"data row91 col1\" >13</td>\n",
       "            </tr>\n",
       "            <tr>\n",
       "                        <th id=\"T_093d30dc_08bc_11eb_8212_7429af293810level0_row92\" class=\"row_heading level0 row92\" >92</th>\n",
       "                        <td id=\"T_093d30dc_08bc_11eb_8212_7429af293810row92_col0\" class=\"data row92 col0\" >139 min</td>\n",
       "                        <td id=\"T_093d30dc_08bc_11eb_8212_7429af293810row92_col1\" class=\"data row92 col1\" >13</td>\n",
       "            </tr>\n",
       "            <tr>\n",
       "                        <th id=\"T_093d30dc_08bc_11eb_8212_7429af293810level0_row93\" class=\"row_heading level0 row93\" >93</th>\n",
       "                        <td id=\"T_093d30dc_08bc_11eb_8212_7429af293810row93_col0\" class=\"data row93 col0\" >148 min</td>\n",
       "                        <td id=\"T_093d30dc_08bc_11eb_8212_7429af293810row93_col1\" class=\"data row93 col1\" >13</td>\n",
       "            </tr>\n",
       "            <tr>\n",
       "                        <th id=\"T_093d30dc_08bc_11eb_8212_7429af293810level0_row94\" class=\"row_heading level0 row94\" >94</th>\n",
       "                        <td id=\"T_093d30dc_08bc_11eb_8212_7429af293810row94_col0\" class=\"data row94 col0\" >40 min</td>\n",
       "                        <td id=\"T_093d30dc_08bc_11eb_8212_7429af293810row94_col1\" class=\"data row94 col1\" >13</td>\n",
       "            </tr>\n",
       "            <tr>\n",
       "                        <th id=\"T_093d30dc_08bc_11eb_8212_7429af293810level0_row95\" class=\"row_heading level0 row95\" >95</th>\n",
       "                        <td id=\"T_093d30dc_08bc_11eb_8212_7429af293810row95_col0\" class=\"data row95 col0\" >55 min</td>\n",
       "                        <td id=\"T_093d30dc_08bc_11eb_8212_7429af293810row95_col1\" class=\"data row95 col1\" >13</td>\n",
       "            </tr>\n",
       "            <tr>\n",
       "                        <th id=\"T_093d30dc_08bc_11eb_8212_7429af293810level0_row96\" class=\"row_heading level0 row96\" >96</th>\n",
       "                        <td id=\"T_093d30dc_08bc_11eb_8212_7429af293810row96_col0\" class=\"data row96 col0\" >146 min</td>\n",
       "                        <td id=\"T_093d30dc_08bc_11eb_8212_7429af293810row96_col1\" class=\"data row96 col1\" >12</td>\n",
       "            </tr>\n",
       "            <tr>\n",
       "                        <th id=\"T_093d30dc_08bc_11eb_8212_7429af293810level0_row97\" class=\"row_heading level0 row97\" >97</th>\n",
       "                        <td id=\"T_093d30dc_08bc_11eb_8212_7429af293810row97_col0\" class=\"data row97 col0\" >163 min</td>\n",
       "                        <td id=\"T_093d30dc_08bc_11eb_8212_7429af293810row97_col1\" class=\"data row97 col1\" >12</td>\n",
       "            </tr>\n",
       "            <tr>\n",
       "                        <th id=\"T_093d30dc_08bc_11eb_8212_7429af293810level0_row98\" class=\"row_heading level0 row98\" >98</th>\n",
       "                        <td id=\"T_093d30dc_08bc_11eb_8212_7429af293810row98_col0\" class=\"data row98 col0\" >138 min</td>\n",
       "                        <td id=\"T_093d30dc_08bc_11eb_8212_7429af293810row98_col1\" class=\"data row98 col1\" >12</td>\n",
       "            </tr>\n",
       "            <tr>\n",
       "                        <th id=\"T_093d30dc_08bc_11eb_8212_7429af293810level0_row99\" class=\"row_heading level0 row99\" >99</th>\n",
       "                        <td id=\"T_093d30dc_08bc_11eb_8212_7429af293810row99_col0\" class=\"data row99 col0\" >57 min</td>\n",
       "                        <td id=\"T_093d30dc_08bc_11eb_8212_7429af293810row99_col1\" class=\"data row99 col1\" >12</td>\n",
       "            </tr>\n",
       "            <tr>\n",
       "                        <th id=\"T_093d30dc_08bc_11eb_8212_7429af293810level0_row100\" class=\"row_heading level0 row100\" >100</th>\n",
       "                        <td id=\"T_093d30dc_08bc_11eb_8212_7429af293810row100_col0\" class=\"data row100 col0\" >153 min</td>\n",
       "                        <td id=\"T_093d30dc_08bc_11eb_8212_7429af293810row100_col1\" class=\"data row100 col1\" >11</td>\n",
       "            </tr>\n",
       "            <tr>\n",
       "                        <th id=\"T_093d30dc_08bc_11eb_8212_7429af293810level0_row101\" class=\"row_heading level0 row101\" >101</th>\n",
       "                        <td id=\"T_093d30dc_08bc_11eb_8212_7429af293810row101_col0\" class=\"data row101 col0\" >56 min</td>\n",
       "                        <td id=\"T_093d30dc_08bc_11eb_8212_7429af293810row101_col1\" class=\"data row101 col1\" >11</td>\n",
       "            </tr>\n",
       "            <tr>\n",
       "                        <th id=\"T_093d30dc_08bc_11eb_8212_7429af293810level0_row102\" class=\"row_heading level0 row102\" >102</th>\n",
       "                        <td id=\"T_093d30dc_08bc_11eb_8212_7429af293810row102_col0\" class=\"data row102 col0\" >154 min</td>\n",
       "                        <td id=\"T_093d30dc_08bc_11eb_8212_7429af293810row102_col1\" class=\"data row102 col1\" >11</td>\n",
       "            </tr>\n",
       "            <tr>\n",
       "                        <th id=\"T_093d30dc_08bc_11eb_8212_7429af293810level0_row103\" class=\"row_heading level0 row103\" >103</th>\n",
       "                        <td id=\"T_093d30dc_08bc_11eb_8212_7429af293810row103_col0\" class=\"data row103 col0\" >162 min</td>\n",
       "                        <td id=\"T_093d30dc_08bc_11eb_8212_7429af293810row103_col1\" class=\"data row103 col1\" >11</td>\n",
       "            </tr>\n",
       "            <tr>\n",
       "                        <th id=\"T_093d30dc_08bc_11eb_8212_7429af293810level0_row104\" class=\"row_heading level0 row104\" >104</th>\n",
       "                        <td id=\"T_093d30dc_08bc_11eb_8212_7429af293810row104_col0\" class=\"data row104 col0\" >142 min</td>\n",
       "                        <td id=\"T_093d30dc_08bc_11eb_8212_7429af293810row104_col1\" class=\"data row104 col1\" >9</td>\n",
       "            </tr>\n",
       "            <tr>\n",
       "                        <th id=\"T_093d30dc_08bc_11eb_8212_7429af293810level0_row105\" class=\"row_heading level0 row105\" >105</th>\n",
       "                        <td id=\"T_093d30dc_08bc_11eb_8212_7429af293810row105_col0\" class=\"data row105 col0\" >45 min</td>\n",
       "                        <td id=\"T_093d30dc_08bc_11eb_8212_7429af293810row105_col1\" class=\"data row105 col1\" >9</td>\n",
       "            </tr>\n",
       "            <tr>\n",
       "                        <th id=\"T_093d30dc_08bc_11eb_8212_7429af293810level0_row106\" class=\"row_heading level0 row106\" >106</th>\n",
       "                        <td id=\"T_093d30dc_08bc_11eb_8212_7429af293810row106_col0\" class=\"data row106 col0\" >29 min</td>\n",
       "                        <td id=\"T_093d30dc_08bc_11eb_8212_7429af293810row106_col1\" class=\"data row106 col1\" >9</td>\n",
       "            </tr>\n",
       "            <tr>\n",
       "                        <th id=\"T_093d30dc_08bc_11eb_8212_7429af293810level0_row107\" class=\"row_heading level0 row107\" >107</th>\n",
       "                        <td id=\"T_093d30dc_08bc_11eb_8212_7429af293810row107_col0\" class=\"data row107 col0\" >145 min</td>\n",
       "                        <td id=\"T_093d30dc_08bc_11eb_8212_7429af293810row107_col1\" class=\"data row107 col1\" >9</td>\n",
       "            </tr>\n",
       "            <tr>\n",
       "                        <th id=\"T_093d30dc_08bc_11eb_8212_7429af293810level0_row108\" class=\"row_heading level0 row108\" >108</th>\n",
       "                        <td id=\"T_093d30dc_08bc_11eb_8212_7429af293810row108_col0\" class=\"data row108 col0\" >158 min</td>\n",
       "                        <td id=\"T_093d30dc_08bc_11eb_8212_7429af293810row108_col1\" class=\"data row108 col1\" >9</td>\n",
       "            </tr>\n",
       "            <tr>\n",
       "                        <th id=\"T_093d30dc_08bc_11eb_8212_7429af293810level0_row109\" class=\"row_heading level0 row109\" >109</th>\n",
       "                        <td id=\"T_093d30dc_08bc_11eb_8212_7429af293810row109_col0\" class=\"data row109 col0\" >49 min</td>\n",
       "                        <td id=\"T_093d30dc_08bc_11eb_8212_7429af293810row109_col1\" class=\"data row109 col1\" >8</td>\n",
       "            </tr>\n",
       "            <tr>\n",
       "                        <th id=\"T_093d30dc_08bc_11eb_8212_7429af293810level0_row110\" class=\"row_heading level0 row110\" >110</th>\n",
       "                        <td id=\"T_093d30dc_08bc_11eb_8212_7429af293810row110_col0\" class=\"data row110 col0\" >51 min</td>\n",
       "                        <td id=\"T_093d30dc_08bc_11eb_8212_7429af293810row110_col1\" class=\"data row110 col1\" >8</td>\n",
       "            </tr>\n",
       "            <tr>\n",
       "                        <th id=\"T_093d30dc_08bc_11eb_8212_7429af293810level0_row111\" class=\"row_heading level0 row111\" >111</th>\n",
       "                        <td id=\"T_093d30dc_08bc_11eb_8212_7429af293810row111_col0\" class=\"data row111 col0\" >147 min</td>\n",
       "                        <td id=\"T_093d30dc_08bc_11eb_8212_7429af293810row111_col1\" class=\"data row111 col1\" >8</td>\n",
       "            </tr>\n",
       "            <tr>\n",
       "                        <th id=\"T_093d30dc_08bc_11eb_8212_7429af293810level0_row112\" class=\"row_heading level0 row112\" >112</th>\n",
       "                        <td id=\"T_093d30dc_08bc_11eb_8212_7429af293810row112_col0\" class=\"data row112 col0\" >149 min</td>\n",
       "                        <td id=\"T_093d30dc_08bc_11eb_8212_7429af293810row112_col1\" class=\"data row112 col1\" >8</td>\n",
       "            </tr>\n",
       "            <tr>\n",
       "                        <th id=\"T_093d30dc_08bc_11eb_8212_7429af293810level0_row113\" class=\"row_heading level0 row113\" >113</th>\n",
       "                        <td id=\"T_093d30dc_08bc_11eb_8212_7429af293810row113_col0\" class=\"data row113 col0\" >47 min</td>\n",
       "                        <td id=\"T_093d30dc_08bc_11eb_8212_7429af293810row113_col1\" class=\"data row113 col1\" >8</td>\n",
       "            </tr>\n",
       "            <tr>\n",
       "                        <th id=\"T_093d30dc_08bc_11eb_8212_7429af293810level0_row114\" class=\"row_heading level0 row114\" >114</th>\n",
       "                        <td id=\"T_093d30dc_08bc_11eb_8212_7429af293810row114_col0\" class=\"data row114 col0\" >25 min</td>\n",
       "                        <td id=\"T_093d30dc_08bc_11eb_8212_7429af293810row114_col1\" class=\"data row114 col1\" >7</td>\n",
       "            </tr>\n",
       "            <tr>\n",
       "                        <th id=\"T_093d30dc_08bc_11eb_8212_7429af293810level0_row115\" class=\"row_heading level0 row115\" >115</th>\n",
       "                        <td id=\"T_093d30dc_08bc_11eb_8212_7429af293810row115_col0\" class=\"data row115 col0\" >161 min</td>\n",
       "                        <td id=\"T_093d30dc_08bc_11eb_8212_7429af293810row115_col1\" class=\"data row115 col1\" >7</td>\n",
       "            </tr>\n",
       "            <tr>\n",
       "                        <th id=\"T_093d30dc_08bc_11eb_8212_7429af293810level0_row116\" class=\"row_heading level0 row116\" >116</th>\n",
       "                        <td id=\"T_093d30dc_08bc_11eb_8212_7429af293810row116_col0\" class=\"data row116 col0\" >155 min</td>\n",
       "                        <td id=\"T_093d30dc_08bc_11eb_8212_7429af293810row116_col1\" class=\"data row116 col1\" >7</td>\n",
       "            </tr>\n",
       "            <tr>\n",
       "                        <th id=\"T_093d30dc_08bc_11eb_8212_7429af293810level0_row117\" class=\"row_heading level0 row117\" >117</th>\n",
       "                        <td id=\"T_093d30dc_08bc_11eb_8212_7429af293810row117_col0\" class=\"data row117 col0\" >168 min</td>\n",
       "                        <td id=\"T_093d30dc_08bc_11eb_8212_7429af293810row117_col1\" class=\"data row117 col1\" >7</td>\n",
       "            </tr>\n",
       "            <tr>\n",
       "                        <th id=\"T_093d30dc_08bc_11eb_8212_7429af293810level0_row118\" class=\"row_heading level0 row118\" >118</th>\n",
       "                        <td id=\"T_093d30dc_08bc_11eb_8212_7429af293810row118_col0\" class=\"data row118 col0\" >166 min</td>\n",
       "                        <td id=\"T_093d30dc_08bc_11eb_8212_7429af293810row118_col1\" class=\"data row118 col1\" >6</td>\n",
       "            </tr>\n",
       "            <tr>\n",
       "                        <th id=\"T_093d30dc_08bc_11eb_8212_7429af293810level0_row119\" class=\"row_heading level0 row119\" >119</th>\n",
       "                        <td id=\"T_093d30dc_08bc_11eb_8212_7429af293810row119_col0\" class=\"data row119 col0\" >159 min</td>\n",
       "                        <td id=\"T_093d30dc_08bc_11eb_8212_7429af293810row119_col1\" class=\"data row119 col1\" >6</td>\n",
       "            </tr>\n",
       "            <tr>\n",
       "                        <th id=\"T_093d30dc_08bc_11eb_8212_7429af293810level0_row120\" class=\"row_heading level0 row120\" >120</th>\n",
       "                        <td id=\"T_093d30dc_08bc_11eb_8212_7429af293810row120_col0\" class=\"data row120 col0\" >50 min</td>\n",
       "                        <td id=\"T_093d30dc_08bc_11eb_8212_7429af293810row120_col1\" class=\"data row120 col1\" >6</td>\n",
       "            </tr>\n",
       "            <tr>\n",
       "                        <th id=\"T_093d30dc_08bc_11eb_8212_7429af293810level0_row121\" class=\"row_heading level0 row121\" >121</th>\n",
       "                        <td id=\"T_093d30dc_08bc_11eb_8212_7429af293810row121_col0\" class=\"data row121 col0\" >23 min</td>\n",
       "                        <td id=\"T_093d30dc_08bc_11eb_8212_7429af293810row121_col1\" class=\"data row121 col1\" >6</td>\n",
       "            </tr>\n",
       "            <tr>\n",
       "                        <th id=\"T_093d30dc_08bc_11eb_8212_7429af293810level0_row122\" class=\"row_heading level0 row122\" >122</th>\n",
       "                        <td id=\"T_093d30dc_08bc_11eb_8212_7429af293810row122_col0\" class=\"data row122 col0\" >156 min</td>\n",
       "                        <td id=\"T_093d30dc_08bc_11eb_8212_7429af293810row122_col1\" class=\"data row122 col1\" >6</td>\n",
       "            </tr>\n",
       "            <tr>\n",
       "                        <th id=\"T_093d30dc_08bc_11eb_8212_7429af293810level0_row123\" class=\"row_heading level0 row123\" >123</th>\n",
       "                        <td id=\"T_093d30dc_08bc_11eb_8212_7429af293810row123_col0\" class=\"data row123 col0\" >144 min</td>\n",
       "                        <td id=\"T_093d30dc_08bc_11eb_8212_7429af293810row123_col1\" class=\"data row123 col1\" >6</td>\n",
       "            </tr>\n",
       "            <tr>\n",
       "                        <th id=\"T_093d30dc_08bc_11eb_8212_7429af293810level0_row124\" class=\"row_heading level0 row124\" >124</th>\n",
       "                        <td id=\"T_093d30dc_08bc_11eb_8212_7429af293810row124_col0\" class=\"data row124 col0\" >48 min</td>\n",
       "                        <td id=\"T_093d30dc_08bc_11eb_8212_7429af293810row124_col1\" class=\"data row124 col1\" >5</td>\n",
       "            </tr>\n",
       "            <tr>\n",
       "                        <th id=\"T_093d30dc_08bc_11eb_8212_7429af293810level0_row125\" class=\"row_heading level0 row125\" >125</th>\n",
       "                        <td id=\"T_093d30dc_08bc_11eb_8212_7429af293810row125_col0\" class=\"data row125 col0\" >42 min</td>\n",
       "                        <td id=\"T_093d30dc_08bc_11eb_8212_7429af293810row125_col1\" class=\"data row125 col1\" >5</td>\n",
       "            </tr>\n",
       "            <tr>\n",
       "                        <th id=\"T_093d30dc_08bc_11eb_8212_7429af293810level0_row126\" class=\"row_heading level0 row126\" >126</th>\n",
       "                        <td id=\"T_093d30dc_08bc_11eb_8212_7429af293810row126_col0\" class=\"data row126 col0\" >165 min</td>\n",
       "                        <td id=\"T_093d30dc_08bc_11eb_8212_7429af293810row126_col1\" class=\"data row126 col1\" >5</td>\n",
       "            </tr>\n",
       "            <tr>\n",
       "                        <th id=\"T_093d30dc_08bc_11eb_8212_7429af293810level0_row127\" class=\"row_heading level0 row127\" >127</th>\n",
       "                        <td id=\"T_093d30dc_08bc_11eb_8212_7429af293810row127_col0\" class=\"data row127 col0\" >26 min</td>\n",
       "                        <td id=\"T_093d30dc_08bc_11eb_8212_7429af293810row127_col1\" class=\"data row127 col1\" >5</td>\n",
       "            </tr>\n",
       "            <tr>\n",
       "                        <th id=\"T_093d30dc_08bc_11eb_8212_7429af293810level0_row128\" class=\"row_heading level0 row128\" >128</th>\n",
       "                        <td id=\"T_093d30dc_08bc_11eb_8212_7429af293810row128_col0\" class=\"data row128 col0\" >160 min</td>\n",
       "                        <td id=\"T_093d30dc_08bc_11eb_8212_7429af293810row128_col1\" class=\"data row128 col1\" >5</td>\n",
       "            </tr>\n",
       "            <tr>\n",
       "                        <th id=\"T_093d30dc_08bc_11eb_8212_7429af293810level0_row129\" class=\"row_heading level0 row129\" >129</th>\n",
       "                        <td id=\"T_093d30dc_08bc_11eb_8212_7429af293810row129_col0\" class=\"data row129 col0\" >30 min</td>\n",
       "                        <td id=\"T_093d30dc_08bc_11eb_8212_7429af293810row129_col1\" class=\"data row129 col1\" >5</td>\n",
       "            </tr>\n",
       "            <tr>\n",
       "                        <th id=\"T_093d30dc_08bc_11eb_8212_7429af293810level0_row130\" class=\"row_heading level0 row130\" >130</th>\n",
       "                        <td id=\"T_093d30dc_08bc_11eb_8212_7429af293810row130_col0\" class=\"data row130 col0\" >28 min</td>\n",
       "                        <td id=\"T_093d30dc_08bc_11eb_8212_7429af293810row130_col1\" class=\"data row130 col1\" >5</td>\n",
       "            </tr>\n",
       "            <tr>\n",
       "                        <th id=\"T_093d30dc_08bc_11eb_8212_7429af293810level0_row131\" class=\"row_heading level0 row131\" >131</th>\n",
       "                        <td id=\"T_093d30dc_08bc_11eb_8212_7429af293810row131_col0\" class=\"data row131 col0\" >157 min</td>\n",
       "                        <td id=\"T_093d30dc_08bc_11eb_8212_7429af293810row131_col1\" class=\"data row131 col1\" >4</td>\n",
       "            </tr>\n",
       "            <tr>\n",
       "                        <th id=\"T_093d30dc_08bc_11eb_8212_7429af293810level0_row132\" class=\"row_heading level0 row132\" >132</th>\n",
       "                        <td id=\"T_093d30dc_08bc_11eb_8212_7429af293810row132_col0\" class=\"data row132 col0\" >152 min</td>\n",
       "                        <td id=\"T_093d30dc_08bc_11eb_8212_7429af293810row132_col1\" class=\"data row132 col1\" >4</td>\n",
       "            </tr>\n",
       "            <tr>\n",
       "                        <th id=\"T_093d30dc_08bc_11eb_8212_7429af293810level0_row133\" class=\"row_heading level0 row133\" >133</th>\n",
       "                        <td id=\"T_093d30dc_08bc_11eb_8212_7429af293810row133_col0\" class=\"data row133 col0\" >170 min</td>\n",
       "                        <td id=\"T_093d30dc_08bc_11eb_8212_7429af293810row133_col1\" class=\"data row133 col1\" >4</td>\n",
       "            </tr>\n",
       "            <tr>\n",
       "                        <th id=\"T_093d30dc_08bc_11eb_8212_7429af293810level0_row134\" class=\"row_heading level0 row134\" >134</th>\n",
       "                        <td id=\"T_093d30dc_08bc_11eb_8212_7429af293810row134_col0\" class=\"data row134 col0\" >38 min</td>\n",
       "                        <td id=\"T_093d30dc_08bc_11eb_8212_7429af293810row134_col1\" class=\"data row134 col1\" >4</td>\n",
       "            </tr>\n",
       "            <tr>\n",
       "                        <th id=\"T_093d30dc_08bc_11eb_8212_7429af293810level0_row135\" class=\"row_heading level0 row135\" >135</th>\n",
       "                        <td id=\"T_093d30dc_08bc_11eb_8212_7429af293810row135_col0\" class=\"data row135 col0\" >185 min</td>\n",
       "                        <td id=\"T_093d30dc_08bc_11eb_8212_7429af293810row135_col1\" class=\"data row135 col1\" >4</td>\n",
       "            </tr>\n",
       "            <tr>\n",
       "                        <th id=\"T_093d30dc_08bc_11eb_8212_7429af293810level0_row136\" class=\"row_heading level0 row136\" >136</th>\n",
       "                        <td id=\"T_093d30dc_08bc_11eb_8212_7429af293810row136_col0\" class=\"data row136 col0\" >171 min</td>\n",
       "                        <td id=\"T_093d30dc_08bc_11eb_8212_7429af293810row136_col1\" class=\"data row136 col1\" >4</td>\n",
       "            </tr>\n",
       "            <tr>\n",
       "                        <th id=\"T_093d30dc_08bc_11eb_8212_7429af293810level0_row137\" class=\"row_heading level0 row137\" >137</th>\n",
       "                        <td id=\"T_093d30dc_08bc_11eb_8212_7429af293810row137_col0\" class=\"data row137 col0\" >32 min</td>\n",
       "                        <td id=\"T_093d30dc_08bc_11eb_8212_7429af293810row137_col1\" class=\"data row137 col1\" >4</td>\n",
       "            </tr>\n",
       "            <tr>\n",
       "                        <th id=\"T_093d30dc_08bc_11eb_8212_7429af293810level0_row138\" class=\"row_heading level0 row138\" >138</th>\n",
       "                        <td id=\"T_093d30dc_08bc_11eb_8212_7429af293810row138_col0\" class=\"data row138 col0\" >177 min</td>\n",
       "                        <td id=\"T_093d30dc_08bc_11eb_8212_7429af293810row138_col1\" class=\"data row138 col1\" >3</td>\n",
       "            </tr>\n",
       "            <tr>\n",
       "                        <th id=\"T_093d30dc_08bc_11eb_8212_7429af293810level0_row139\" class=\"row_heading level0 row139\" >139</th>\n",
       "                        <td id=\"T_093d30dc_08bc_11eb_8212_7429af293810row139_col0\" class=\"data row139 col0\" >176 min</td>\n",
       "                        <td id=\"T_093d30dc_08bc_11eb_8212_7429af293810row139_col1\" class=\"data row139 col1\" >3</td>\n",
       "            </tr>\n",
       "            <tr>\n",
       "                        <th id=\"T_093d30dc_08bc_11eb_8212_7429af293810level0_row140\" class=\"row_heading level0 row140\" >140</th>\n",
       "                        <td id=\"T_093d30dc_08bc_11eb_8212_7429af293810row140_col0\" class=\"data row140 col0\" >173 min</td>\n",
       "                        <td id=\"T_093d30dc_08bc_11eb_8212_7429af293810row140_col1\" class=\"data row140 col1\" >3</td>\n",
       "            </tr>\n",
       "            <tr>\n",
       "                        <th id=\"T_093d30dc_08bc_11eb_8212_7429af293810level0_row141\" class=\"row_heading level0 row141\" >141</th>\n",
       "                        <td id=\"T_093d30dc_08bc_11eb_8212_7429af293810row141_col0\" class=\"data row141 col0\" >172 min</td>\n",
       "                        <td id=\"T_093d30dc_08bc_11eb_8212_7429af293810row141_col1\" class=\"data row141 col1\" >3</td>\n",
       "            </tr>\n",
       "            <tr>\n",
       "                        <th id=\"T_093d30dc_08bc_11eb_8212_7429af293810level0_row142\" class=\"row_heading level0 row142\" >142</th>\n",
       "                        <td id=\"T_093d30dc_08bc_11eb_8212_7429af293810row142_col0\" class=\"data row142 col0\" >164 min</td>\n",
       "                        <td id=\"T_093d30dc_08bc_11eb_8212_7429af293810row142_col1\" class=\"data row142 col1\" >3</td>\n",
       "            </tr>\n",
       "            <tr>\n",
       "                        <th id=\"T_093d30dc_08bc_11eb_8212_7429af293810level0_row143\" class=\"row_heading level0 row143\" >143</th>\n",
       "                        <td id=\"T_093d30dc_08bc_11eb_8212_7429af293810row143_col0\" class=\"data row143 col0\" >27 min</td>\n",
       "                        <td id=\"T_093d30dc_08bc_11eb_8212_7429af293810row143_col1\" class=\"data row143 col1\" >2</td>\n",
       "            </tr>\n",
       "            <tr>\n",
       "                        <th id=\"T_093d30dc_08bc_11eb_8212_7429af293810level0_row144\" class=\"row_heading level0 row144\" >144</th>\n",
       "                        <td id=\"T_093d30dc_08bc_11eb_8212_7429af293810row144_col0\" class=\"data row144 col0\" >19 min</td>\n",
       "                        <td id=\"T_093d30dc_08bc_11eb_8212_7429af293810row144_col1\" class=\"data row144 col1\" >2</td>\n",
       "            </tr>\n",
       "            <tr>\n",
       "                        <th id=\"T_093d30dc_08bc_11eb_8212_7429af293810level0_row145\" class=\"row_heading level0 row145\" >145</th>\n",
       "                        <td id=\"T_093d30dc_08bc_11eb_8212_7429af293810row145_col0\" class=\"data row145 col0\" >31 min</td>\n",
       "                        <td id=\"T_093d30dc_08bc_11eb_8212_7429af293810row145_col1\" class=\"data row145 col1\" >2</td>\n",
       "            </tr>\n",
       "            <tr>\n",
       "                        <th id=\"T_093d30dc_08bc_11eb_8212_7429af293810level0_row146\" class=\"row_heading level0 row146\" >146</th>\n",
       "                        <td id=\"T_093d30dc_08bc_11eb_8212_7429af293810row146_col0\" class=\"data row146 col0\" >14 min</td>\n",
       "                        <td id=\"T_093d30dc_08bc_11eb_8212_7429af293810row146_col1\" class=\"data row146 col1\" >2</td>\n",
       "            </tr>\n",
       "            <tr>\n",
       "                        <th id=\"T_093d30dc_08bc_11eb_8212_7429af293810level0_row147\" class=\"row_heading level0 row147\" >147</th>\n",
       "                        <td id=\"T_093d30dc_08bc_11eb_8212_7429af293810row147_col0\" class=\"data row147 col0\" >179 min</td>\n",
       "                        <td id=\"T_093d30dc_08bc_11eb_8212_7429af293810row147_col1\" class=\"data row147 col1\" >2</td>\n",
       "            </tr>\n",
       "            <tr>\n",
       "                        <th id=\"T_093d30dc_08bc_11eb_8212_7429af293810level0_row148\" class=\"row_heading level0 row148\" >148</th>\n",
       "                        <td id=\"T_093d30dc_08bc_11eb_8212_7429af293810row148_col0\" class=\"data row148 col0\" >35 min</td>\n",
       "                        <td id=\"T_093d30dc_08bc_11eb_8212_7429af293810row148_col1\" class=\"data row148 col1\" >2</td>\n",
       "            </tr>\n",
       "            <tr>\n",
       "                        <th id=\"T_093d30dc_08bc_11eb_8212_7429af293810level0_row149\" class=\"row_heading level0 row149\" >149</th>\n",
       "                        <td id=\"T_093d30dc_08bc_11eb_8212_7429af293810row149_col0\" class=\"data row149 col0\" >169 min</td>\n",
       "                        <td id=\"T_093d30dc_08bc_11eb_8212_7429af293810row149_col1\" class=\"data row149 col1\" >2</td>\n",
       "            </tr>\n",
       "            <tr>\n",
       "                        <th id=\"T_093d30dc_08bc_11eb_8212_7429af293810level0_row150\" class=\"row_heading level0 row150\" >150</th>\n",
       "                        <td id=\"T_093d30dc_08bc_11eb_8212_7429af293810row150_col0\" class=\"data row150 col0\" >12 min</td>\n",
       "                        <td id=\"T_093d30dc_08bc_11eb_8212_7429af293810row150_col1\" class=\"data row150 col1\" >2</td>\n",
       "            </tr>\n",
       "            <tr>\n",
       "                        <th id=\"T_093d30dc_08bc_11eb_8212_7429af293810level0_row151\" class=\"row_heading level0 row151\" >151</th>\n",
       "                        <td id=\"T_093d30dc_08bc_11eb_8212_7429af293810row151_col0\" class=\"data row151 col0\" >41 min</td>\n",
       "                        <td id=\"T_093d30dc_08bc_11eb_8212_7429af293810row151_col1\" class=\"data row151 col1\" >2</td>\n",
       "            </tr>\n",
       "            <tr>\n",
       "                        <th id=\"T_093d30dc_08bc_11eb_8212_7429af293810level0_row152\" class=\"row_heading level0 row152\" >152</th>\n",
       "                        <td id=\"T_093d30dc_08bc_11eb_8212_7429af293810row152_col0\" class=\"data row152 col0\" >10 min</td>\n",
       "                        <td id=\"T_093d30dc_08bc_11eb_8212_7429af293810row152_col1\" class=\"data row152 col1\" >1</td>\n",
       "            </tr>\n",
       "            <tr>\n",
       "                        <th id=\"T_093d30dc_08bc_11eb_8212_7429af293810level0_row153\" class=\"row_heading level0 row153\" >153</th>\n",
       "                        <td id=\"T_093d30dc_08bc_11eb_8212_7429af293810row153_col0\" class=\"data row153 col0\" >43 min</td>\n",
       "                        <td id=\"T_093d30dc_08bc_11eb_8212_7429af293810row153_col1\" class=\"data row153 col1\" >1</td>\n",
       "            </tr>\n",
       "            <tr>\n",
       "                        <th id=\"T_093d30dc_08bc_11eb_8212_7429af293810level0_row154\" class=\"row_heading level0 row154\" >154</th>\n",
       "                        <td id=\"T_093d30dc_08bc_11eb_8212_7429af293810row154_col0\" class=\"data row154 col0\" >195 min</td>\n",
       "                        <td id=\"T_093d30dc_08bc_11eb_8212_7429af293810row154_col1\" class=\"data row154 col1\" >1</td>\n",
       "            </tr>\n",
       "            <tr>\n",
       "                        <th id=\"T_093d30dc_08bc_11eb_8212_7429af293810level0_row155\" class=\"row_heading level0 row155\" >155</th>\n",
       "                        <td id=\"T_093d30dc_08bc_11eb_8212_7429af293810row155_col0\" class=\"data row155 col0\" >11 min</td>\n",
       "                        <td id=\"T_093d30dc_08bc_11eb_8212_7429af293810row155_col1\" class=\"data row155 col1\" >1</td>\n",
       "            </tr>\n",
       "            <tr>\n",
       "                        <th id=\"T_093d30dc_08bc_11eb_8212_7429af293810level0_row156\" class=\"row_heading level0 row156\" >156</th>\n",
       "                        <td id=\"T_093d30dc_08bc_11eb_8212_7429af293810row156_col0\" class=\"data row156 col0\" >15 min</td>\n",
       "                        <td id=\"T_093d30dc_08bc_11eb_8212_7429af293810row156_col1\" class=\"data row156 col1\" >1</td>\n",
       "            </tr>\n",
       "            <tr>\n",
       "                        <th id=\"T_093d30dc_08bc_11eb_8212_7429af293810level0_row157\" class=\"row_heading level0 row157\" >157</th>\n",
       "                        <td id=\"T_093d30dc_08bc_11eb_8212_7429af293810row157_col0\" class=\"data row157 col0\" >167 min</td>\n",
       "                        <td id=\"T_093d30dc_08bc_11eb_8212_7429af293810row157_col1\" class=\"data row157 col1\" >1</td>\n",
       "            </tr>\n",
       "            <tr>\n",
       "                        <th id=\"T_093d30dc_08bc_11eb_8212_7429af293810level0_row158\" class=\"row_heading level0 row158\" >158</th>\n",
       "                        <td id=\"T_093d30dc_08bc_11eb_8212_7429af293810row158_col0\" class=\"data row158 col0\" >174 min</td>\n",
       "                        <td id=\"T_093d30dc_08bc_11eb_8212_7429af293810row158_col1\" class=\"data row158 col1\" >1</td>\n",
       "            </tr>\n",
       "            <tr>\n",
       "                        <th id=\"T_093d30dc_08bc_11eb_8212_7429af293810level0_row159\" class=\"row_heading level0 row159\" >159</th>\n",
       "                        <td id=\"T_093d30dc_08bc_11eb_8212_7429af293810row159_col0\" class=\"data row159 col0\" >178 min</td>\n",
       "                        <td id=\"T_093d30dc_08bc_11eb_8212_7429af293810row159_col1\" class=\"data row159 col1\" >1</td>\n",
       "            </tr>\n",
       "            <tr>\n",
       "                        <th id=\"T_093d30dc_08bc_11eb_8212_7429af293810level0_row160\" class=\"row_heading level0 row160\" >160</th>\n",
       "                        <td id=\"T_093d30dc_08bc_11eb_8212_7429af293810row160_col0\" class=\"data row160 col0\" >18 min</td>\n",
       "                        <td id=\"T_093d30dc_08bc_11eb_8212_7429af293810row160_col1\" class=\"data row160 col1\" >1</td>\n",
       "            </tr>\n",
       "            <tr>\n",
       "                        <th id=\"T_093d30dc_08bc_11eb_8212_7429af293810level0_row161\" class=\"row_heading level0 row161\" >161</th>\n",
       "                        <td id=\"T_093d30dc_08bc_11eb_8212_7429af293810row161_col0\" class=\"data row161 col0\" >180 min</td>\n",
       "                        <td id=\"T_093d30dc_08bc_11eb_8212_7429af293810row161_col1\" class=\"data row161 col1\" >1</td>\n",
       "            </tr>\n",
       "            <tr>\n",
       "                        <th id=\"T_093d30dc_08bc_11eb_8212_7429af293810level0_row162\" class=\"row_heading level0 row162\" >162</th>\n",
       "                        <td id=\"T_093d30dc_08bc_11eb_8212_7429af293810row162_col0\" class=\"data row162 col0\" >181 min</td>\n",
       "                        <td id=\"T_093d30dc_08bc_11eb_8212_7429af293810row162_col1\" class=\"data row162 col1\" >1</td>\n",
       "            </tr>\n",
       "            <tr>\n",
       "                        <th id=\"T_093d30dc_08bc_11eb_8212_7429af293810level0_row163\" class=\"row_heading level0 row163\" >163</th>\n",
       "                        <td id=\"T_093d30dc_08bc_11eb_8212_7429af293810row163_col0\" class=\"data row163 col0\" >182 min</td>\n",
       "                        <td id=\"T_093d30dc_08bc_11eb_8212_7429af293810row163_col1\" class=\"data row163 col1\" >1</td>\n",
       "            </tr>\n",
       "            <tr>\n",
       "                        <th id=\"T_093d30dc_08bc_11eb_8212_7429af293810level0_row164\" class=\"row_heading level0 row164\" >164</th>\n",
       "                        <td id=\"T_093d30dc_08bc_11eb_8212_7429af293810row164_col0\" class=\"data row164 col0\" >187 min</td>\n",
       "                        <td id=\"T_093d30dc_08bc_11eb_8212_7429af293810row164_col1\" class=\"data row164 col1\" >1</td>\n",
       "            </tr>\n",
       "            <tr>\n",
       "                        <th id=\"T_093d30dc_08bc_11eb_8212_7429af293810level0_row165\" class=\"row_heading level0 row165\" >165</th>\n",
       "                        <td id=\"T_093d30dc_08bc_11eb_8212_7429af293810row165_col0\" class=\"data row165 col0\" >189 min</td>\n",
       "                        <td id=\"T_093d30dc_08bc_11eb_8212_7429af293810row165_col1\" class=\"data row165 col1\" >1</td>\n",
       "            </tr>\n",
       "            <tr>\n",
       "                        <th id=\"T_093d30dc_08bc_11eb_8212_7429af293810level0_row166\" class=\"row_heading level0 row166\" >166</th>\n",
       "                        <td id=\"T_093d30dc_08bc_11eb_8212_7429af293810row166_col0\" class=\"data row166 col0\" >190 min</td>\n",
       "                        <td id=\"T_093d30dc_08bc_11eb_8212_7429af293810row166_col1\" class=\"data row166 col1\" >1</td>\n",
       "            </tr>\n",
       "            <tr>\n",
       "                        <th id=\"T_093d30dc_08bc_11eb_8212_7429af293810level0_row167\" class=\"row_heading level0 row167\" >167</th>\n",
       "                        <td id=\"T_093d30dc_08bc_11eb_8212_7429af293810row167_col0\" class=\"data row167 col0\" >192 min</td>\n",
       "                        <td id=\"T_093d30dc_08bc_11eb_8212_7429af293810row167_col1\" class=\"data row167 col1\" >1</td>\n",
       "            </tr>\n",
       "            <tr>\n",
       "                        <th id=\"T_093d30dc_08bc_11eb_8212_7429af293810level0_row168\" class=\"row_heading level0 row168\" >168</th>\n",
       "                        <td id=\"T_093d30dc_08bc_11eb_8212_7429af293810row168_col0\" class=\"data row168 col0\" >193 min</td>\n",
       "                        <td id=\"T_093d30dc_08bc_11eb_8212_7429af293810row168_col1\" class=\"data row168 col1\" >1</td>\n",
       "            </tr>\n",
       "            <tr>\n",
       "                        <th id=\"T_093d30dc_08bc_11eb_8212_7429af293810level0_row169\" class=\"row_heading level0 row169\" >169</th>\n",
       "                        <td id=\"T_093d30dc_08bc_11eb_8212_7429af293810row169_col0\" class=\"data row169 col0\" >196 min</td>\n",
       "                        <td id=\"T_093d30dc_08bc_11eb_8212_7429af293810row169_col1\" class=\"data row169 col1\" >1</td>\n",
       "            </tr>\n",
       "            <tr>\n",
       "                        <th id=\"T_093d30dc_08bc_11eb_8212_7429af293810level0_row170\" class=\"row_heading level0 row170\" >170</th>\n",
       "                        <td id=\"T_093d30dc_08bc_11eb_8212_7429af293810row170_col0\" class=\"data row170 col0\" >37 min</td>\n",
       "                        <td id=\"T_093d30dc_08bc_11eb_8212_7429af293810row170_col1\" class=\"data row170 col1\" >1</td>\n",
       "            </tr>\n",
       "            <tr>\n",
       "                        <th id=\"T_093d30dc_08bc_11eb_8212_7429af293810level0_row171\" class=\"row_heading level0 row171\" >171</th>\n",
       "                        <td id=\"T_093d30dc_08bc_11eb_8212_7429af293810row171_col0\" class=\"data row171 col0\" >20 min</td>\n",
       "                        <td id=\"T_093d30dc_08bc_11eb_8212_7429af293810row171_col1\" class=\"data row171 col1\" >1</td>\n",
       "            </tr>\n",
       "            <tr>\n",
       "                        <th id=\"T_093d30dc_08bc_11eb_8212_7429af293810level0_row172\" class=\"row_heading level0 row172\" >172</th>\n",
       "                        <td id=\"T_093d30dc_08bc_11eb_8212_7429af293810row172_col0\" class=\"data row172 col0\" >200 min</td>\n",
       "                        <td id=\"T_093d30dc_08bc_11eb_8212_7429af293810row172_col1\" class=\"data row172 col1\" >1</td>\n",
       "            </tr>\n",
       "            <tr>\n",
       "                        <th id=\"T_093d30dc_08bc_11eb_8212_7429af293810level0_row173\" class=\"row_heading level0 row173\" >173</th>\n",
       "                        <td id=\"T_093d30dc_08bc_11eb_8212_7429af293810row173_col0\" class=\"data row173 col0\" >201 min</td>\n",
       "                        <td id=\"T_093d30dc_08bc_11eb_8212_7429af293810row173_col1\" class=\"data row173 col1\" >1</td>\n",
       "            </tr>\n",
       "            <tr>\n",
       "                        <th id=\"T_093d30dc_08bc_11eb_8212_7429af293810level0_row174\" class=\"row_heading level0 row174\" >174</th>\n",
       "                        <td id=\"T_093d30dc_08bc_11eb_8212_7429af293810row174_col0\" class=\"data row174 col0\" >203 min</td>\n",
       "                        <td id=\"T_093d30dc_08bc_11eb_8212_7429af293810row174_col1\" class=\"data row174 col1\" >1</td>\n",
       "            </tr>\n",
       "            <tr>\n",
       "                        <th id=\"T_093d30dc_08bc_11eb_8212_7429af293810level0_row175\" class=\"row_heading level0 row175\" >175</th>\n",
       "                        <td id=\"T_093d30dc_08bc_11eb_8212_7429af293810row175_col0\" class=\"data row175 col0\" >205 min</td>\n",
       "                        <td id=\"T_093d30dc_08bc_11eb_8212_7429af293810row175_col1\" class=\"data row175 col1\" >1</td>\n",
       "            </tr>\n",
       "            <tr>\n",
       "                        <th id=\"T_093d30dc_08bc_11eb_8212_7429af293810level0_row176\" class=\"row_heading level0 row176\" >176</th>\n",
       "                        <td id=\"T_093d30dc_08bc_11eb_8212_7429af293810row176_col0\" class=\"data row176 col0\" >209 min</td>\n",
       "                        <td id=\"T_093d30dc_08bc_11eb_8212_7429af293810row176_col1\" class=\"data row176 col1\" >1</td>\n",
       "            </tr>\n",
       "            <tr>\n",
       "                        <th id=\"T_093d30dc_08bc_11eb_8212_7429af293810level0_row177\" class=\"row_heading level0 row177\" >177</th>\n",
       "                        <td id=\"T_093d30dc_08bc_11eb_8212_7429af293810row177_col0\" class=\"data row177 col0\" >214 min</td>\n",
       "                        <td id=\"T_093d30dc_08bc_11eb_8212_7429af293810row177_col1\" class=\"data row177 col1\" >1</td>\n",
       "            </tr>\n",
       "            <tr>\n",
       "                        <th id=\"T_093d30dc_08bc_11eb_8212_7429af293810level0_row178\" class=\"row_heading level0 row178\" >178</th>\n",
       "                        <td id=\"T_093d30dc_08bc_11eb_8212_7429af293810row178_col0\" class=\"data row178 col0\" >224 min</td>\n",
       "                        <td id=\"T_093d30dc_08bc_11eb_8212_7429af293810row178_col1\" class=\"data row178 col1\" >1</td>\n",
       "            </tr>\n",
       "            <tr>\n",
       "                        <th id=\"T_093d30dc_08bc_11eb_8212_7429af293810level0_row179\" class=\"row_heading level0 row179\" >179</th>\n",
       "                        <td id=\"T_093d30dc_08bc_11eb_8212_7429af293810row179_col0\" class=\"data row179 col0\" >228 min</td>\n",
       "                        <td id=\"T_093d30dc_08bc_11eb_8212_7429af293810row179_col1\" class=\"data row179 col1\" >1</td>\n",
       "            </tr>\n",
       "            <tr>\n",
       "                        <th id=\"T_093d30dc_08bc_11eb_8212_7429af293810level0_row180\" class=\"row_heading level0 row180\" >180</th>\n",
       "                        <td id=\"T_093d30dc_08bc_11eb_8212_7429af293810row180_col0\" class=\"data row180 col0\" >3 min</td>\n",
       "                        <td id=\"T_093d30dc_08bc_11eb_8212_7429af293810row180_col1\" class=\"data row180 col1\" >1</td>\n",
       "            </tr>\n",
       "            <tr>\n",
       "                        <th id=\"T_093d30dc_08bc_11eb_8212_7429af293810level0_row181\" class=\"row_heading level0 row181\" >181</th>\n",
       "                        <td id=\"T_093d30dc_08bc_11eb_8212_7429af293810row181_col0\" class=\"data row181 col0\" >312 min</td>\n",
       "                        <td id=\"T_093d30dc_08bc_11eb_8212_7429af293810row181_col1\" class=\"data row181 col1\" >1</td>\n",
       "            </tr>\n",
       "            <tr>\n",
       "                        <th id=\"T_093d30dc_08bc_11eb_8212_7429af293810level0_row182\" class=\"row_heading level0 row182\" >182</th>\n",
       "                        <td id=\"T_093d30dc_08bc_11eb_8212_7429af293810row182_col0\" class=\"data row182 col0\" >33 min</td>\n",
       "                        <td id=\"T_093d30dc_08bc_11eb_8212_7429af293810row182_col1\" class=\"data row182 col1\" >1</td>\n",
       "            </tr>\n",
       "            <tr>\n",
       "                        <th id=\"T_093d30dc_08bc_11eb_8212_7429af293810level0_row183\" class=\"row_heading level0 row183\" >183</th>\n",
       "                        <td id=\"T_093d30dc_08bc_11eb_8212_7429af293810row183_col0\" class=\"data row183 col0\" >34 min</td>\n",
       "                        <td id=\"T_093d30dc_08bc_11eb_8212_7429af293810row183_col1\" class=\"data row183 col1\" >1</td>\n",
       "            </tr>\n",
       "            <tr>\n",
       "                        <th id=\"T_093d30dc_08bc_11eb_8212_7429af293810level0_row184\" class=\"row_heading level0 row184\" >184</th>\n",
       "                        <td id=\"T_093d30dc_08bc_11eb_8212_7429af293810row184_col0\" class=\"data row184 col0\" >36 min</td>\n",
       "                        <td id=\"T_093d30dc_08bc_11eb_8212_7429af293810row184_col1\" class=\"data row184 col1\" >1</td>\n",
       "            </tr>\n",
       "            <tr>\n",
       "                        <th id=\"T_093d30dc_08bc_11eb_8212_7429af293810level0_row185\" class=\"row_heading level0 row185\" >185</th>\n",
       "                        <td id=\"T_093d30dc_08bc_11eb_8212_7429af293810row185_col0\" class=\"data row185 col0\" >191 min</td>\n",
       "                        <td id=\"T_093d30dc_08bc_11eb_8212_7429af293810row185_col1\" class=\"data row185 col1\" >1</td>\n",
       "            </tr>\n",
       "    </tbody></table>"
      ],
      "text/plain": [
       "<pandas.io.formats.style.Styler at 0x4d45ef7708>"
      ]
     },
     "execution_count": 13,
     "metadata": {},
     "output_type": "execute_result"
    }
   ],
   "source": [
    "duration_df = (\n",
    "  net[net.duration.str.contains('min', case=False)]\n",
    " .groupby('duration')\n",
    " .count()\n",
    " .sort_values(by='type', ascending=False)\n",
    " .reset_index()\n",
    " .iloc[:,:2] \n",
    ")\n",
    "duration_df.columns = ['Duration', 'Number of movies']\n",
    "\n",
    "duration_df.style.bar()"
   ]
  },
  {
   "cell_type": "markdown",
   "metadata": {},
   "source": [
    "#### На графике видно, что самая популярная продолжительность фильмов лежит в пределах 90-99 минут."
   ]
  }
 ],
 "metadata": {
  "kernelspec": {
   "display_name": "Python 3",
   "language": "python",
   "name": "python3"
  },
  "language_info": {
   "codemirror_mode": {
    "name": "ipython",
    "version": 3
   },
   "file_extension": ".py",
   "mimetype": "text/x-python",
   "name": "python",
   "nbconvert_exporter": "python",
   "pygments_lexer": "ipython3",
   "version": "3.7.6"
  }
 },
 "nbformat": 4,
 "nbformat_minor": 2
}
